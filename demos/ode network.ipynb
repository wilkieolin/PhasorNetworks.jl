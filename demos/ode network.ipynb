version https://git-lfs.github.com/spec/v1
oid sha256:2f8ca43d42cad91f5c2a421f552d3570b39c4ae9c90aba02d46efcbf163feaad
size 8413456
