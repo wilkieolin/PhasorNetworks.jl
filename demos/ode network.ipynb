{
 "cells": [
  {
   "cell_type": "code",
   "execution_count": 3,
   "metadata": {},
   "outputs": [
    {
     "name": "stderr",
     "output_type": "stream",
     "text": [
      "WARNING: replacing module PhasorNetworks.\n"
     ]
    }
   ],
   "source": [
    "include(\"../src/PhasorNetworks.jl\")\n",
    "using .PhasorNetworks, Plots, DifferentialEquations"
   ]
  },
  {
   "cell_type": "code",
   "execution_count": 4,
   "metadata": {},
   "outputs": [
    {
     "name": "stderr",
     "output_type": "stream",
     "text": [
      "\u001b[32m\u001b[1mPrecompiling\u001b[22m\u001b[39m PhasorNetworks\n",
      "\u001b[32m  ✓ \u001b[39mPhasorNetworks\n",
      "  1 dependency successfully precompiled in 10 seconds. 424 already precompiled.\n"
     ]
    }
   ],
   "source": [
    "using Lux, MLUtils, MLDatasets, OneHotArrays, Statistics, Test\n",
    "using Random: Xoshiro, AbstractRNG\n",
    "using Base: @kwdef\n",
    "using Zygote: withgradient\n",
    "using LuxDeviceUtils: cpu_device, gpu_device\n",
    "using Optimisers, ComponentArrays\n",
    "using Statistics: mean\n",
    "using LinearAlgebra: diag\n",
    "using PhasorNetworks: bind\n",
    "using Distributions: Normal\n",
    "using DifferentialEquations: Heun, Tsit5"
   ]
  },
  {
   "cell_type": "code",
   "execution_count": 5,
   "metadata": {},
   "outputs": [
    {
     "data": {
      "text/plain": [
       "Dict{Symbol, Real} with 2 entries:\n",
       "  :adaptive => false\n",
       "  :dt       => 0.01"
      ]
     },
     "execution_count": 5,
     "metadata": {},
     "output_type": "execute_result"
    }
   ],
   "source": [
    "solver_args = Dict(:adaptive => false, :dt => 0.01)"
   ]
  },
  {
   "cell_type": "code",
   "execution_count": 6,
   "metadata": {},
   "outputs": [
    {
     "data": {
      "text/plain": [
       "Neuron parameters: Period 1.0 (s)\n",
       "Current kernel duration: 0.01 (s)\n",
       "Threshold: 0.001 (V)\n"
      ]
     },
     "execution_count": 6,
     "metadata": {},
     "output_type": "execute_result"
    }
   ],
   "source": [
    "spk_args = SpikingArgs(threshold = 0.001,\n",
    "                    solver=Tsit5(), \n",
    "                    solver_args = solver_args)"
   ]
  },
  {
   "cell_type": "code",
   "execution_count": 7,
   "metadata": {},
   "outputs": [
    {
     "data": {
      "text/plain": [
       "Args"
      ]
     },
     "execution_count": 7,
     "metadata": {},
     "output_type": "execute_result"
    }
   ],
   "source": [
    "#global args for all tests\n",
    "n_x = 101\n",
    "n_y = 101\n",
    "n_vsa = 1\n",
    "epsilon = 0.10\n",
    "repeats = 10\n",
    "epsilon = 0.025\n",
    "\n",
    "\n",
    "tspan = (0.0, repeats*1.0)\n",
    "tbase = collect(tspan[1]:spk_args.solver_args[:dt]:tspan[2])\n",
    "\n",
    "@kwdef mutable struct Args\n",
    "    η::Float64 = 3e-4       ## learning rate\n",
    "    batchsize::Int = 256    ## batch size\n",
    "    epochs::Int = 10        ## number of epochs\n",
    "    use_cuda::Bool = false   ## use gpu (if cuda available)\n",
    "    rng::Xoshiro = Xoshiro(42) ## global rng\n",
    "end"
   ]
  },
  {
   "cell_type": "code",
   "execution_count": 8,
   "metadata": {},
   "outputs": [
    {
     "data": {
      "text/plain": [
       "spiking_accuracy_test (generic function with 1 method)"
      ]
     },
     "execution_count": 8,
     "metadata": {},
     "output_type": "execute_result"
    }
   ],
   "source": [
    "include(\"../test/network_tests.jl\")"
   ]
  },
  {
   "cell_type": "code",
   "execution_count": 9,
   "metadata": {},
   "outputs": [
    {
     "data": {
      "text/plain": [
       "build_spiking_mlp (generic function with 1 method)"
      ]
     },
     "execution_count": 9,
     "metadata": {},
     "output_type": "execute_result"
    }
   ],
   "source": [
    "function build_mlp(args)\n",
    "    phasor_model = Chain(LayerNorm((2,)), x -> tanh_fast.(x), x -> x, PhasorDense(2 => 128), PhasorDense(128 => 2))\n",
    "    ps, st = Lux.setup(args.rng, phasor_model)\n",
    "    return phasor_model, ps, st\n",
    "end\n",
    "\n",
    "function build_spiking_mlp(args, spk_args)\n",
    "    spk_model = Chain(LayerNorm((2,)), x -> tanh_fast.(x), MakeSpiking(spk_args, repeats), PhasorDense(2 => 128), PhasorDense(128 => 2))\n",
    "    ps, st = Lux.setup(args.rng, spk_model)\n",
    "    return spk_model, ps, st\n",
    "end"
   ]
  },
  {
   "cell_type": "code",
   "execution_count": 10,
   "metadata": {},
   "outputs": [
    {
     "data": {
      "text/plain": [
       "build_spiking_mlp_f32 (generic function with 1 method)"
      ]
     },
     "execution_count": 10,
     "metadata": {},
     "output_type": "execute_result"
    }
   ],
   "source": [
    "function build_mlp_f32(args)\n",
    "    phasor_model = Chain(LayerNorm((2,)), x -> tanh_fast.(x), x -> x, PhasorDenseF32(2 => 128), PhasorDenseF32(128 => 2))\n",
    "    ps, st = Lux.setup(args.rng, phasor_model)\n",
    "    return phasor_model, ps, st\n",
    "end\n",
    "\n",
    "function build_spiking_mlp_f32(args, spk_args)\n",
    "    spk_model = Chain(LayerNorm((2,)), x -> tanh_fast.(x), MakeSpiking(spk_args, repeats), PhasorDenseF32(2 => 128), PhasorDenseF32(128 => 2))\n",
    "    ps, st = Lux.setup(args.rng, spk_model)\n",
    "    return spk_model, ps, st\n",
    "end"
   ]
  },
  {
   "cell_type": "code",
   "execution_count": 11,
   "metadata": {},
   "outputs": [],
   "source": [
    "import .PhasorNetworks: v_bundle_project, neuron_constant, spike_current, bias_current, gaussian_kernel, is_active"
   ]
  },
  {
   "cell_type": "code",
   "execution_count": 12,
   "metadata": {},
   "outputs": [
    {
     "data": {
      "text/plain": [
       "Args(0.0003, 256, 10, false, Xoshiro(0xa379de7eeeb2a4e8, 0x953dccb6b532b3af, 0xf597b8ff8cfd652a, 0xccd7337c571680d1, 0xc90c4a0730db3f7e))"
      ]
     },
     "execution_count": 12,
     "metadata": {},
     "output_type": "execute_result"
    }
   ],
   "source": [
    "args = Args()"
   ]
  },
  {
   "cell_type": "code",
   "execution_count": 13,
   "metadata": {},
   "outputs": [
    {
     "data": {
      "text/plain": [
       "([0.4363590795046628 -0.020726939563912576 … -0.014802110970796872 -0.0019893102515646105; -0.17784306532747968 0.3038012525038328 … -0.07276908176492998 -0.005627426425963785], Bool[0 0 … 1 1; 1 1 … 0 0])"
      ]
     },
     "execution_count": 13,
     "metadata": {},
     "output_type": "execute_result"
    }
   ],
   "source": [
    "train_loader, test_loader = getdata(args)\n",
    "x, y = first(train_loader)"
   ]
  },
  {
   "cell_type": "markdown",
   "metadata": {},
   "source": [
    "# Test ODE Layer"
   ]
  },
  {
   "cell_type": "code",
   "execution_count": 14,
   "metadata": {},
   "outputs": [
    {
     "data": {
      "text/plain": [
       "((layer_1 = (bias = Float32[0.0; 0.0;;], scale = Float32[1.0; 1.0;;]), layer_2 = NamedTuple()), (layer_1 = NamedTuple(), layer_2 = NamedTuple()))"
      ]
     },
     "execution_count": 14,
     "metadata": {},
     "output_type": "execute_result"
    }
   ],
   "source": [
    "to_phase = Chain(LayerNorm((2,)), x -> tanh_fast.(x))\n",
    "ps_phase, st_phase = Lux.setup(args.rng, to_phase)"
   ]
  },
  {
   "cell_type": "code",
   "execution_count": 15,
   "metadata": {},
   "outputs": [
    {
     "data": {
      "text/plain": [
       "([0.9711341735396107 -0.1628081753962095 … -0.1339564920906035 -0.07084449409788965; -0.7382633272485227 0.8960409235587877 … -0.39980853999123117 -0.08884499833474777], (layer_1 = NamedTuple(), layer_2 = NamedTuple()))"
      ]
     },
     "execution_count": 15,
     "metadata": {},
     "output_type": "execute_result"
    }
   ],
   "source": [
    "p0, _ = to_phase(x, ps_phase, st_phase)"
   ]
  },
  {
   "cell_type": "code",
   "execution_count": 16,
   "metadata": {},
   "outputs": [
    {
     "data": {
      "image/png": "[encoded data removed]",
      "image/svg+xml": [
       "<?xml version=\"1.0\" encoding=\"utf-8\"?>\n",
       "<svg xmlns=\"http://www.w3.org/2000/svg\" xmlns:xlink=\"http://www.w3.org/1999/xlink\" width=\"600\" height=\"400\" viewBox=\"0 0 2400 1600\">\n",
       "<defs>\n",
       "  <clipPath id=\"clip720\">\n",
       "    <rect x=\"0\" y=\"0\" width=\"2400\" height=\"1600\"/>\n",
       "  </clipPath>\n",
       "</defs>\n",
       "<path clip-path=\"url(#clip720)\" d=\"M0 1600 L2400 1600 L2400 8.88178e-14 L0 8.88178e-14  Z\" fill=\"#ffffff\" fill-rule=\"evenodd\" fill-opacity=\"1\"/>\n",
       "<defs>\n",
       "  <clipPath id=\"clip721\">\n",
       "    <rect x=\"480\" y=\"0\" width=\"1681\" height=\"1600\"/>\n",
       "  </clipPath>\n",
       "</defs>\n",
       "<path clip-path=\"url(#clip720)\" d=\"M169.121 1486.45 L2352.76 1486.45 L2352.76 47.2441 L169.121 47.2441  Z\" fill=\"#ffffff\" fill-rule=\"evenodd\" fill-opacity=\"1\"/>\n",
       "<defs>\n",
       "  <clipPath id=\"clip722\">\n",
       "    <rect x=\"169\" y=\"47\" width=\"2185\" height=\"1440\"/>\n",
       "  </clipPath>\n",
       "</defs>\n",
       "<polyline clip-path=\"url(#clip722)\" style=\"stroke:#000000; stroke-linecap:round; stroke-linejoin:round; stroke-width:2; stroke-opacity:0.1; fill:none\" points=\"289.225,1486.45 289.225,47.2441 \"/>\n",
       "<polyline clip-path=\"url(#clip722)\" style=\"stroke:#000000; stroke-linecap:round; stroke-linejoin:round; stroke-width:2; stroke-opacity:0.1; fill:none\" points=\"775.082,1486.45 775.082,47.2441 \"/>\n",
       "<polyline clip-path=\"url(#clip722)\" style=\"stroke:#000000; stroke-linecap:round; stroke-linejoin:round; stroke-width:2; stroke-opacity:0.1; fill:none\" points=\"1260.94,1486.45 1260.94,47.2441 \"/>\n",
       "<polyline clip-path=\"url(#clip722)\" style=\"stroke:#000000; stroke-linecap:round; stroke-linejoin:round; stroke-width:2; stroke-opacity:0.1; fill:none\" points=\"1746.8,1486.45 1746.8,47.2441 \"/>\n",
       "<polyline clip-path=\"url(#clip722)\" style=\"stroke:#000000; stroke-linecap:round; stroke-linejoin:round; stroke-width:2; stroke-opacity:0.1; fill:none\" points=\"2232.65,1486.45 2232.65,47.2441 \"/>\n",
       "<polyline clip-path=\"url(#clip720)\" style=\"stroke:#000000; stroke-linecap:round; stroke-linejoin:round; stroke-width:4; stroke-opacity:1; fill:none\" points=\"169.121,1486.45 2352.76,1486.45 \"/>\n",
       "<polyline clip-path=\"url(#clip720)\" style=\"stroke:#000000; stroke-linecap:round; stroke-linejoin:round; stroke-width:4; stroke-opacity:1; fill:none\" points=\"289.225,1486.45 289.225,1467.55 \"/>\n",
       "<polyline clip-path=\"url(#clip720)\" style=\"stroke:#000000; stroke-linecap:round; stroke-linejoin:round; stroke-width:4; stroke-opacity:1; fill:none\" points=\"775.082,1486.45 775.082,1467.55 \"/>\n",
       "<polyline clip-path=\"url(#clip720)\" style=\"stroke:#000000; stroke-linecap:round; stroke-linejoin:round; stroke-width:4; stroke-opacity:1; fill:none\" points=\"1260.94,1486.45 1260.94,1467.55 \"/>\n",
       "<polyline clip-path=\"url(#clip720)\" style=\"stroke:#000000; stroke-linecap:round; stroke-linejoin:round; stroke-width:4; stroke-opacity:1; fill:none\" points=\"1746.8,1486.45 1746.8,1467.55 \"/>\n",
       "<polyline clip-path=\"url(#clip720)\" style=\"stroke:#000000; stroke-linecap:round; stroke-linejoin:round; stroke-width:4; stroke-opacity:1; fill:none\" points=\"2232.65,1486.45 2232.65,1467.55 \"/>\n",
       "<path clip-path=\"url(#clip720)\" d=\"M235.753 1532.02 L265.429 1532.02 L265.429 1535.95 L235.753 1535.95 L235.753 1532.02 Z\" fill=\"#000000\" fill-rule=\"nonzero\" fill-opacity=\"1\" /><path clip-path=\"url(#clip720)\" d=\"M276.332 1544.91 L283.971 1544.91 L283.971 1518.55 L275.66 1520.21 L275.66 1515.95 L283.924 1514.29 L288.6 1514.29 L288.6 1544.91 L296.239 1544.91 L296.239 1548.85 L276.332 1548.85 L276.332 1544.91 Z\" fill=\"#000000\" fill-rule=\"nonzero\" fill-opacity=\"1\" /><path clip-path=\"url(#clip720)\" d=\"M305.683 1542.97 L310.568 1542.97 L310.568 1548.85 L305.683 1548.85 L305.683 1542.97 Z\" fill=\"#000000\" fill-rule=\"nonzero\" fill-opacity=\"1\" /><path clip-path=\"url(#clip720)\" d=\"M330.753 1517.37 Q327.142 1517.37 325.313 1520.93 Q323.507 1524.47 323.507 1531.6 Q323.507 1538.71 325.313 1542.27 Q327.142 1545.82 330.753 1545.82 Q334.387 1545.82 336.192 1542.27 Q338.021 1538.71 338.021 1531.6 Q338.021 1524.47 336.192 1520.93 Q334.387 1517.37 330.753 1517.37 M330.753 1513.66 Q336.563 1513.66 339.618 1518.27 Q342.697 1522.85 342.697 1531.6 Q342.697 1540.33 339.618 1544.94 Q336.563 1549.52 330.753 1549.52 Q324.943 1549.52 321.864 1544.94 Q318.808 1540.33 318.808 1531.6 Q318.808 1522.85 321.864 1518.27 Q324.943 1513.66 330.753 1513.66 Z\" fill=\"#000000\" fill-rule=\"nonzero\" fill-opacity=\"1\" /><path clip-path=\"url(#clip720)\" d=\"M722.108 1532.02 L751.783 1532.02 L751.783 1535.95 L722.108 1535.95 L722.108 1532.02 Z\" fill=\"#000000\" fill-rule=\"nonzero\" fill-opacity=\"1\" /><path clip-path=\"url(#clip720)\" d=\"M771.876 1517.37 Q768.265 1517.37 766.436 1520.93 Q764.631 1524.47 764.631 1531.6 Q764.631 1538.71 766.436 1542.27 Q768.265 1545.82 771.876 1545.82 Q775.51 1545.82 777.316 1542.27 Q779.144 1538.71 779.144 1531.6 Q779.144 1524.47 777.316 1520.93 Q775.51 1517.37 771.876 1517.37 M771.876 1513.66 Q777.686 1513.66 780.742 1518.27 Q783.82 1522.85 783.82 1531.6 Q783.82 1540.33 780.742 1544.94 Q777.686 1549.52 771.876 1549.52 Q766.066 1549.52 762.987 1544.94 Q759.931 1540.33 759.931 1531.6 Q759.931 1522.85 762.987 1518.27 Q766.066 1513.66 771.876 1513.66 Z\" fill=\"#000000\" fill-rule=\"nonzero\" fill-opacity=\"1\" /><path clip-path=\"url(#clip720)\" d=\"M792.038 1542.97 L796.922 1542.97 L796.922 1548.85 L792.038 1548.85 L792.038 1542.97 Z\" fill=\"#000000\" fill-rule=\"nonzero\" fill-opacity=\"1\" /><path clip-path=\"url(#clip720)\" d=\"M807.153 1514.29 L825.51 1514.29 L825.51 1518.22 L811.436 1518.22 L811.436 1526.7 Q812.454 1526.35 813.473 1526.19 Q814.491 1526 815.51 1526 Q821.297 1526 824.676 1529.17 Q828.056 1532.34 828.056 1537.76 Q828.056 1543.34 824.584 1546.44 Q821.112 1549.52 814.792 1549.52 Q812.616 1549.52 810.348 1549.15 Q808.103 1548.78 805.695 1548.04 L805.695 1543.34 Q807.778 1544.47 810.001 1545.03 Q812.223 1545.58 814.7 1545.58 Q818.704 1545.58 821.042 1543.48 Q823.38 1541.37 823.38 1537.76 Q823.38 1534.15 821.042 1532.04 Q818.704 1529.94 814.7 1529.94 Q812.825 1529.94 810.95 1530.35 Q809.098 1530.77 807.153 1531.65 L807.153 1514.29 Z\" fill=\"#000000\" fill-rule=\"nonzero\" fill-opacity=\"1\" /><path clip-path=\"url(#clip720)\" d=\"M1238.32 1517.37 Q1234.71 1517.37 1232.88 1520.93 Q1231.08 1524.47 1231.08 1531.6 Q1231.08 1538.71 1232.88 1542.27 Q1234.71 1545.82 1238.32 1545.82 Q1241.96 1545.82 1243.76 1542.27 Q1245.59 1538.71 1245.59 1531.6 Q1245.59 1524.47 1243.76 1520.93 Q1241.96 1517.37 1238.32 1517.37 M1238.32 1513.66 Q1244.13 1513.66 1247.19 1518.27 Q1250.27 1522.85 1250.27 1531.6 Q1250.27 1540.33 1247.19 1544.94 Q1244.13 1549.52 1238.32 1549.52 Q1232.51 1549.52 1229.43 1544.94 Q1226.38 1540.33 1226.38 1531.6 Q1226.38 1522.85 1229.43 1518.27 Q1232.51 1513.66 1238.32 1513.66 Z\" fill=\"#000000\" fill-rule=\"nonzero\" fill-opacity=\"1\" /><path clip-path=\"url(#clip720)\" d=\"M1258.48 1542.97 L1263.37 1542.97 L1263.37 1548.85 L1258.48 1548.85 L1258.48 1542.97 Z\" fill=\"#000000\" fill-rule=\"nonzero\" fill-opacity=\"1\" /><path clip-path=\"url(#clip720)\" d=\"M1283.55 1517.37 Q1279.94 1517.37 1278.11 1520.93 Q1276.31 1524.47 1276.31 1531.6 Q1276.31 1538.71 1278.11 1542.27 Q1279.94 1545.82 1283.55 1545.82 Q1287.19 1545.82 1288.99 1542.27 Q1290.82 1538.71 1290.82 1531.6 Q1290.82 1524.47 1288.99 1520.93 Q1287.19 1517.37 1283.55 1517.37 M1283.55 1513.66 Q1289.36 1513.66 1292.42 1518.27 Q1295.5 1522.85 1295.5 1531.6 Q1295.5 1540.33 1292.42 1544.94 Q1289.36 1549.52 1283.55 1549.52 Q1277.74 1549.52 1274.67 1544.94 Q1271.61 1540.33 1271.61 1531.6 Q1271.61 1522.85 1274.67 1518.27 Q1277.74 1513.66 1283.55 1513.66 Z\" fill=\"#000000\" fill-rule=\"nonzero\" fill-opacity=\"1\" /><path clip-path=\"url(#clip720)\" d=\"M1724.68 1517.37 Q1721.07 1517.37 1719.24 1520.93 Q1717.43 1524.47 1717.43 1531.6 Q1717.43 1538.71 1719.24 1542.27 Q1721.07 1545.82 1724.68 1545.82 Q1728.31 1545.82 1730.12 1542.27 Q1731.95 1538.71 1731.95 1531.6 Q1731.95 1524.47 1730.12 1520.93 Q1728.31 1517.37 1724.68 1517.37 M1724.68 1513.66 Q1730.49 1513.66 1733.54 1518.27 Q1736.62 1522.85 1736.62 1531.6 Q1736.62 1540.33 1733.54 1544.94 Q1730.49 1549.52 1724.68 1549.52 Q1718.87 1549.52 1715.79 1544.94 Q1712.73 1540.33 1712.73 1531.6 Q1712.73 1522.85 1715.79 1518.27 Q1718.87 1513.66 1724.68 1513.66 Z\" fill=\"#000000\" fill-rule=\"nonzero\" fill-opacity=\"1\" /><path clip-path=\"url(#clip720)\" d=\"M1744.84 1542.97 L1749.72 1542.97 L1749.72 1548.85 L1744.84 1548.85 L1744.84 1542.97 Z\" fill=\"#000000\" fill-rule=\"nonzero\" fill-opacity=\"1\" /><path clip-path=\"url(#clip720)\" d=\"M1759.96 1514.29 L1778.31 1514.29 L1778.31 1518.22 L1764.24 1518.22 L1764.24 1526.7 Q1765.26 1526.35 1766.27 1526.19 Q1767.29 1526 1768.31 1526 Q1774.1 1526 1777.48 1529.17 Q1780.86 1532.34 1780.86 1537.76 Q1780.86 1543.34 1777.39 1546.44 Q1773.91 1549.52 1767.59 1549.52 Q1765.42 1549.52 1763.15 1549.15 Q1760.9 1548.78 1758.5 1548.04 L1758.5 1543.34 Q1760.58 1544.47 1762.8 1545.03 Q1765.02 1545.58 1767.5 1545.58 Q1771.51 1545.58 1773.84 1543.48 Q1776.18 1541.37 1776.18 1537.76 Q1776.18 1534.15 1773.84 1532.04 Q1771.51 1529.94 1767.5 1529.94 Q1765.63 1529.94 1763.75 1530.35 Q1761.9 1530.77 1759.96 1531.65 L1759.96 1514.29 Z\" fill=\"#000000\" fill-rule=\"nonzero\" fill-opacity=\"1\" /><path clip-path=\"url(#clip720)\" d=\"M2199.81 1544.91 L2207.44 1544.91 L2207.44 1518.55 L2199.13 1520.21 L2199.13 1515.95 L2207.4 1514.29 L2212.07 1514.29 L2212.07 1544.91 L2219.71 1544.91 L2219.71 1548.85 L2199.81 1548.85 L2199.81 1544.91 Z\" fill=\"#000000\" fill-rule=\"nonzero\" fill-opacity=\"1\" /><path clip-path=\"url(#clip720)\" d=\"M2229.16 1542.97 L2234.04 1542.97 L2234.04 1548.85 L2229.16 1548.85 L2229.16 1542.97 Z\" fill=\"#000000\" fill-rule=\"nonzero\" fill-opacity=\"1\" /><path clip-path=\"url(#clip720)\" d=\"M2254.23 1517.37 Q2250.61 1517.37 2248.79 1520.93 Q2246.98 1524.47 2246.98 1531.6 Q2246.98 1538.71 2248.79 1542.27 Q2250.61 1545.82 2254.23 1545.82 Q2257.86 1545.82 2259.67 1542.27 Q2261.49 1538.71 2261.49 1531.6 Q2261.49 1524.47 2259.67 1520.93 Q2257.86 1517.37 2254.23 1517.37 M2254.23 1513.66 Q2260.04 1513.66 2263.09 1518.27 Q2266.17 1522.85 2266.17 1531.6 Q2266.17 1540.33 2263.09 1544.94 Q2260.04 1549.52 2254.23 1549.52 Q2248.42 1549.52 2245.34 1544.94 Q2242.28 1540.33 2242.28 1531.6 Q2242.28 1522.85 2245.34 1518.27 Q2248.42 1513.66 2254.23 1513.66 Z\" fill=\"#000000\" fill-rule=\"nonzero\" fill-opacity=\"1\" /><polyline clip-path=\"url(#clip722)\" style=\"stroke:#000000; stroke-linecap:round; stroke-linejoin:round; stroke-width:2; stroke-opacity:0.1; fill:none\" points=\"169.121,1486.45 2352.76,1486.45 \"/>\n",
       "<polyline clip-path=\"url(#clip722)\" style=\"stroke:#000000; stroke-linecap:round; stroke-linejoin:round; stroke-width:2; stroke-opacity:0.1; fill:none\" points=\"169.121,1156.36 2352.76,1156.36 \"/>\n",
       "<polyline clip-path=\"url(#clip722)\" style=\"stroke:#000000; stroke-linecap:round; stroke-linejoin:round; stroke-width:2; stroke-opacity:0.1; fill:none\" points=\"169.121,826.263 2352.76,826.263 \"/>\n",
       "<polyline clip-path=\"url(#clip722)\" style=\"stroke:#000000; stroke-linecap:round; stroke-linejoin:round; stroke-width:2; stroke-opacity:0.1; fill:none\" points=\"169.121,496.17 2352.76,496.17 \"/>\n",
       "<polyline clip-path=\"url(#clip722)\" style=\"stroke:#000000; stroke-linecap:round; stroke-linejoin:round; stroke-width:2; stroke-opacity:0.1; fill:none\" points=\"169.121,166.077 2352.76,166.077 \"/>\n",
       "<polyline clip-path=\"url(#clip720)\" style=\"stroke:#000000; stroke-linecap:round; stroke-linejoin:round; stroke-width:4; stroke-opacity:1; fill:none\" points=\"169.121,1486.45 169.121,47.2441 \"/>\n",
       "<polyline clip-path=\"url(#clip720)\" style=\"stroke:#000000; stroke-linecap:round; stroke-linejoin:round; stroke-width:4; stroke-opacity:1; fill:none\" points=\"169.121,1486.45 188.019,1486.45 \"/>\n",
       "<polyline clip-path=\"url(#clip720)\" style=\"stroke:#000000; stroke-linecap:round; stroke-linejoin:round; stroke-width:4; stroke-opacity:1; fill:none\" points=\"169.121,1156.36 188.019,1156.36 \"/>\n",
       "<polyline clip-path=\"url(#clip720)\" style=\"stroke:#000000; stroke-linecap:round; stroke-linejoin:round; stroke-width:4; stroke-opacity:1; fill:none\" points=\"169.121,826.263 188.019,826.263 \"/>\n",
       "<polyline clip-path=\"url(#clip720)\" style=\"stroke:#000000; stroke-linecap:round; stroke-linejoin:round; stroke-width:4; stroke-opacity:1; fill:none\" points=\"169.121,496.17 188.019,496.17 \"/>\n",
       "<polyline clip-path=\"url(#clip720)\" style=\"stroke:#000000; stroke-linecap:round; stroke-linejoin:round; stroke-width:4; stroke-opacity:1; fill:none\" points=\"169.121,166.077 188.019,166.077 \"/>\n",
       "<path clip-path=\"url(#clip720)\" d=\"M121.177 1472.25 Q117.566 1472.25 115.737 1475.81 Q113.932 1479.35 113.932 1486.48 Q113.932 1493.59 115.737 1497.15 Q117.566 1500.7 121.177 1500.7 Q124.811 1500.7 126.617 1497.15 Q128.445 1493.59 128.445 1486.48 Q128.445 1479.35 126.617 1475.81 Q124.811 1472.25 121.177 1472.25 M121.177 1468.54 Q126.987 1468.54 130.043 1473.15 Q133.121 1477.73 133.121 1486.48 Q133.121 1495.21 130.043 1499.82 Q126.987 1504.4 121.177 1504.4 Q115.367 1504.4 112.288 1499.82 Q109.233 1495.21 109.233 1486.48 Q109.233 1477.73 112.288 1473.15 Q115.367 1468.54 121.177 1468.54 Z\" fill=\"#000000\" fill-rule=\"nonzero\" fill-opacity=\"1\" /><path clip-path=\"url(#clip720)\" d=\"M86.0382 1169.7 L102.358 1169.7 L102.358 1173.64 L80.4133 1173.64 L80.4133 1169.7 Q83.0753 1166.95 87.6586 1162.32 Q92.2651 1157.66 93.4456 1156.32 Q95.691 1153.8 96.5706 1152.06 Q97.4734 1150.3 97.4734 1148.61 Q97.4734 1145.86 95.5289 1144.12 Q93.6076 1142.39 90.5058 1142.39 Q88.3067 1142.39 85.8531 1143.15 Q83.4225 1143.91 80.6447 1145.46 L80.6447 1140.74 Q83.4688 1139.61 85.9225 1139.03 Q88.3762 1138.45 90.4132 1138.45 Q95.7836 1138.45 98.978 1141.14 Q102.172 1143.82 102.172 1148.31 Q102.172 1150.44 101.362 1152.36 Q100.575 1154.26 98.4687 1156.85 Q97.89 1157.52 94.7882 1160.74 Q91.6864 1163.94 86.0382 1169.7 Z\" fill=\"#000000\" fill-rule=\"nonzero\" fill-opacity=\"1\" /><path clip-path=\"url(#clip720)\" d=\"M112.219 1139.08 L130.575 1139.08 L130.575 1143.01 L116.501 1143.01 L116.501 1151.48 Q117.52 1151.14 118.538 1150.97 Q119.557 1150.79 120.575 1150.79 Q126.362 1150.79 129.742 1153.96 Q133.121 1157.13 133.121 1162.55 Q133.121 1168.13 129.649 1171.23 Q126.177 1174.31 119.857 1174.31 Q117.682 1174.31 115.413 1173.94 Q113.168 1173.57 110.76 1172.83 L110.76 1168.13 Q112.844 1169.26 115.066 1169.82 Q117.288 1170.37 119.765 1170.37 Q123.77 1170.37 126.107 1168.26 Q128.445 1166.16 128.445 1162.55 Q128.445 1158.94 126.107 1156.83 Q123.77 1154.72 119.765 1154.72 Q117.89 1154.72 116.015 1155.14 Q114.163 1155.56 112.219 1156.44 L112.219 1139.08 Z\" fill=\"#000000\" fill-rule=\"nonzero\" fill-opacity=\"1\" /><path clip-path=\"url(#clip720)\" d=\"M81.0614 808.983 L99.4178 808.983 L99.4178 812.918 L85.3438 812.918 L85.3438 821.39 Q86.3623 821.043 87.3808 820.881 Q88.3993 820.696 89.4178 820.696 Q95.2049 820.696 98.5845 823.867 Q101.964 827.038 101.964 832.455 Q101.964 838.033 98.4919 841.135 Q95.0197 844.214 88.7003 844.214 Q86.5243 844.214 84.2558 843.844 Q82.0105 843.473 79.6031 842.732 L79.6031 838.033 Q81.6864 839.168 83.9086 839.723 Q86.1308 840.279 88.6077 840.279 Q92.6123 840.279 94.9502 838.172 Q97.2882 836.066 97.2882 832.455 Q97.2882 828.844 94.9502 826.737 Q92.6123 824.631 88.6077 824.631 Q86.7327 824.631 84.8577 825.047 Q83.0058 825.464 81.0614 826.344 L81.0614 808.983 Z\" fill=\"#000000\" fill-rule=\"nonzero\" fill-opacity=\"1\" /><path clip-path=\"url(#clip720)\" d=\"M121.177 812.061 Q117.566 812.061 115.737 815.626 Q113.932 819.168 113.932 826.297 Q113.932 833.404 115.737 836.969 Q117.566 840.51 121.177 840.51 Q124.811 840.51 126.617 836.969 Q128.445 833.404 128.445 826.297 Q128.445 819.168 126.617 815.626 Q124.811 812.061 121.177 812.061 M121.177 808.358 Q126.987 808.358 130.043 812.964 Q133.121 817.547 133.121 826.297 Q133.121 835.024 130.043 839.631 Q126.987 844.214 121.177 844.214 Q115.367 844.214 112.288 839.631 Q109.233 835.024 109.233 826.297 Q109.233 817.547 112.288 812.964 Q115.367 808.358 121.177 808.358 Z\" fill=\"#000000\" fill-rule=\"nonzero\" fill-opacity=\"1\" /><path clip-path=\"url(#clip720)\" d=\"M80.8299 478.89 L103.052 478.89 L103.052 480.881 L90.5058 513.45 L85.6216 513.45 L97.4271 482.825 L80.8299 482.825 L80.8299 478.89 Z\" fill=\"#000000\" fill-rule=\"nonzero\" fill-opacity=\"1\" /><path clip-path=\"url(#clip720)\" d=\"M112.219 478.89 L130.575 478.89 L130.575 482.825 L116.501 482.825 L116.501 491.297 Q117.52 490.95 118.538 490.788 Q119.557 490.603 120.575 490.603 Q126.362 490.603 129.742 493.774 Q133.121 496.946 133.121 502.362 Q133.121 507.941 129.649 511.043 Q126.177 514.121 119.857 514.121 Q117.682 514.121 115.413 513.751 Q113.168 513.381 110.76 512.64 L110.76 507.941 Q112.844 509.075 115.066 509.631 Q117.288 510.186 119.765 510.186 Q123.77 510.186 126.107 508.08 Q128.445 505.973 128.445 502.362 Q128.445 498.751 126.107 496.645 Q123.77 494.538 119.765 494.538 Q117.89 494.538 116.015 494.955 Q114.163 495.371 112.219 496.251 L112.219 478.89 Z\" fill=\"#000000\" fill-rule=\"nonzero\" fill-opacity=\"1\" /><path clip-path=\"url(#clip720)\" d=\"M51.6634 179.422 L59.3023 179.422 L59.3023 153.057 L50.9921 154.723 L50.9921 150.464 L59.256 148.797 L63.9319 148.797 L63.9319 179.422 L71.5707 179.422 L71.5707 183.357 L51.6634 183.357 L51.6634 179.422 Z\" fill=\"#000000\" fill-rule=\"nonzero\" fill-opacity=\"1\" /><path clip-path=\"url(#clip720)\" d=\"M91.0151 151.876 Q87.404 151.876 85.5753 155.441 Q83.7697 158.983 83.7697 166.112 Q83.7697 173.219 85.5753 176.783 Q87.404 180.325 91.0151 180.325 Q94.6493 180.325 96.4548 176.783 Q98.2835 173.219 98.2835 166.112 Q98.2835 158.983 96.4548 155.441 Q94.6493 151.876 91.0151 151.876 M91.0151 148.172 Q96.8252 148.172 99.8808 152.779 Q102.959 157.362 102.959 166.112 Q102.959 174.839 99.8808 179.445 Q96.8252 184.029 91.0151 184.029 Q85.2049 184.029 82.1262 179.445 Q79.0707 174.839 79.0707 166.112 Q79.0707 157.362 82.1262 152.779 Q85.2049 148.172 91.0151 148.172 Z\" fill=\"#000000\" fill-rule=\"nonzero\" fill-opacity=\"1\" /><path clip-path=\"url(#clip720)\" d=\"M121.177 151.876 Q117.566 151.876 115.737 155.441 Q113.932 158.983 113.932 166.112 Q113.932 173.219 115.737 176.783 Q117.566 180.325 121.177 180.325 Q124.811 180.325 126.617 176.783 Q128.445 173.219 128.445 166.112 Q128.445 158.983 126.617 155.441 Q124.811 151.876 121.177 151.876 M121.177 148.172 Q126.987 148.172 130.043 152.779 Q133.121 157.362 133.121 166.112 Q133.121 174.839 130.043 179.445 Q126.987 184.029 121.177 184.029 Q115.367 184.029 112.288 179.445 Q109.233 174.839 109.233 166.112 Q109.233 157.362 112.288 152.779 Q115.367 148.172 121.177 148.172 Z\" fill=\"#000000\" fill-rule=\"nonzero\" fill-opacity=\"1\" /><path clip-path=\"url(#clip722)\" d=\"M289.225 509.374 L289.225 1486.45 L483.568 1486.45 L483.568 509.374 L289.225 509.374 L289.225 509.374  Z\" fill=\"#009af9\" fill-rule=\"evenodd\" fill-opacity=\"1\"/>\n",
       "<polyline clip-path=\"url(#clip722)\" style=\"stroke:#000000; stroke-linecap:round; stroke-linejoin:round; stroke-width:4; stroke-opacity:1; fill:none\" points=\"289.225,509.374 289.225,1486.45 483.568,1486.45 483.568,509.374 289.225,509.374 \"/>\n",
       "<path clip-path=\"url(#clip722)\" d=\"M483.568 1222.37 L483.568 1486.45 L677.911 1486.45 L677.911 1222.37 L483.568 1222.37 L483.568 1222.37  Z\" fill=\"#009af9\" fill-rule=\"evenodd\" fill-opacity=\"1\"/>\n",
       "<polyline clip-path=\"url(#clip722)\" style=\"stroke:#000000; stroke-linecap:round; stroke-linejoin:round; stroke-width:4; stroke-opacity:1; fill:none\" points=\"483.568,1222.37 483.568,1486.45 677.911,1486.45 677.911,1222.37 483.568,1222.37 \"/>\n",
       "<path clip-path=\"url(#clip722)\" d=\"M677.911 1011.11 L677.911 1486.45 L872.253 1486.45 L872.253 1011.11 L677.911 1011.11 L677.911 1011.11  Z\" fill=\"#009af9\" fill-rule=\"evenodd\" fill-opacity=\"1\"/>\n",
       "<polyline clip-path=\"url(#clip722)\" style=\"stroke:#000000; stroke-linecap:round; stroke-linejoin:round; stroke-width:4; stroke-opacity:1; fill:none\" points=\"677.911,1011.11 677.911,1486.45 872.253,1486.45 872.253,1011.11 677.911,1011.11 \"/>\n",
       "<path clip-path=\"url(#clip722)\" d=\"M872.253 786.652 L872.253 1486.45 L1066.6 1486.45 L1066.6 786.652 L872.253 786.652 L872.253 786.652  Z\" fill=\"#009af9\" fill-rule=\"evenodd\" fill-opacity=\"1\"/>\n",
       "<polyline clip-path=\"url(#clip722)\" style=\"stroke:#000000; stroke-linecap:round; stroke-linejoin:round; stroke-width:4; stroke-opacity:1; fill:none\" points=\"872.253,786.652 872.253,1486.45 1066.6,1486.45 1066.6,786.652 872.253,786.652 \"/>\n",
       "<path clip-path=\"url(#clip722)\" d=\"M1066.6 47.2441 L1066.6 1486.45 L1260.94 1486.45 L1260.94 47.2441 L1066.6 47.2441 L1066.6 47.2441  Z\" fill=\"#009af9\" fill-rule=\"evenodd\" fill-opacity=\"1\"/>\n",
       "<polyline clip-path=\"url(#clip722)\" style=\"stroke:#000000; stroke-linecap:round; stroke-linejoin:round; stroke-width:4; stroke-opacity:1; fill:none\" points=\"1066.6,47.2441 1066.6,1486.45 1260.94,1486.45 1260.94,47.2441 1066.6,47.2441 \"/>\n",
       "<path clip-path=\"url(#clip722)\" d=\"M1260.94 760.244 L1260.94 1486.45 L1455.28 1486.45 L1455.28 760.244 L1260.94 760.244 L1260.94 760.244  Z\" fill=\"#009af9\" fill-rule=\"evenodd\" fill-opacity=\"1\"/>\n",
       "<polyline clip-path=\"url(#clip722)\" style=\"stroke:#000000; stroke-linecap:round; stroke-linejoin:round; stroke-width:4; stroke-opacity:1; fill:none\" points=\"1260.94,760.244 1260.94,1486.45 1455.28,1486.45 1455.28,760.244 1260.94,760.244 \"/>\n",
       "<path clip-path=\"url(#clip722)\" d=\"M1455.28 1050.73 L1455.28 1486.45 L1649.62 1486.45 L1649.62 1050.73 L1455.28 1050.73 L1455.28 1050.73  Z\" fill=\"#009af9\" fill-rule=\"evenodd\" fill-opacity=\"1\"/>\n",
       "<polyline clip-path=\"url(#clip722)\" style=\"stroke:#000000; stroke-linecap:round; stroke-linejoin:round; stroke-width:4; stroke-opacity:1; fill:none\" points=\"1455.28,1050.73 1455.28,1486.45 1649.62,1486.45 1649.62,1050.73 1455.28,1050.73 \"/>\n",
       "<path clip-path=\"url(#clip722)\" d=\"M1649.62 1129.95 L1649.62 1486.45 L1843.97 1486.45 L1843.97 1129.95 L1649.62 1129.95 L1649.62 1129.95  Z\" fill=\"#009af9\" fill-rule=\"evenodd\" fill-opacity=\"1\"/>\n",
       "<polyline clip-path=\"url(#clip722)\" style=\"stroke:#000000; stroke-linecap:round; stroke-linejoin:round; stroke-width:4; stroke-opacity:1; fill:none\" points=\"1649.62,1129.95 1649.62,1486.45 1843.97,1486.45 1843.97,1129.95 1649.62,1129.95 \"/>\n",
       "<path clip-path=\"url(#clip722)\" d=\"M1843.97 1129.95 L1843.97 1486.45 L2038.31 1486.45 L2038.31 1129.95 L1843.97 1129.95 L1843.97 1129.95  Z\" fill=\"#009af9\" fill-rule=\"evenodd\" fill-opacity=\"1\"/>\n",
       "<polyline clip-path=\"url(#clip722)\" style=\"stroke:#000000; stroke-linecap:round; stroke-linejoin:round; stroke-width:4; stroke-opacity:1; fill:none\" points=\"1843.97,1129.95 1843.97,1486.45 2038.31,1486.45 2038.31,1129.95 1843.97,1129.95 \"/>\n",
       "<path clip-path=\"url(#clip722)\" d=\"M2038.31 456.559 L2038.31 1486.45 L2232.65 1486.45 L2232.65 456.559 L2038.31 456.559 L2038.31 456.559  Z\" fill=\"#009af9\" fill-rule=\"evenodd\" fill-opacity=\"1\"/>\n",
       "<polyline clip-path=\"url(#clip722)\" style=\"stroke:#000000; stroke-linecap:round; stroke-linejoin:round; stroke-width:4; stroke-opacity:1; fill:none\" points=\"2038.31,456.559 2038.31,1486.45 2232.65,1486.45 2232.65,456.559 2038.31,456.559 \"/>\n",
       "<circle clip-path=\"url(#clip722)\" style=\"fill:#009af9; stroke:none; fill-opacity:0\" cx=\"386.396\" cy=\"509.374\" r=\"2\"/>\n",
       "<circle clip-path=\"url(#clip722)\" style=\"fill:#009af9; stroke:none; fill-opacity:0\" cx=\"580.739\" cy=\"1222.37\" r=\"2\"/>\n",
       "<circle clip-path=\"url(#clip722)\" style=\"fill:#009af9; stroke:none; fill-opacity:0\" cx=\"775.082\" cy=\"1011.11\" r=\"2\"/>\n",
       "<circle clip-path=\"url(#clip722)\" style=\"fill:#009af9; stroke:none; fill-opacity:0\" cx=\"969.425\" cy=\"786.652\" r=\"2\"/>\n",
       "<circle clip-path=\"url(#clip722)\" style=\"fill:#009af9; stroke:none; fill-opacity:0\" cx=\"1163.77\" cy=\"47.2441\" r=\"2\"/>\n",
       "<circle clip-path=\"url(#clip722)\" style=\"fill:#009af9; stroke:none; fill-opacity:0\" cx=\"1358.11\" cy=\"760.244\" r=\"2\"/>\n",
       "<circle clip-path=\"url(#clip722)\" style=\"fill:#009af9; stroke:none; fill-opacity:0\" cx=\"1552.45\" cy=\"1050.73\" r=\"2\"/>\n",
       "<circle clip-path=\"url(#clip722)\" style=\"fill:#009af9; stroke:none; fill-opacity:0\" cx=\"1746.8\" cy=\"1129.95\" r=\"2\"/>\n",
       "<circle clip-path=\"url(#clip722)\" style=\"fill:#009af9; stroke:none; fill-opacity:0\" cx=\"1941.14\" cy=\"1129.95\" r=\"2\"/>\n",
       "<circle clip-path=\"url(#clip722)\" style=\"fill:#009af9; stroke:none; fill-opacity:0\" cx=\"2135.48\" cy=\"456.559\" r=\"2\"/>\n",
       "<path clip-path=\"url(#clip720)\" d=\"M2009.17 198.898 L2279.97 198.898 L2279.97 95.2176 L2009.17 95.2176  Z\" fill=\"#ffffff\" fill-rule=\"evenodd\" fill-opacity=\"1\"/>\n",
       "<polyline clip-path=\"url(#clip720)\" style=\"stroke:#000000; stroke-linecap:round; stroke-linejoin:round; stroke-width:4; stroke-opacity:1; fill:none\" points=\"2009.17,198.898 2279.97,198.898 2279.97,95.2176 2009.17,95.2176 2009.17,198.898 \"/>\n",
       "<path clip-path=\"url(#clip720)\" d=\"M2033.44 167.794 L2179.01 167.794 L2179.01 126.322 L2033.44 126.322 L2033.44 167.794  Z\" fill=\"#009af9\" fill-rule=\"evenodd\" fill-opacity=\"1\"/>\n",
       "<polyline clip-path=\"url(#clip720)\" style=\"stroke:#000000; stroke-linecap:round; stroke-linejoin:round; stroke-width:4; stroke-opacity:1; fill:none\" points=\"2033.44,167.794 2179.01,167.794 2179.01,126.322 2033.44,126.322 2033.44,167.794 \"/>\n",
       "<path clip-path=\"url(#clip720)\" d=\"M2217.12 166.745 Q2215.31 171.375 2213.6 172.787 Q2211.89 174.199 2209.02 174.199 L2205.61 174.199 L2205.61 170.634 L2208.11 170.634 Q2209.87 170.634 2210.84 169.8 Q2211.82 168.967 2213 165.865 L2213.76 163.921 L2203.28 138.412 L2207.79 138.412 L2215.89 158.689 L2223.99 138.412 L2228.51 138.412 L2217.12 166.745 Z\" fill=\"#000000\" fill-rule=\"nonzero\" fill-opacity=\"1\" /><path clip-path=\"url(#clip720)\" d=\"M2235.8 160.402 L2243.44 160.402 L2243.44 134.037 L2235.13 135.703 L2235.13 131.444 L2243.39 129.778 L2248.07 129.778 L2248.07 160.402 L2255.71 160.402 L2255.71 164.338 L2235.8 164.338 L2235.8 160.402 Z\" fill=\"#000000\" fill-rule=\"nonzero\" fill-opacity=\"1\" /></svg>\n"
      ],
      "text/html": [
       "<?xml version=\"1.0\" encoding=\"utf-8\"?>\n",
       "<svg xmlns=\"http://www.w3.org/2000/svg\" xmlns:xlink=\"http://www.w3.org/1999/xlink\" width=\"600\" height=\"400\" viewBox=\"0 0 2400 1600\">\n",
       "<defs>\n",
       "  <clipPath id=\"clip770\">\n",
       "    <rect x=\"0\" y=\"0\" width=\"2400\" height=\"1600\"/>\n",
       "  </clipPath>\n",
       "</defs>\n",
       "<path clip-path=\"url(#clip770)\" d=\"M0 1600 L2400 1600 L2400 8.88178e-14 L0 8.88178e-14  Z\" fill=\"#ffffff\" fill-rule=\"evenodd\" fill-opacity=\"1\"/>\n",
       "<defs>\n",
       "  <clipPath id=\"clip771\">\n",
       "    <rect x=\"480\" y=\"0\" width=\"1681\" height=\"1600\"/>\n",
       "  </clipPath>\n",
       "</defs>\n",
       "<path clip-path=\"url(#clip770)\" d=\"M169.121 1486.45 L2352.76 1486.45 L2352.76 47.2441 L169.121 47.2441  Z\" fill=\"#ffffff\" fill-rule=\"evenodd\" fill-opacity=\"1\"/>\n",
       "<defs>\n",
       "  <clipPath id=\"clip772\">\n",
       "    <rect x=\"169\" y=\"47\" width=\"2185\" height=\"1440\"/>\n",
       "  </clipPath>\n",
       "</defs>\n",
       "<polyline clip-path=\"url(#clip772)\" style=\"stroke:#000000; stroke-linecap:round; stroke-linejoin:round; stroke-width:2; stroke-opacity:0.1; fill:none\" points=\"289.225,1486.45 289.225,47.2441 \"/>\n",
       "<polyline clip-path=\"url(#clip772)\" style=\"stroke:#000000; stroke-linecap:round; stroke-linejoin:round; stroke-width:2; stroke-opacity:0.1; fill:none\" points=\"775.082,1486.45 775.082,47.2441 \"/>\n",
       "<polyline clip-path=\"url(#clip772)\" style=\"stroke:#000000; stroke-linecap:round; stroke-linejoin:round; stroke-width:2; stroke-opacity:0.1; fill:none\" points=\"1260.94,1486.45 1260.94,47.2441 \"/>\n",
       "<polyline clip-path=\"url(#clip772)\" style=\"stroke:#000000; stroke-linecap:round; stroke-linejoin:round; stroke-width:2; stroke-opacity:0.1; fill:none\" points=\"1746.8,1486.45 1746.8,47.2441 \"/>\n",
       "<polyline clip-path=\"url(#clip772)\" style=\"stroke:#000000; stroke-linecap:round; stroke-linejoin:round; stroke-width:2; stroke-opacity:0.1; fill:none\" points=\"2232.65,1486.45 2232.65,47.2441 \"/>\n",
       "<polyline clip-path=\"url(#clip770)\" style=\"stroke:#000000; stroke-linecap:round; stroke-linejoin:round; stroke-width:4; stroke-opacity:1; fill:none\" points=\"169.121,1486.45 2352.76,1486.45 \"/>\n",
       "<polyline clip-path=\"url(#clip770)\" style=\"stroke:#000000; stroke-linecap:round; stroke-linejoin:round; stroke-width:4; stroke-opacity:1; fill:none\" points=\"289.225,1486.45 289.225,1467.55 \"/>\n",
       "<polyline clip-path=\"url(#clip770)\" style=\"stroke:#000000; stroke-linecap:round; stroke-linejoin:round; stroke-width:4; stroke-opacity:1; fill:none\" points=\"775.082,1486.45 775.082,1467.55 \"/>\n",
       "<polyline clip-path=\"url(#clip770)\" style=\"stroke:#000000; stroke-linecap:round; stroke-linejoin:round; stroke-width:4; stroke-opacity:1; fill:none\" points=\"1260.94,1486.45 1260.94,1467.55 \"/>\n",
       "<polyline clip-path=\"url(#clip770)\" style=\"stroke:#000000; stroke-linecap:round; stroke-linejoin:round; stroke-width:4; stroke-opacity:1; fill:none\" points=\"1746.8,1486.45 1746.8,1467.55 \"/>\n",
       "<polyline clip-path=\"url(#clip770)\" style=\"stroke:#000000; stroke-linecap:round; stroke-linejoin:round; stroke-width:4; stroke-opacity:1; fill:none\" points=\"2232.65,1486.45 2232.65,1467.55 \"/>\n",
       "<path clip-path=\"url(#clip770)\" d=\"M235.753 1532.02 L265.429 1532.02 L265.429 1535.95 L235.753 1535.95 L235.753 1532.02 Z\" fill=\"#000000\" fill-rule=\"nonzero\" fill-opacity=\"1\" /><path clip-path=\"url(#clip770)\" d=\"M276.332 1544.91 L283.971 1544.91 L283.971 1518.55 L275.66 1520.21 L275.66 1515.95 L283.924 1514.29 L288.6 1514.29 L288.6 1544.91 L296.239 1544.91 L296.239 1548.85 L276.332 1548.85 L276.332 1544.91 Z\" fill=\"#000000\" fill-rule=\"nonzero\" fill-opacity=\"1\" /><path clip-path=\"url(#clip770)\" d=\"M305.683 1542.97 L310.568 1542.97 L310.568 1548.85 L305.683 1548.85 L305.683 1542.97 Z\" fill=\"#000000\" fill-rule=\"nonzero\" fill-opacity=\"1\" /><path clip-path=\"url(#clip770)\" d=\"M330.753 1517.37 Q327.142 1517.37 325.313 1520.93 Q323.507 1524.47 323.507 1531.6 Q323.507 1538.71 325.313 1542.27 Q327.142 1545.82 330.753 1545.82 Q334.387 1545.82 336.192 1542.27 Q338.021 1538.71 338.021 1531.6 Q338.021 1524.47 336.192 1520.93 Q334.387 1517.37 330.753 1517.37 M330.753 1513.66 Q336.563 1513.66 339.618 1518.27 Q342.697 1522.85 342.697 1531.6 Q342.697 1540.33 339.618 1544.94 Q336.563 1549.52 330.753 1549.52 Q324.943 1549.52 321.864 1544.94 Q318.808 1540.33 318.808 1531.6 Q318.808 1522.85 321.864 1518.27 Q324.943 1513.66 330.753 1513.66 Z\" fill=\"#000000\" fill-rule=\"nonzero\" fill-opacity=\"1\" /><path clip-path=\"url(#clip770)\" d=\"M722.108 1532.02 L751.783 1532.02 L751.783 1535.95 L722.108 1535.95 L722.108 1532.02 Z\" fill=\"#000000\" fill-rule=\"nonzero\" fill-opacity=\"1\" /><path clip-path=\"url(#clip770)\" d=\"M771.876 1517.37 Q768.265 1517.37 766.436 1520.93 Q764.631 1524.47 764.631 1531.6 Q764.631 1538.71 766.436 1542.27 Q768.265 1545.82 771.876 1545.82 Q775.51 1545.82 777.316 1542.27 Q779.144 1538.71 779.144 1531.6 Q779.144 1524.47 777.316 1520.93 Q775.51 1517.37 771.876 1517.37 M771.876 1513.66 Q777.686 1513.66 780.742 1518.27 Q783.82 1522.85 783.82 1531.6 Q783.82 1540.33 780.742 1544.94 Q777.686 1549.52 771.876 1549.52 Q766.066 1549.52 762.987 1544.94 Q759.931 1540.33 759.931 1531.6 Q759.931 1522.85 762.987 1518.27 Q766.066 1513.66 771.876 1513.66 Z\" fill=\"#000000\" fill-rule=\"nonzero\" fill-opacity=\"1\" /><path clip-path=\"url(#clip770)\" d=\"M792.038 1542.97 L796.922 1542.97 L796.922 1548.85 L792.038 1548.85 L792.038 1542.97 Z\" fill=\"#000000\" fill-rule=\"nonzero\" fill-opacity=\"1\" /><path clip-path=\"url(#clip770)\" d=\"M807.153 1514.29 L825.51 1514.29 L825.51 1518.22 L811.436 1518.22 L811.436 1526.7 Q812.454 1526.35 813.473 1526.19 Q814.491 1526 815.51 1526 Q821.297 1526 824.676 1529.17 Q828.056 1532.34 828.056 1537.76 Q828.056 1543.34 824.584 1546.44 Q821.112 1549.52 814.792 1549.52 Q812.616 1549.52 810.348 1549.15 Q808.103 1548.78 805.695 1548.04 L805.695 1543.34 Q807.778 1544.47 810.001 1545.03 Q812.223 1545.58 814.7 1545.58 Q818.704 1545.58 821.042 1543.48 Q823.38 1541.37 823.38 1537.76 Q823.38 1534.15 821.042 1532.04 Q818.704 1529.94 814.7 1529.94 Q812.825 1529.94 810.95 1530.35 Q809.098 1530.77 807.153 1531.65 L807.153 1514.29 Z\" fill=\"#000000\" fill-rule=\"nonzero\" fill-opacity=\"1\" /><path clip-path=\"url(#clip770)\" d=\"M1238.32 1517.37 Q1234.71 1517.37 1232.88 1520.93 Q1231.08 1524.47 1231.08 1531.6 Q1231.08 1538.71 1232.88 1542.27 Q1234.71 1545.82 1238.32 1545.82 Q1241.96 1545.82 1243.76 1542.27 Q1245.59 1538.71 1245.59 1531.6 Q1245.59 1524.47 1243.76 1520.93 Q1241.96 1517.37 1238.32 1517.37 M1238.32 1513.66 Q1244.13 1513.66 1247.19 1518.27 Q1250.27 1522.85 1250.27 1531.6 Q1250.27 1540.33 1247.19 1544.94 Q1244.13 1549.52 1238.32 1549.52 Q1232.51 1549.52 1229.43 1544.94 Q1226.38 1540.33 1226.38 1531.6 Q1226.38 1522.85 1229.43 1518.27 Q1232.51 1513.66 1238.32 1513.66 Z\" fill=\"#000000\" fill-rule=\"nonzero\" fill-opacity=\"1\" /><path clip-path=\"url(#clip770)\" d=\"M1258.48 1542.97 L1263.37 1542.97 L1263.37 1548.85 L1258.48 1548.85 L1258.48 1542.97 Z\" fill=\"#000000\" fill-rule=\"nonzero\" fill-opacity=\"1\" /><path clip-path=\"url(#clip770)\" d=\"M1283.55 1517.37 Q1279.94 1517.37 1278.11 1520.93 Q1276.31 1524.47 1276.31 1531.6 Q1276.31 1538.71 1278.11 1542.27 Q1279.94 1545.82 1283.55 1545.82 Q1287.19 1545.82 1288.99 1542.27 Q1290.82 1538.71 1290.82 1531.6 Q1290.82 1524.47 1288.99 1520.93 Q1287.19 1517.37 1283.55 1517.37 M1283.55 1513.66 Q1289.36 1513.66 1292.42 1518.27 Q1295.5 1522.85 1295.5 1531.6 Q1295.5 1540.33 1292.42 1544.94 Q1289.36 1549.52 1283.55 1549.52 Q1277.74 1549.52 1274.67 1544.94 Q1271.61 1540.33 1271.61 1531.6 Q1271.61 1522.85 1274.67 1518.27 Q1277.74 1513.66 1283.55 1513.66 Z\" fill=\"#000000\" fill-rule=\"nonzero\" fill-opacity=\"1\" /><path clip-path=\"url(#clip770)\" d=\"M1724.68 1517.37 Q1721.07 1517.37 1719.24 1520.93 Q1717.43 1524.47 1717.43 1531.6 Q1717.43 1538.71 1719.24 1542.27 Q1721.07 1545.82 1724.68 1545.82 Q1728.31 1545.82 1730.12 1542.27 Q1731.95 1538.71 1731.95 1531.6 Q1731.95 1524.47 1730.12 1520.93 Q1728.31 1517.37 1724.68 1517.37 M1724.68 1513.66 Q1730.49 1513.66 1733.54 1518.27 Q1736.62 1522.85 1736.62 1531.6 Q1736.62 1540.33 1733.54 1544.94 Q1730.49 1549.52 1724.68 1549.52 Q1718.87 1549.52 1715.79 1544.94 Q1712.73 1540.33 1712.73 1531.6 Q1712.73 1522.85 1715.79 1518.27 Q1718.87 1513.66 1724.68 1513.66 Z\" fill=\"#000000\" fill-rule=\"nonzero\" fill-opacity=\"1\" /><path clip-path=\"url(#clip770)\" d=\"M1744.84 1542.97 L1749.72 1542.97 L1749.72 1548.85 L1744.84 1548.85 L1744.84 1542.97 Z\" fill=\"#000000\" fill-rule=\"nonzero\" fill-opacity=\"1\" /><path clip-path=\"url(#clip770)\" d=\"M1759.96 1514.29 L1778.31 1514.29 L1778.31 1518.22 L1764.24 1518.22 L1764.24 1526.7 Q1765.26 1526.35 1766.27 1526.19 Q1767.29 1526 1768.31 1526 Q1774.1 1526 1777.48 1529.17 Q1780.86 1532.34 1780.86 1537.76 Q1780.86 1543.34 1777.39 1546.44 Q1773.91 1549.52 1767.59 1549.52 Q1765.42 1549.52 1763.15 1549.15 Q1760.9 1548.78 1758.5 1548.04 L1758.5 1543.34 Q1760.58 1544.47 1762.8 1545.03 Q1765.02 1545.58 1767.5 1545.58 Q1771.51 1545.58 1773.84 1543.48 Q1776.18 1541.37 1776.18 1537.76 Q1776.18 1534.15 1773.84 1532.04 Q1771.51 1529.94 1767.5 1529.94 Q1765.63 1529.94 1763.75 1530.35 Q1761.9 1530.77 1759.96 1531.65 L1759.96 1514.29 Z\" fill=\"#000000\" fill-rule=\"nonzero\" fill-opacity=\"1\" /><path clip-path=\"url(#clip770)\" d=\"M2199.81 1544.91 L2207.44 1544.91 L2207.44 1518.55 L2199.13 1520.21 L2199.13 1515.95 L2207.4 1514.29 L2212.07 1514.29 L2212.07 1544.91 L2219.71 1544.91 L2219.71 1548.85 L2199.81 1548.85 L2199.81 1544.91 Z\" fill=\"#000000\" fill-rule=\"nonzero\" fill-opacity=\"1\" /><path clip-path=\"url(#clip770)\" d=\"M2229.16 1542.97 L2234.04 1542.97 L2234.04 1548.85 L2229.16 1548.85 L2229.16 1542.97 Z\" fill=\"#000000\" fill-rule=\"nonzero\" fill-opacity=\"1\" /><path clip-path=\"url(#clip770)\" d=\"M2254.23 1517.37 Q2250.61 1517.37 2248.79 1520.93 Q2246.98 1524.47 2246.98 1531.6 Q2246.98 1538.71 2248.79 1542.27 Q2250.61 1545.82 2254.23 1545.82 Q2257.86 1545.82 2259.67 1542.27 Q2261.49 1538.71 2261.49 1531.6 Q2261.49 1524.47 2259.67 1520.93 Q2257.86 1517.37 2254.23 1517.37 M2254.23 1513.66 Q2260.04 1513.66 2263.09 1518.27 Q2266.17 1522.85 2266.17 1531.6 Q2266.17 1540.33 2263.09 1544.94 Q2260.04 1549.52 2254.23 1549.52 Q2248.42 1549.52 2245.34 1544.94 Q2242.28 1540.33 2242.28 1531.6 Q2242.28 1522.85 2245.34 1518.27 Q2248.42 1513.66 2254.23 1513.66 Z\" fill=\"#000000\" fill-rule=\"nonzero\" fill-opacity=\"1\" /><polyline clip-path=\"url(#clip772)\" style=\"stroke:#000000; stroke-linecap:round; stroke-linejoin:round; stroke-width:2; stroke-opacity:0.1; fill:none\" points=\"169.121,1486.45 2352.76,1486.45 \"/>\n",
       "<polyline clip-path=\"url(#clip772)\" style=\"stroke:#000000; stroke-linecap:round; stroke-linejoin:round; stroke-width:2; stroke-opacity:0.1; fill:none\" points=\"169.121,1156.36 2352.76,1156.36 \"/>\n",
       "<polyline clip-path=\"url(#clip772)\" style=\"stroke:#000000; stroke-linecap:round; stroke-linejoin:round; stroke-width:2; stroke-opacity:0.1; fill:none\" points=\"169.121,826.263 2352.76,826.263 \"/>\n",
       "<polyline clip-path=\"url(#clip772)\" style=\"stroke:#000000; stroke-linecap:round; stroke-linejoin:round; stroke-width:2; stroke-opacity:0.1; fill:none\" points=\"169.121,496.17 2352.76,496.17 \"/>\n",
       "<polyline clip-path=\"url(#clip772)\" style=\"stroke:#000000; stroke-linecap:round; stroke-linejoin:round; stroke-width:2; stroke-opacity:0.1; fill:none\" points=\"169.121,166.077 2352.76,166.077 \"/>\n",
       "<polyline clip-path=\"url(#clip770)\" style=\"stroke:#000000; stroke-linecap:round; stroke-linejoin:round; stroke-width:4; stroke-opacity:1; fill:none\" points=\"169.121,1486.45 169.121,47.2441 \"/>\n",
       "<polyline clip-path=\"url(#clip770)\" style=\"stroke:#000000; stroke-linecap:round; stroke-linejoin:round; stroke-width:4; stroke-opacity:1; fill:none\" points=\"169.121,1486.45 188.019,1486.45 \"/>\n",
       "<polyline clip-path=\"url(#clip770)\" style=\"stroke:#000000; stroke-linecap:round; stroke-linejoin:round; stroke-width:4; stroke-opacity:1; fill:none\" points=\"169.121,1156.36 188.019,1156.36 \"/>\n",
       "<polyline clip-path=\"url(#clip770)\" style=\"stroke:#000000; stroke-linecap:round; stroke-linejoin:round; stroke-width:4; stroke-opacity:1; fill:none\" points=\"169.121,826.263 188.019,826.263 \"/>\n",
       "<polyline clip-path=\"url(#clip770)\" style=\"stroke:#000000; stroke-linecap:round; stroke-linejoin:round; stroke-width:4; stroke-opacity:1; fill:none\" points=\"169.121,496.17 188.019,496.17 \"/>\n",
       "<polyline clip-path=\"url(#clip770)\" style=\"stroke:#000000; stroke-linecap:round; stroke-linejoin:round; stroke-width:4; stroke-opacity:1; fill:none\" points=\"169.121,166.077 188.019,166.077 \"/>\n",
       "<path clip-path=\"url(#clip770)\" d=\"M121.177 1472.25 Q117.566 1472.25 115.737 1475.81 Q113.932 1479.35 113.932 1486.48 Q113.932 1493.59 115.737 1497.15 Q117.566 1500.7 121.177 1500.7 Q124.811 1500.7 126.617 1497.15 Q128.445 1493.59 128.445 1486.48 Q128.445 1479.35 126.617 1475.81 Q124.811 1472.25 121.177 1472.25 M121.177 1468.54 Q126.987 1468.54 130.043 1473.15 Q133.121 1477.73 133.121 1486.48 Q133.121 1495.21 130.043 1499.82 Q126.987 1504.4 121.177 1504.4 Q115.367 1504.4 112.288 1499.82 Q109.233 1495.21 109.233 1486.48 Q109.233 1477.73 112.288 1473.15 Q115.367 1468.54 121.177 1468.54 Z\" fill=\"#000000\" fill-rule=\"nonzero\" fill-opacity=\"1\" /><path clip-path=\"url(#clip770)\" d=\"M86.0382 1169.7 L102.358 1169.7 L102.358 1173.64 L80.4133 1173.64 L80.4133 1169.7 Q83.0753 1166.95 87.6586 1162.32 Q92.2651 1157.66 93.4456 1156.32 Q95.691 1153.8 96.5706 1152.06 Q97.4734 1150.3 97.4734 1148.61 Q97.4734 1145.86 95.5289 1144.12 Q93.6076 1142.39 90.5058 1142.39 Q88.3067 1142.39 85.8531 1143.15 Q83.4225 1143.91 80.6447 1145.46 L80.6447 1140.74 Q83.4688 1139.61 85.9225 1139.03 Q88.3762 1138.45 90.4132 1138.45 Q95.7836 1138.45 98.978 1141.14 Q102.172 1143.82 102.172 1148.31 Q102.172 1150.44 101.362 1152.36 Q100.575 1154.26 98.4687 1156.85 Q97.89 1157.52 94.7882 1160.74 Q91.6864 1163.94 86.0382 1169.7 Z\" fill=\"#000000\" fill-rule=\"nonzero\" fill-opacity=\"1\" /><path clip-path=\"url(#clip770)\" d=\"M112.219 1139.08 L130.575 1139.08 L130.575 1143.01 L116.501 1143.01 L116.501 1151.48 Q117.52 1151.14 118.538 1150.97 Q119.557 1150.79 120.575 1150.79 Q126.362 1150.79 129.742 1153.96 Q133.121 1157.13 133.121 1162.55 Q133.121 1168.13 129.649 1171.23 Q126.177 1174.31 119.857 1174.31 Q117.682 1174.31 115.413 1173.94 Q113.168 1173.57 110.76 1172.83 L110.76 1168.13 Q112.844 1169.26 115.066 1169.82 Q117.288 1170.37 119.765 1170.37 Q123.77 1170.37 126.107 1168.26 Q128.445 1166.16 128.445 1162.55 Q128.445 1158.94 126.107 1156.83 Q123.77 1154.72 119.765 1154.72 Q117.89 1154.72 116.015 1155.14 Q114.163 1155.56 112.219 1156.44 L112.219 1139.08 Z\" fill=\"#000000\" fill-rule=\"nonzero\" fill-opacity=\"1\" /><path clip-path=\"url(#clip770)\" d=\"M81.0614 808.983 L99.4178 808.983 L99.4178 812.918 L85.3438 812.918 L85.3438 821.39 Q86.3623 821.043 87.3808 820.881 Q88.3993 820.696 89.4178 820.696 Q95.2049 820.696 98.5845 823.867 Q101.964 827.038 101.964 832.455 Q101.964 838.033 98.4919 841.135 Q95.0197 844.214 88.7003 844.214 Q86.5243 844.214 84.2558 843.844 Q82.0105 843.473 79.6031 842.732 L79.6031 838.033 Q81.6864 839.168 83.9086 839.723 Q86.1308 840.279 88.6077 840.279 Q92.6123 840.279 94.9502 838.172 Q97.2882 836.066 97.2882 832.455 Q97.2882 828.844 94.9502 826.737 Q92.6123 824.631 88.6077 824.631 Q86.7327 824.631 84.8577 825.047 Q83.0058 825.464 81.0614 826.344 L81.0614 808.983 Z\" fill=\"#000000\" fill-rule=\"nonzero\" fill-opacity=\"1\" /><path clip-path=\"url(#clip770)\" d=\"M121.177 812.061 Q117.566 812.061 115.737 815.626 Q113.932 819.168 113.932 826.297 Q113.932 833.404 115.737 836.969 Q117.566 840.51 121.177 840.51 Q124.811 840.51 126.617 836.969 Q128.445 833.404 128.445 826.297 Q128.445 819.168 126.617 815.626 Q124.811 812.061 121.177 812.061 M121.177 808.358 Q126.987 808.358 130.043 812.964 Q133.121 817.547 133.121 826.297 Q133.121 835.024 130.043 839.631 Q126.987 844.214 121.177 844.214 Q115.367 844.214 112.288 839.631 Q109.233 835.024 109.233 826.297 Q109.233 817.547 112.288 812.964 Q115.367 808.358 121.177 808.358 Z\" fill=\"#000000\" fill-rule=\"nonzero\" fill-opacity=\"1\" /><path clip-path=\"url(#clip770)\" d=\"M80.8299 478.89 L103.052 478.89 L103.052 480.881 L90.5058 513.45 L85.6216 513.45 L97.4271 482.825 L80.8299 482.825 L80.8299 478.89 Z\" fill=\"#000000\" fill-rule=\"nonzero\" fill-opacity=\"1\" /><path clip-path=\"url(#clip770)\" d=\"M112.219 478.89 L130.575 478.89 L130.575 482.825 L116.501 482.825 L116.501 491.297 Q117.52 490.95 118.538 490.788 Q119.557 490.603 120.575 490.603 Q126.362 490.603 129.742 493.774 Q133.121 496.946 133.121 502.362 Q133.121 507.941 129.649 511.043 Q126.177 514.121 119.857 514.121 Q117.682 514.121 115.413 513.751 Q113.168 513.381 110.76 512.64 L110.76 507.941 Q112.844 509.075 115.066 509.631 Q117.288 510.186 119.765 510.186 Q123.77 510.186 126.107 508.08 Q128.445 505.973 128.445 502.362 Q128.445 498.751 126.107 496.645 Q123.77 494.538 119.765 494.538 Q117.89 494.538 116.015 494.955 Q114.163 495.371 112.219 496.251 L112.219 478.89 Z\" fill=\"#000000\" fill-rule=\"nonzero\" fill-opacity=\"1\" /><path clip-path=\"url(#clip770)\" d=\"M51.6634 179.422 L59.3023 179.422 L59.3023 153.057 L50.9921 154.723 L50.9921 150.464 L59.256 148.797 L63.9319 148.797 L63.9319 179.422 L71.5707 179.422 L71.5707 183.357 L51.6634 183.357 L51.6634 179.422 Z\" fill=\"#000000\" fill-rule=\"nonzero\" fill-opacity=\"1\" /><path clip-path=\"url(#clip770)\" d=\"M91.0151 151.876 Q87.404 151.876 85.5753 155.441 Q83.7697 158.983 83.7697 166.112 Q83.7697 173.219 85.5753 176.783 Q87.404 180.325 91.0151 180.325 Q94.6493 180.325 96.4548 176.783 Q98.2835 173.219 98.2835 166.112 Q98.2835 158.983 96.4548 155.441 Q94.6493 151.876 91.0151 151.876 M91.0151 148.172 Q96.8252 148.172 99.8808 152.779 Q102.959 157.362 102.959 166.112 Q102.959 174.839 99.8808 179.445 Q96.8252 184.029 91.0151 184.029 Q85.2049 184.029 82.1262 179.445 Q79.0707 174.839 79.0707 166.112 Q79.0707 157.362 82.1262 152.779 Q85.2049 148.172 91.0151 148.172 Z\" fill=\"#000000\" fill-rule=\"nonzero\" fill-opacity=\"1\" /><path clip-path=\"url(#clip770)\" d=\"M121.177 151.876 Q117.566 151.876 115.737 155.441 Q113.932 158.983 113.932 166.112 Q113.932 173.219 115.737 176.783 Q117.566 180.325 121.177 180.325 Q124.811 180.325 126.617 176.783 Q128.445 173.219 128.445 166.112 Q128.445 158.983 126.617 155.441 Q124.811 151.876 121.177 151.876 M121.177 148.172 Q126.987 148.172 130.043 152.779 Q133.121 157.362 133.121 166.112 Q133.121 174.839 130.043 179.445 Q126.987 184.029 121.177 184.029 Q115.367 184.029 112.288 179.445 Q109.233 174.839 109.233 166.112 Q109.233 157.362 112.288 152.779 Q115.367 148.172 121.177 148.172 Z\" fill=\"#000000\" fill-rule=\"nonzero\" fill-opacity=\"1\" /><path clip-path=\"url(#clip772)\" d=\"M289.225 509.374 L289.225 1486.45 L483.568 1486.45 L483.568 509.374 L289.225 509.374 L289.225 509.374  Z\" fill=\"#009af9\" fill-rule=\"evenodd\" fill-opacity=\"1\"/>\n",
       "<polyline clip-path=\"url(#clip772)\" style=\"stroke:#000000; stroke-linecap:round; stroke-linejoin:round; stroke-width:4; stroke-opacity:1; fill:none\" points=\"289.225,509.374 289.225,1486.45 483.568,1486.45 483.568,509.374 289.225,509.374 \"/>\n",
       "<path clip-path=\"url(#clip772)\" d=\"M483.568 1222.37 L483.568 1486.45 L677.911 1486.45 L677.911 1222.37 L483.568 1222.37 L483.568 1222.37  Z\" fill=\"#009af9\" fill-rule=\"evenodd\" fill-opacity=\"1\"/>\n",
       "<polyline clip-path=\"url(#clip772)\" style=\"stroke:#000000; stroke-linecap:round; stroke-linejoin:round; stroke-width:4; stroke-opacity:1; fill:none\" points=\"483.568,1222.37 483.568,1486.45 677.911,1486.45 677.911,1222.37 483.568,1222.37 \"/>\n",
       "<path clip-path=\"url(#clip772)\" d=\"M677.911 1011.11 L677.911 1486.45 L872.253 1486.45 L872.253 1011.11 L677.911 1011.11 L677.911 1011.11  Z\" fill=\"#009af9\" fill-rule=\"evenodd\" fill-opacity=\"1\"/>\n",
       "<polyline clip-path=\"url(#clip772)\" style=\"stroke:#000000; stroke-linecap:round; stroke-linejoin:round; stroke-width:4; stroke-opacity:1; fill:none\" points=\"677.911,1011.11 677.911,1486.45 872.253,1486.45 872.253,1011.11 677.911,1011.11 \"/>\n",
       "<path clip-path=\"url(#clip772)\" d=\"M872.253 786.652 L872.253 1486.45 L1066.6 1486.45 L1066.6 786.652 L872.253 786.652 L872.253 786.652  Z\" fill=\"#009af9\" fill-rule=\"evenodd\" fill-opacity=\"1\"/>\n",
       "<polyline clip-path=\"url(#clip772)\" style=\"stroke:#000000; stroke-linecap:round; stroke-linejoin:round; stroke-width:4; stroke-opacity:1; fill:none\" points=\"872.253,786.652 872.253,1486.45 1066.6,1486.45 1066.6,786.652 872.253,786.652 \"/>\n",
       "<path clip-path=\"url(#clip772)\" d=\"M1066.6 47.2441 L1066.6 1486.45 L1260.94 1486.45 L1260.94 47.2441 L1066.6 47.2441 L1066.6 47.2441  Z\" fill=\"#009af9\" fill-rule=\"evenodd\" fill-opacity=\"1\"/>\n",
       "<polyline clip-path=\"url(#clip772)\" style=\"stroke:#000000; stroke-linecap:round; stroke-linejoin:round; stroke-width:4; stroke-opacity:1; fill:none\" points=\"1066.6,47.2441 1066.6,1486.45 1260.94,1486.45 1260.94,47.2441 1066.6,47.2441 \"/>\n",
       "<path clip-path=\"url(#clip772)\" d=\"M1260.94 760.244 L1260.94 1486.45 L1455.28 1486.45 L1455.28 760.244 L1260.94 760.244 L1260.94 760.244  Z\" fill=\"#009af9\" fill-rule=\"evenodd\" fill-opacity=\"1\"/>\n",
       "<polyline clip-path=\"url(#clip772)\" style=\"stroke:#000000; stroke-linecap:round; stroke-linejoin:round; stroke-width:4; stroke-opacity:1; fill:none\" points=\"1260.94,760.244 1260.94,1486.45 1455.28,1486.45 1455.28,760.244 1260.94,760.244 \"/>\n",
       "<path clip-path=\"url(#clip772)\" d=\"M1455.28 1050.73 L1455.28 1486.45 L1649.62 1486.45 L1649.62 1050.73 L1455.28 1050.73 L1455.28 1050.73  Z\" fill=\"#009af9\" fill-rule=\"evenodd\" fill-opacity=\"1\"/>\n",
       "<polyline clip-path=\"url(#clip772)\" style=\"stroke:#000000; stroke-linecap:round; stroke-linejoin:round; stroke-width:4; stroke-opacity:1; fill:none\" points=\"1455.28,1050.73 1455.28,1486.45 1649.62,1486.45 1649.62,1050.73 1455.28,1050.73 \"/>\n",
       "<path clip-path=\"url(#clip772)\" d=\"M1649.62 1129.95 L1649.62 1486.45 L1843.97 1486.45 L1843.97 1129.95 L1649.62 1129.95 L1649.62 1129.95  Z\" fill=\"#009af9\" fill-rule=\"evenodd\" fill-opacity=\"1\"/>\n",
       "<polyline clip-path=\"url(#clip772)\" style=\"stroke:#000000; stroke-linecap:round; stroke-linejoin:round; stroke-width:4; stroke-opacity:1; fill:none\" points=\"1649.62,1129.95 1649.62,1486.45 1843.97,1486.45 1843.97,1129.95 1649.62,1129.95 \"/>\n",
       "<path clip-path=\"url(#clip772)\" d=\"M1843.97 1129.95 L1843.97 1486.45 L2038.31 1486.45 L2038.31 1129.95 L1843.97 1129.95 L1843.97 1129.95  Z\" fill=\"#009af9\" fill-rule=\"evenodd\" fill-opacity=\"1\"/>\n",
       "<polyline clip-path=\"url(#clip772)\" style=\"stroke:#000000; stroke-linecap:round; stroke-linejoin:round; stroke-width:4; stroke-opacity:1; fill:none\" points=\"1843.97,1129.95 1843.97,1486.45 2038.31,1486.45 2038.31,1129.95 1843.97,1129.95 \"/>\n",
       "<path clip-path=\"url(#clip772)\" d=\"M2038.31 456.559 L2038.31 1486.45 L2232.65 1486.45 L2232.65 456.559 L2038.31 456.559 L2038.31 456.559  Z\" fill=\"#009af9\" fill-rule=\"evenodd\" fill-opacity=\"1\"/>\n",
       "<polyline clip-path=\"url(#clip772)\" style=\"stroke:#000000; stroke-linecap:round; stroke-linejoin:round; stroke-width:4; stroke-opacity:1; fill:none\" points=\"2038.31,456.559 2038.31,1486.45 2232.65,1486.45 2232.65,456.559 2038.31,456.559 \"/>\n",
       "<circle clip-path=\"url(#clip772)\" style=\"fill:#009af9; stroke:none; fill-opacity:0\" cx=\"386.396\" cy=\"509.374\" r=\"2\"/>\n",
       "<circle clip-path=\"url(#clip772)\" style=\"fill:#009af9; stroke:none; fill-opacity:0\" cx=\"580.739\" cy=\"1222.37\" r=\"2\"/>\n",
       "<circle clip-path=\"url(#clip772)\" style=\"fill:#009af9; stroke:none; fill-opacity:0\" cx=\"775.082\" cy=\"1011.11\" r=\"2\"/>\n",
       "<circle clip-path=\"url(#clip772)\" style=\"fill:#009af9; stroke:none; fill-opacity:0\" cx=\"969.425\" cy=\"786.652\" r=\"2\"/>\n",
       "<circle clip-path=\"url(#clip772)\" style=\"fill:#009af9; stroke:none; fill-opacity:0\" cx=\"1163.77\" cy=\"47.2441\" r=\"2\"/>\n",
       "<circle clip-path=\"url(#clip772)\" style=\"fill:#009af9; stroke:none; fill-opacity:0\" cx=\"1358.11\" cy=\"760.244\" r=\"2\"/>\n",
       "<circle clip-path=\"url(#clip772)\" style=\"fill:#009af9; stroke:none; fill-opacity:0\" cx=\"1552.45\" cy=\"1050.73\" r=\"2\"/>\n",
       "<circle clip-path=\"url(#clip772)\" style=\"fill:#009af9; stroke:none; fill-opacity:0\" cx=\"1746.8\" cy=\"1129.95\" r=\"2\"/>\n",
       "<circle clip-path=\"url(#clip772)\" style=\"fill:#009af9; stroke:none; fill-opacity:0\" cx=\"1941.14\" cy=\"1129.95\" r=\"2\"/>\n",
       "<circle clip-path=\"url(#clip772)\" style=\"fill:#009af9; stroke:none; fill-opacity:0\" cx=\"2135.48\" cy=\"456.559\" r=\"2\"/>\n",
       "<path clip-path=\"url(#clip770)\" d=\"M2009.17 198.898 L2279.97 198.898 L2279.97 95.2176 L2009.17 95.2176  Z\" fill=\"#ffffff\" fill-rule=\"evenodd\" fill-opacity=\"1\"/>\n",
       "<polyline clip-path=\"url(#clip770)\" style=\"stroke:#000000; stroke-linecap:round; stroke-linejoin:round; stroke-width:4; stroke-opacity:1; fill:none\" points=\"2009.17,198.898 2279.97,198.898 2279.97,95.2176 2009.17,95.2176 2009.17,198.898 \"/>\n",
       "<path clip-path=\"url(#clip770)\" d=\"M2033.44 167.794 L2179.01 167.794 L2179.01 126.322 L2033.44 126.322 L2033.44 167.794  Z\" fill=\"#009af9\" fill-rule=\"evenodd\" fill-opacity=\"1\"/>\n",
       "<polyline clip-path=\"url(#clip770)\" style=\"stroke:#000000; stroke-linecap:round; stroke-linejoin:round; stroke-width:4; stroke-opacity:1; fill:none\" points=\"2033.44,167.794 2179.01,167.794 2179.01,126.322 2033.44,126.322 2033.44,167.794 \"/>\n",
       "<path clip-path=\"url(#clip770)\" d=\"M2217.12 166.745 Q2215.31 171.375 2213.6 172.787 Q2211.89 174.199 2209.02 174.199 L2205.61 174.199 L2205.61 170.634 L2208.11 170.634 Q2209.87 170.634 2210.84 169.8 Q2211.82 168.967 2213 165.865 L2213.76 163.921 L2203.28 138.412 L2207.79 138.412 L2215.89 158.689 L2223.99 138.412 L2228.51 138.412 L2217.12 166.745 Z\" fill=\"#000000\" fill-rule=\"nonzero\" fill-opacity=\"1\" /><path clip-path=\"url(#clip770)\" d=\"M2235.8 160.402 L2243.44 160.402 L2243.44 134.037 L2235.13 135.703 L2235.13 131.444 L2243.39 129.778 L2248.07 129.778 L2248.07 160.402 L2255.71 160.402 L2255.71 164.338 L2235.8 164.338 L2235.8 160.402 Z\" fill=\"#000000\" fill-rule=\"nonzero\" fill-opacity=\"1\" /></svg>\n"
      ]
     },
     "execution_count": 16,
     "metadata": {},
     "output_type": "execute_result"
    }
   ],
   "source": [
    "histogram(vec(p0))"
   ]
  },
  {
   "cell_type": "code",
   "execution_count": 17,
   "metadata": {},
   "outputs": [],
   "source": [
    "stt_phase = st_phase\n",
    "for (x, _) in train_loader\n",
    "    _, stt_phase = to_phase(x, ps_phase, stt_phase)\n",
    "end"
   ]
  },
  {
   "cell_type": "code",
   "execution_count": 18,
   "metadata": {},
   "outputs": [
    {
     "data": {
      "text/plain": [
       "(layer_1 = (bias = Float32[0.0; 0.0;;], scale = Float32[1.0; 1.0;;]), layer_2 = NamedTuple())"
      ]
     },
     "execution_count": 18,
     "metadata": {},
     "output_type": "execute_result"
    }
   ],
   "source": [
    "ps_phase"
   ]
  },
  {
   "cell_type": "code",
   "execution_count": 19,
   "metadata": {},
   "outputs": [
    {
     "data": {
      "text/plain": [
       "(layer_1 = NamedTuple(), layer_2 = NamedTuple())"
      ]
     },
     "execution_count": 19,
     "metadata": {},
     "output_type": "execute_result"
    }
   ],
   "source": [
    "stt_phase"
   ]
  },
  {
   "cell_type": "code",
   "execution_count": 20,
   "metadata": {},
   "outputs": [],
   "source": [
    "using ChainRulesCore: ignore_derivatives"
   ]
  },
  {
   "cell_type": "code",
   "execution_count": 21,
   "metadata": {},
   "outputs": [
    {
     "data": {
      "text/plain": [
       "phase_to_current (generic function with 1 method)"
      ]
     },
     "execution_count": 21,
     "metadata": {},
     "output_type": "execute_result"
    }
   ],
   "source": [
    "function phase_to_current(phases::AbstractArray; spk_args::SpikingArgs)\n",
    "    function inner(t::Real)\n",
    "        output = zero(phases)\n",
    "\n",
    "        ignore_derivatives() do\n",
    "            times = phases .* spk_args.t_period\n",
    "            times = mod.(times, spk_args.t_period)\n",
    "\n",
    "            #add currents into the active synapses\n",
    "            current_kernel = x -> gaussian_kernel(x, t, spk_args.t_window)\n",
    "            impulses = current_kernel(times)\n",
    "            output .+= impulses\n",
    "        end\n",
    "\n",
    "        return output\n",
    "    end\n",
    "\n",
    "    return inner\n",
    "end"
   ]
  },
  {
   "cell_type": "code",
   "execution_count": 22,
   "metadata": {},
   "outputs": [
    {
     "data": {
      "text/plain": [
       "(::var\"#inner#43\"{SpikingArgs, LinearAlgebra.Adjoint{Float64, Matrix{Float64}}}) (generic function with 1 method)"
      ]
     },
     "execution_count": 22,
     "metadata": {},
     "output_type": "execute_result"
    }
   ],
   "source": [
    "xfn = phase_to_current(x, spk_args=spk_args)"
   ]
  },
  {
   "cell_type": "code",
   "execution_count": 23,
   "metadata": {},
   "outputs": [
    {
     "data": {
      "text/plain": [
       "2×256 Matrix{Float64}:\n",
       " 0.0367008     0.0          5.11018e-138  …  4.11898e-169  0.0           0.0\n",
       " 3.19094e-194  8.96151e-11  0.0              0.0           1.56768e-302  0.0"
      ]
     },
     "execution_count": 23,
     "metadata": {},
     "output_type": "execute_result"
    }
   ],
   "source": [
    "xfn(0.4)"
   ]
  },
  {
   "cell_type": "code",
   "execution_count": 24,
   "metadata": {},
   "outputs": [
    {
     "data": {
      "text/plain": [
       "Dict{Symbol, Real} with 2 entries:\n",
       "  :adaptive => false\n",
       "  :dt       => 0.01"
      ]
     },
     "execution_count": 24,
     "metadata": {},
     "output_type": "execute_result"
    }
   ],
   "source": [
    "solver_args"
   ]
  },
  {
   "cell_type": "code",
   "execution_count": 25,
   "metadata": {},
   "outputs": [
    {
     "data": {
      "text/plain": [
       "Chain(\n",
       "    layer_1 = LayerNorm((2,), affine=true, dims=Colon()),  \u001b[90m# 4 parameters\u001b[39m\n",
       "    layer_2 = WrappedFunction(#46),\n",
       "    layer_3 = WrappedFunction(#47),\n",
       "    layer_4 = PhasorODE(\n",
       "        model = Dense(2 => 128),        \u001b[90m# 384 parameters\u001b[39m\n",
       "    ),\n",
       ") \u001b[90m        # Total: \u001b[39m388 parameters,\n",
       "\u001b[90m          #        plus \u001b[39m0 states."
      ]
     },
     "execution_count": 25,
     "metadata": {},
     "output_type": "execute_result"
    }
   ],
   "source": [
    "sol_model = Chain(LayerNorm((2,)), \n",
    "                    x -> tanh_fast.(x),\n",
    "                    x -> phase_to_current(x, spk_args=spk_args),\n",
    "                    PhasorODE(Chain(Dense(2 => 128)), tspan = (0.0, 10.0), dt = solver_args[:dt]))"
   ]
  },
  {
   "cell_type": "code",
   "execution_count": 26,
   "metadata": {},
   "outputs": [
    {
     "data": {
      "text/plain": [
       "((layer_1 = (bias = Float32[0.0; 0.0;;], scale = Float32[1.0; 1.0;;]), layer_2 = NamedTuple(), layer_3 = NamedTuple(), layer_4 = (weight = Float32[0.03740502 0.007607913; 0.032051656 -0.14364149; … ; 0.17915592 -0.04504438; -0.20711923 0.07185902], bias = Float32[0.0; 0.0; … ; 0.0; 0.0;;])), (layer_1 = NamedTuple(), layer_2 = NamedTuple(), layer_3 = NamedTuple(), layer_4 = NamedTuple()))"
      ]
     },
     "execution_count": 26,
     "metadata": {},
     "output_type": "execute_result"
    }
   ],
   "source": [
    "ps_sol, st_sol = Lux.setup(args.rng, sol_model)"
   ]
  },
  {
   "cell_type": "code",
   "execution_count": 27,
   "metadata": {},
   "outputs": [
    {
     "data": {
      "text/plain": [
       "(ODESolution{ComplexF32, 3, Vector{Matrix{ComplexF32}}, Nothing, Nothing, Vector{Float64}, Vector{Vector{Matrix{ComplexF32}}}, ODEProblem{Matrix{ComplexF32}, Tuple{Float64, Float64}, false, @NamedTuple{weight::Matrix{Float32}, bias::Matrix{Float32}}, ODEFunction{false, SciMLBase.AutoSpecialize, Main.PhasorNetworks.var\"#dudt#145\"{PhasorODE{Dense{true, typeof(identity), typeof(glorot_uniform), typeof(zeros32)}, Tsit5{typeof(OrdinaryDiffEq.trivial_limiter!), typeof(OrdinaryDiffEq.trivial_limiter!), Static.False}, SciMLSensitivity.InterpolatingAdjoint{0, true, Val{:central}, SciMLSensitivity.ZygoteVJP}, Tuple{Float64, Float64}}, var\"#inner#43\"{SpikingArgs, Matrix{Float64}}, @NamedTuple{}}, LinearAlgebra.UniformScaling{Bool}, Nothing, Nothing, Nothing, Nothing, Nothing, Nothing, Nothing, Nothing, Nothing, Nothing, Nothing, typeof(SciMLBase.DEFAULT_OBSERVED), Nothing, Nothing, Nothing, Nothing}, Base.Pairs{Symbol, Union{}, Tuple{}, @NamedTuple{}}, SciMLBase.StandardODEProblem}, Tsit5{typeof(OrdinaryDiffEq.trivial_limiter!), typeof(OrdinaryDiffEq.trivial_limiter!), Static.False}, OrdinaryDiffEq.InterpolationData{ODEFunction{false, SciMLBase.AutoSpecialize, Main.PhasorNetworks.var\"#dudt#145\"{PhasorODE{Dense{true, typeof(identity), typeof(glorot_uniform), typeof(zeros32)}, Tsit5{typeof(OrdinaryDiffEq.trivial_limiter!), typeof(OrdinaryDiffEq.trivial_limiter!), Static.False}, SciMLSensitivity.InterpolatingAdjoint{0, true, Val{:central}, SciMLSensitivity.ZygoteVJP}, Tuple{Float64, Float64}}, var\"#inner#43\"{SpikingArgs, Matrix{Float64}}, @NamedTuple{}}, LinearAlgebra.UniformScaling{Bool}, Nothing, Nothing, Nothing, Nothing, Nothing, Nothing, Nothing, Nothing, Nothing, Nothing, Nothing, typeof(SciMLBase.DEFAULT_OBSERVED), Nothing, Nothing, Nothing, Nothing}, Vector{Matrix{ComplexF32}}, Vector{Float64}, Vector{Vector{Matrix{ComplexF32}}}, Nothing, OrdinaryDiffEq.Tsit5ConstantCache, Nothing}, SciMLBase.DEStats, Nothing, Nothing, Nothing}(Matrix{ComplexF32}[[0.00021067983f0 + 8.9479244f-7im 0.00014465784f0 + 0.00020679164f0im … 0.00010851436f0 + 0.00018261641f0im 0.0002313025f0 + 0.000115728f0im; 0.00023642606f0 + 0.0007548216f0im -0.00055787014f0 - 0.00034430268f0im … 0.00074685056f0 - 0.00032003594f0im -0.0005322077f0 - 0.00035670702f0im; … ; 0.0010394104f0 + 0.0004134685f0im 0.00032287036f0 + 0.000707466f0im … 0.0008745583f0 + 0.00061608606f0im 0.0007115021f0 + 0.00030691762f0im; -0.0012090108f0 - 0.0005773527f0im -0.00028343408f0 - 0.0007491823f0im … -0.001097211f0 - 0.00064946647f0im -0.0007263244f0 - 0.00029476106f0im]], nothing, nothing, [10.0], Vector{Matrix{ComplexF32}}[], ODEProblem{Matrix{ComplexF32}, Tuple{Float64, Float64}, false, @NamedTuple{weight::Matrix{Float32}, bias::Matrix{Float32}}, ODEFunction{false, SciMLBase.AutoSpecialize, Main.PhasorNetworks.var\"#dudt#145\"{PhasorODE{Dense{true, typeof(identity), typeof(glorot_uniform), typeof(zeros32)}, Tsit5{typeof(OrdinaryDiffEq.trivial_limiter!), typeof(OrdinaryDiffEq.trivial_limiter!), Static.False}, SciMLSensitivity.InterpolatingAdjoint{0, true, Val{:central}, SciMLSensitivity.ZygoteVJP}, Tuple{Float64, Float64}}, var\"#inner#43\"{SpikingArgs, Matrix{Float64}}, @NamedTuple{}}, LinearAlgebra.UniformScaling{Bool}, Nothing, Nothing, Nothing, Nothing, Nothing, Nothing, Nothing, Nothing, Nothing, Nothing, Nothing, typeof(SciMLBase.DEFAULT_OBSERVED), Nothing, Nothing, Nothing, Nothing}, Base.Pairs{Symbol, Union{}, Tuple{}, @NamedTuple{}}, SciMLBase.StandardODEProblem}(ODEFunction{false, SciMLBase.AutoSpecialize, Main.PhasorNetworks.var\"#dudt#145\"{PhasorODE{Dense{true, typeof(identity), typeof(glorot_uniform), typeof(zeros32)}, Tsit5{typeof(OrdinaryDiffEq.trivial_limiter!), typeof(OrdinaryDiffEq.trivial_limiter!), Static.False}, SciMLSensitivity.InterpolatingAdjoint{0, true, Val{:central}, SciMLSensitivity.ZygoteVJP}, Tuple{Float64, Float64}}, var\"#inner#43\"{SpikingArgs, Matrix{Float64}}, @NamedTuple{}}, LinearAlgebra.UniformScaling{Bool}, Nothing, Nothing, Nothing, Nothing, Nothing, Nothing, Nothing, Nothing, Nothing, Nothing, Nothing, typeof(SciMLBase.DEFAULT_OBSERVED), Nothing, Nothing, Nothing, Nothing}(Main.PhasorNetworks.var\"#dudt#145\"{PhasorODE{Dense{true, typeof(identity), typeof(glorot_uniform), typeof(zeros32)}, Tsit5{typeof(OrdinaryDiffEq.trivial_limiter!), typeof(OrdinaryDiffEq.trivial_limiter!), Static.False}, SciMLSensitivity.InterpolatingAdjoint{0, true, Val{:central}, SciMLSensitivity.ZygoteVJP}, Tuple{Float64, Float64}}, var\"#inner#43\"{SpikingArgs, Matrix{Float64}}, @NamedTuple{}}(PhasorODE(), var\"#inner#43\"{SpikingArgs, Matrix{Float64}}(Neuron parameters: Period 1.0 (s)\n",
       "Current kernel duration: 0.01 (s)\n",
       "Threshold: 0.001 (V)\n",
       ", [0.9711341735396107 -0.1628081753962095 … -0.1339564920906035 -0.07084449409788965; -0.7382633272485227 0.8960409235587877 … -0.39980853999123117 -0.08884499833474777]), NamedTuple()), LinearAlgebra.UniformScaling{Bool}(true), nothing, nothing, nothing, nothing, nothing, nothing, nothing, nothing, nothing, nothing, nothing, SciMLBase.DEFAULT_OBSERVED, nothing, nothing, nothing, nothing), ComplexF32[0.0f0 + 0.0f0im 0.0f0 + 0.0f0im … 0.0f0 + 0.0f0im 0.0f0 + 0.0f0im; 0.0f0 + 0.0f0im 0.0f0 + 0.0f0im … 0.0f0 + 0.0f0im 0.0f0 + 0.0f0im; … ; 0.0f0 + 0.0f0im 0.0f0 + 0.0f0im … 0.0f0 + 0.0f0im 0.0f0 + 0.0f0im; 0.0f0 + 0.0f0im 0.0f0 + 0.0f0im … 0.0f0 + 0.0f0im 0.0f0 + 0.0f0im], (0.0, 10.0), (weight = Float32[0.03740502 0.007607913; 0.032051656 -0.14364149; … ; 0.17915592 -0.04504438; -0.20711923 0.07185902], bias = Float32[0.0; 0.0; … ; 0.0; 0.0;;]), Base.Pairs{Symbol, Union{}, Tuple{}, @NamedTuple{}}(), SciMLBase.StandardODEProblem()), Tsit5(; stage_limiter! = trivial_limiter!, step_limiter! = trivial_limiter!, thread = static(false),), OrdinaryDiffEq.InterpolationData{ODEFunction{false, SciMLBase.AutoSpecialize, Main.PhasorNetworks.var\"#dudt#145\"{PhasorODE{Dense{true, typeof(identity), typeof(glorot_uniform), typeof(zeros32)}, Tsit5{typeof(OrdinaryDiffEq.trivial_limiter!), typeof(OrdinaryDiffEq.trivial_limiter!), Static.False}, SciMLSensitivity.InterpolatingAdjoint{0, true, Val{:central}, SciMLSensitivity.ZygoteVJP}, Tuple{Float64, Float64}}, var\"#inner#43\"{SpikingArgs, Matrix{Float64}}, @NamedTuple{}}, LinearAlgebra.UniformScaling{Bool}, Nothing, Nothing, Nothing, Nothing, Nothing, Nothing, Nothing, Nothing, Nothing, Nothing, Nothing, typeof(SciMLBase.DEFAULT_OBSERVED), Nothing, Nothing, Nothing, Nothing}, Vector{Matrix{ComplexF32}}, Vector{Float64}, Vector{Vector{Matrix{ComplexF32}}}, Nothing, OrdinaryDiffEq.Tsit5ConstantCache, Nothing}(ODEFunction{false, SciMLBase.AutoSpecialize, Main.PhasorNetworks.var\"#dudt#145\"{PhasorODE{Dense{true, typeof(identity), typeof(glorot_uniform), typeof(zeros32)}, Tsit5{typeof(OrdinaryDiffEq.trivial_limiter!), typeof(OrdinaryDiffEq.trivial_limiter!), Static.False}, SciMLSensitivity.InterpolatingAdjoint{0, true, Val{:central}, SciMLSensitivity.ZygoteVJP}, Tuple{Float64, Float64}}, var\"#inner#43\"{SpikingArgs, Matrix{Float64}}, @NamedTuple{}}, LinearAlgebra.UniformScaling{Bool}, Nothing, Nothing, Nothing, Nothing, Nothing, Nothing, Nothing, Nothing, Nothing, Nothing, Nothing, typeof(SciMLBase.DEFAULT_OBSERVED), Nothing, Nothing, Nothing, Nothing}(Main.PhasorNetworks.var\"#dudt#145\"{PhasorODE{Dense{true, typeof(identity), typeof(glorot_uniform), typeof(zeros32)}, Tsit5{typeof(OrdinaryDiffEq.trivial_limiter!), typeof(OrdinaryDiffEq.trivial_limiter!), Static.False}, SciMLSensitivity.InterpolatingAdjoint{0, true, Val{:central}, SciMLSensitivity.ZygoteVJP}, Tuple{Float64, Float64}}, var\"#inner#43\"{SpikingArgs, Matrix{Float64}}, @NamedTuple{}}(PhasorODE(), var\"#inner#43\"{SpikingArgs, Matrix{Float64}}(Neuron parameters: Period 1.0 (s)\n",
       "Current kernel duration: 0.01 (s)\n",
       "Threshold: 0.001 (V)\n",
       ", [0.9711341735396107 -0.1628081753962095 … -0.1339564920906035 -0.07084449409788965; -0.7382633272485227 0.8960409235587877 … -0.39980853999123117 -0.08884499833474777]), NamedTuple()), LinearAlgebra.UniformScaling{Bool}(true), nothing, nothing, nothing, nothing, nothing, nothing, nothing, nothing, nothing, nothing, nothing, SciMLBase.DEFAULT_OBSERVED, nothing, nothing, nothing, nothing), Matrix{ComplexF32}[[0.00021067983f0 + 8.9479244f-7im 0.00014465784f0 + 0.00020679164f0im … 0.00010851436f0 + 0.00018261641f0im 0.0002313025f0 + 0.000115728f0im; 0.00023642606f0 + 0.0007548216f0im -0.00055787014f0 - 0.00034430268f0im … 0.00074685056f0 - 0.00032003594f0im -0.0005322077f0 - 0.00035670702f0im; … ; 0.0010394104f0 + 0.0004134685f0im 0.00032287036f0 + 0.000707466f0im … 0.0008745583f0 + 0.00061608606f0im 0.0007115021f0 + 0.00030691762f0im; -0.0012090108f0 - 0.0005773527f0im -0.00028343408f0 - 0.0007491823f0im … -0.001097211f0 - 0.00064946647f0im -0.0007263244f0 - 0.00029476106f0im]], [10.0], Vector{Matrix{ComplexF32}}[], nothing, false, OrdinaryDiffEq.Tsit5ConstantCache(), nothing, false), false, 0, SciMLBase.DEStats(6001, 0, 0, 0, 0, 0, 0, 0, 0, 0, 1000, 0, 0.0), nothing, SciMLBase.ReturnCode.Success, nothing, nothing), (layer_1 = NamedTuple(), layer_2 = NamedTuple(), layer_3 = NamedTuple(), layer_4 = NamedTuple()))"
      ]
     },
     "execution_count": 27,
     "metadata": {},
     "output_type": "execute_result"
    }
   ],
   "source": [
    "y_sol, _ = sol_model(x, ps_sol, st_sol)"
   ]
  },
  {
   "cell_type": "code",
   "execution_count": 28,
   "metadata": {},
   "outputs": [
    {
     "data": {
      "text/plain": [
       "128×256 Matrix{Float64}:\n",
       "  0.998648    0.694301   -0.735815   0.826223  …   0.670665    0.852332\n",
       "  0.59662    -0.17601    -0.509708  -0.177775     -0.871134   -0.187953\n",
       "  0.460809   -0.224551   -0.44439   -0.176228     -0.742269   -0.172364\n",
       " -0.916049    0.71407    -0.861215   0.825628      0.58451     0.846346\n",
       " -0.376661    0.842768    0.479158   0.821588      0.101162    0.805651\n",
       "  0.830389    0.574469   -0.611045   0.830168  …   0.863084    0.89145\n",
       "  0.445323   -0.227905   -0.435236  -0.176124     -0.728614   -0.171322\n",
       " -0.0380102  -0.317648    0.300752  -0.173415     -0.289696   -0.144028\n",
       "  0.401016   -0.236437   -0.405663  -0.175864     -0.690345   -0.168688\n",
       "  0.70438    -0.0204142  -0.553996  -0.184588     -0.987914   -0.254601\n",
       "  0.345858   -0.245582   -0.358852  -0.175586  …  -0.643846   -0.165885\n",
       "  0.464982   -0.223606   -0.44677   -0.176257     -0.745978   -0.172658\n",
       "  0.214735   -0.264751   -0.160589  -0.175008     -0.533706   -0.160057\n",
       "  ⋮                                            ⋱               ⋮\n",
       " -0.708217    0.746325    0.704032   0.824659      0.401264    0.836582\n",
       " -0.12173    -0.364767    0.362197  -0.171939     -0.193914   -0.129295\n",
       "  0.311874   -0.250732   -0.321829  -0.17543      -0.615491   -0.164314\n",
       "  0.589366   -0.180206   -0.506635  -0.177636     -0.863758   -0.186557\n",
       " -0.154618   -0.401257    0.381026  -0.170712  …  -0.154858   -0.117164\n",
       " -0.773559    0.736941    0.814813   0.824941      0.456281    0.839431\n",
       "  0.538694   -0.20272    -0.484238  -0.176909     -0.8139     -0.179238\n",
       " -0.226033   -0.620873    0.416122  -0.156782     -0.0693435   0.00459806\n",
       " -0.0870019  -0.340226    0.339555  -0.172719     -0.23442    -0.137062\n",
       " -0.474675    0.792733    0.522033   0.823234  …   0.198795    0.822209\n",
       "  0.879488    0.636282   -0.638544   0.828027      0.80465     0.870368\n",
       " -0.141813   -0.384873    0.37395   -0.171275     -0.170124   -0.122714"
      ]
     },
     "execution_count": 28,
     "metadata": {},
     "output_type": "execute_result"
    }
   ],
   "source": [
    "solution_to_phase(y_sol, spk_args=spk_args)"
   ]
  },
  {
   "cell_type": "code",
   "execution_count": 29,
   "metadata": {},
   "outputs": [
    {
     "data": {
      "text/plain": [
       "0.4811146624598816"
      ]
     },
     "execution_count": 29,
     "metadata": {},
     "output_type": "execute_result"
    }
   ],
   "source": [
    "mean(abs.(solution_to_phase(sol_model(x, ps_sol, st_sol)[1], spk_args=spk_args)))"
   ]
  },
  {
   "cell_type": "code",
   "execution_count": 30,
   "metadata": {},
   "outputs": [
    {
     "data": {
      "text/plain": [
       "\u001b[0mComponentVector{Float32}(layer_1 = (bias = Float32[0.0; 0.0;;], scale = Float32[1.0; 1.0;;]), layer_2 = Float32[], layer_3 = Float32[], layer_4 = (weight = Float32[0.03740502 0.007607913; 0.032051656 -0.14364149; … ; 0.17915592 -0.04504438; -0.20711923 0.07185902], bias = Float32[0.0; 0.0; … ; 0.0; 0.0;;]))"
      ]
     },
     "execution_count": 30,
     "metadata": {},
     "output_type": "execute_result"
    }
   ],
   "source": [
    "psf_sol = ComponentArray(ps_sol)"
   ]
  },
  {
   "cell_type": "code",
   "execution_count": 31,
   "metadata": {},
   "outputs": [
    {
     "data": {
      "text/plain": [
       "128×256×1 Array{ComplexF32, 3}:\n",
       "[:, :, 1] =\n",
       "   0.00021068+8.94792f-7im   …   0.000231303+0.000115728im\n",
       "  0.000236426+0.000754822im     -0.000532208-0.000356707im\n",
       "  -7.36044f-5+0.000594796im     -0.000705884-0.000424565im\n",
       "  0.000508596-0.000137335im      0.000704899+0.000369417im\n",
       " -0.000446465-0.00109397im       0.000656897+0.00045967im\n",
       "   0.00109756+0.000647284im  …   0.000530012+0.000188094im\n",
       "  -6.26055f-5+0.000360876im     -0.000448061-0.000267501im\n",
       "  -0.00112022-0.000134408im      -0.00109369-0.000531659im\n",
       "  -2.00404f-5+6.23542f-5im       -8.75857f-5-5.1312f-5im\n",
       "  0.000827098+0.00110607im       -0.00025002-0.000257355im\n",
       " -0.000203938+0.000387696im  …  -0.000632029-0.000362836im\n",
       " -0.000101836+0.000921935im      -0.00108062-0.000651314im\n",
       " -0.000845158+0.000675946im      -0.00164164-0.000902882im\n",
       "             ⋮               ⋱              ⋮\n",
       "  0.000566028-0.000738219im       0.00139935+0.000788985im\n",
       " -0.000922154-0.000370918im     -0.000626938-0.000269653im\n",
       " -0.000526547+0.000784685im      -0.00140464-0.000797182im\n",
       "  0.000309348+0.00107275im      -0.000785759-0.000521668im\n",
       " -0.000761772-0.000402167im  …   -0.00041732-0.000160943im\n",
       "  0.000311561-0.000268546im      0.000625517+0.000345339im\n",
       "     2.996f-5+0.000245246im      -0.00022457-0.000141763im\n",
       " -0.000472893-0.00040655im         -9.427f-5+1.36185f-6im\n",
       " -0.000553735-0.000155235im     -0.000447356-0.000205487im\n",
       "   -5.8424f-5-0.000732773im  …    0.00070527+0.000440742im\n",
       "   0.00103941+0.000413468im      0.000711502+0.000306918im\n",
       "  -0.00120901-0.000577353im     -0.000726324-0.000294761im"
      ]
     },
     "execution_count": 31,
     "metadata": {},
     "output_type": "execute_result"
    }
   ],
   "source": [
    "solution_to_potential(y_sol)"
   ]
  },
  {
   "cell_type": "code",
   "execution_count": 32,
   "metadata": {},
   "outputs": [
    {
     "data": {
      "text/plain": [
       "(val = 0.4811146616143198, grad = ((layer_1 = (bias = Float32[0.0; 0.0;;], scale = Float32[0.0; 0.0;;]), layer_2 = Float32[], layer_3 = Float32[], layer_4 = (weight = Float32[-0.0015978559 0.007856004; 0.0034180158 0.0007626842; … ; 0.00070424395 0.0028010043; 0.0010146722 0.0029245913], bias = Float32[-0.11123301; -0.00811493; … ; -0.013981292; -0.008197764;;])),))"
      ]
     },
     "execution_count": 32,
     "metadata": {},
     "output_type": "execute_result"
    }
   ],
   "source": [
    "withgradient(p -> mean(abs.(solution_to_phase(sol_model(x, p, st_sol)[1], spk_args=spk_args))), psf_sol)"
   ]
  },
  {
   "cell_type": "code",
   "execution_count": 33,
   "metadata": {},
   "outputs": [
    {
     "data": {
      "text/plain": [
       "Chain(\n",
       "    layer_1 = LayerNorm((2,), affine=true, dims=Colon()),  \u001b[90m# 4 parameters\u001b[39m\n",
       "    layer_2 = WrappedFunction(#52),\n",
       "    layer_3 = WrappedFunction(#53),\n",
       "    layer_4 = PhasorODE(\n",
       "        model = Dense(2 => 128),        \u001b[90m# 384 parameters\u001b[39m\n",
       "    ),\n",
       "    layer_5 = WrappedFunction(#54),\n",
       "    layer_6 = PhasorDenseF32((128, 2)),  \u001b[90m# 260 parameters\u001b[39m\n",
       ") \u001b[90m        # Total: \u001b[39m648 parameters,\n",
       "\u001b[90m          #        plus \u001b[39m0 states."
      ]
     },
     "execution_count": 33,
     "metadata": {},
     "output_type": "execute_result"
    }
   ],
   "source": [
    "ode_model = Chain(LayerNorm((2,)), \n",
    "                    x -> tanh_fast.(x),\n",
    "                    x -> phase_to_current(x, spk_args=spk_args),\n",
    "                    PhasorODE(Chain(Dense(2 => 128)), tspan = (0.0, 10.0), dt = solver_args[:dt]),\n",
    "                    x -> solution_to_phase(x, spk_args=spk_args)[:,:,end],\n",
    "                    PhasorDenseF32(128 => 2))"
   ]
  },
  {
   "cell_type": "code",
   "execution_count": 34,
   "metadata": {},
   "outputs": [
    {
     "data": {
      "text/plain": [
       "((layer_1 = (bias = Float32[0.0; 0.0;;], scale = Float32[1.0; 1.0;;]), layer_2 = NamedTuple(), layer_3 = NamedTuple(), layer_4 = (weight = Float32[0.15707646 -0.044632133; -0.06643613 -0.044867363; … ; -0.027456176 -0.1603537; 0.09821631 0.13010322], bias = Float32[0.0; 0.0; … ; 0.0; 0.0;;]), layer_5 = NamedTuple(), layer_6 = (weight = Float32[1.7387471 -1.7479336 … -0.45474225 -0.21259138; -0.49817917 -0.93274075 … -1.2375036 -0.14219837], bias_real = Float32[1.0, 1.0], bias_imag = Float32[0.0, 0.0])), (layer_1 = NamedTuple(), layer_2 = NamedTuple(), layer_3 = NamedTuple(), layer_4 = NamedTuple(), layer_5 = NamedTuple(), layer_6 = NamedTuple()))"
      ]
     },
     "execution_count": 34,
     "metadata": {},
     "output_type": "execute_result"
    }
   ],
   "source": [
    "ps_ode, st_ode = Lux.setup(args.rng, ode_model)"
   ]
  },
  {
   "cell_type": "code",
   "execution_count": 35,
   "metadata": {},
   "outputs": [
    {
     "data": {
      "text/plain": [
       "([-0.9036503487407623 0.7367738732688204 … 0.5649390440251838 0.7897498949514018; 0.882302318484595 0.504073180221312 … 0.7126329366524836 0.1276507768477951], (layer_1 = NamedTuple(), layer_2 = NamedTuple(), layer_3 = NamedTuple(), layer_4 = NamedTuple(), layer_5 = NamedTuple(), layer_6 = NamedTuple()))"
      ]
     },
     "execution_count": 35,
     "metadata": {},
     "output_type": "execute_result"
    }
   ],
   "source": [
    "y_ode, _ = ode_model(x, ps_ode, st_ode)"
   ]
  },
  {
   "cell_type": "code",
   "execution_count": 36,
   "metadata": {},
   "outputs": [
    {
     "data": {
      "text/plain": [
       "2×256 Matrix{Float64}:\n",
       " -0.90365   0.736774  -0.843348   0.800166   …  0.863415  0.564939  0.78975\n",
       "  0.882302  0.504073  -0.660273  -0.0610325     0.881219  0.712633  0.127651"
      ]
     },
     "execution_count": 36,
     "metadata": {},
     "output_type": "execute_result"
    }
   ],
   "source": [
    "y_ode"
   ]
  },
  {
   "cell_type": "code",
   "execution_count": 37,
   "metadata": {},
   "outputs": [
    {
     "data": {
      "text/plain": [
       "\u001b[0mComponentVector{Float32}(layer_1 = (bias = Float32[0.0; 0.0;;], scale = Float32[1.0; 1.0;;]), layer_2 = Float32[], layer_3 = Float32[], layer_4 = (weight = Float32[0.15707646 -0.044632133; -0.06643613 -0.044867363; … ; -0.027456176 -0.1603537; 0.09821631 0.13010322], bias = Float32[0.0; 0.0; … ; 0.0; 0.0;;]), layer_5 = Float32[], layer_6 = (weight = Float32[1.7387471 -1.7479336 … -0.45474225 -0.21259138; -0.49817917 -0.93274075 … -1.2375036 -0.14219837], bias_real = Float32[1.0, 1.0], bias_imag = Float32[0.0, 0.0]))"
      ]
     },
     "execution_count": 37,
     "metadata": {},
     "output_type": "execute_result"
    }
   ],
   "source": [
    "psf = ComponentArray(ps_ode)"
   ]
  },
  {
   "cell_type": "code",
   "execution_count": 38,
   "metadata": {},
   "outputs": [
    {
     "data": {
      "text/plain": [
       "1.0147273778617116"
      ]
     },
     "execution_count": 38,
     "metadata": {},
     "output_type": "execute_result"
    }
   ],
   "source": [
    "mean(quadrature_loss(ode_model(x, psf, st_ode)[1], y))"
   ]
  },
  {
   "cell_type": "code",
   "execution_count": 39,
   "metadata": {},
   "outputs": [
    {
     "data": {
      "text/plain": [
       "(val = 1.0147273955058975, grad = ((layer_1 = (bias = Float32[0.0; 0.0;;], scale = Float32[0.0; 0.0;;]), layer_2 = Float32[], layer_3 = Float32[], layer_4 = (weight = Float32[-0.005804397 -0.020427847; -0.02016539 0.02985944; … ; 0.006713479 -0.0011495394; 0.0027645517 -0.0020869835], bias = Float32[2.3588047; 16.236038; … ; 6.095558; 0.8529597;;]), layer_5 = Float32[], layer_6 = (weight = Float32[2.54707f-5 -3.1529275f-5 … -0.00054059975 0.0003321721; 0.024530903 -0.027356243 … -0.028274508 0.027489852], bias_real = Float32[-0.007947453, -0.05606113], bias_imag = Float32[-0.00854424, -0.03838088])),))"
      ]
     },
     "execution_count": 39,
     "metadata": {},
     "output_type": "execute_result"
    }
   ],
   "source": [
    "withgradient(p -> mean(quadrature_loss(ode_model(x, p, st_ode)[1], y)), psf)"
   ]
  },
  {
   "cell_type": "code",
   "execution_count": 48,
   "metadata": {},
   "outputs": [
    {
     "name": "stderr",
     "output_type": "stream",
     "text": [
      "\u001b[36m\u001b[1m[ \u001b[22m\u001b[39m\u001b[36m\u001b[1mInfo: \u001b[22m\u001b[39mTraining on CPU\n"
     ]
    },
    {
     "name": "stdout",
     "output_type": "stream",
     "text": [
      "Epoch 1 loss: 1.0147273955058975\n",
      "Epoch 1 loss: 1.1115025911862333\n",
      "Epoch 1 loss: 1.0231060615503567\n",
      "Epoch 1 loss: 0.9333091648160403\n",
      "Epoch 1 loss: 0.8502143617858994\n",
      "Epoch 1 loss: 0.8212507743890465\n",
      "Epoch 1 loss: 0.7909864350219129\n",
      "Epoch 1 loss: 0.6909265393374718\n",
      "Epoch 1 loss: 0.7700958121536943\n",
      "Epoch 1 loss: 0.7096752577496179\n",
      "Epoch 1 loss: 0.7681041898850307\n",
      "Epoch 1 loss: 0.6834330355636126\n",
      "Epoch 1 loss: 0.7033086894525113\n",
      "Epoch 1 loss: 0.6560739999417288\n",
      "Epoch 1 loss: 0.6846499907957104\n",
      "Epoch 1 loss: 0.6358375098767978\n",
      "Epoch 1 loss: 0.6330536592109604\n",
      "Epoch 1 loss: 0.5966288485083143\n",
      "Epoch 1 loss: 0.6343573982397587\n",
      "Epoch 1 loss: 0.5846164517930202\n",
      "Epoch 1 loss: 0.5777448591542956\n",
      "Epoch 1 loss: 0.5540416156750115\n",
      "Epoch 1 loss: 0.5536432246308475\n",
      "Epoch 1 loss: 0.5631456648529999\n",
      "Epoch 1 loss: 0.5530410029414405\n",
      "Epoch 1 loss: 0.560503102694336\n",
      "Epoch 1 loss: 0.5658163688557829\n",
      "Epoch 1 loss: 0.5492073927210518\n",
      "Epoch 1 loss: 0.524551658045241\n",
      "Epoch 1 loss: 0.5252654843717577\n",
      "Epoch 1 loss: 0.5392143765420924\n",
      "Epoch 1 loss: 0.5248154643287564\n",
      "Epoch 1 loss: 0.5226752024918532\n",
      "Epoch 1 loss: 0.5186333776694692\n",
      "Epoch 1 loss: 0.503055474349686\n",
      "Epoch 1 loss: 0.5339296051553815\n",
      "Epoch 1 loss: 0.486913767213522\n",
      "Epoch 1 loss: 0.5279518046496342\n",
      "Epoch 1 loss: 0.5096171288369804\n",
      "Epoch 1 loss: 0.5087471822180968\n",
      "Epoch 1 loss: 0.49021310754102965\n",
      "Epoch 1 loss: 0.5043334635394179\n",
      "Epoch 1 loss: 0.4918019369428388\n",
      "Epoch 1 loss: 0.5049291232644746\n",
      "Epoch 1 loss: 0.4968613740035151\n",
      "Epoch 1 loss: 0.4991284953372351\n",
      "Epoch 1 loss: 0.5006035083449476\n",
      "Epoch 1 loss: 0.5104558678231317\n",
      "Epoch 1 loss: 0.49133261516522453\n",
      "Epoch 1 loss: 0.4851760258255349\n",
      "Epoch 1 loss: 0.49015915991934333\n",
      "Epoch 1 loss: 0.49149929602713316\n",
      "Epoch 1 loss: 0.482000416563823\n",
      "Epoch 1 loss: 0.5004539472768998\n",
      "Epoch 1 loss: 0.47618321696722304\n",
      "Epoch 1 loss: 0.4817015670409981\n",
      "Epoch 1 loss: 0.49163841945650877\n",
      "Epoch 1 loss: 0.4772781258111918\n",
      "Epoch 1 loss: 0.47579361289729466\n",
      "Epoch 1 loss: 0.4705279104761161\n",
      "Epoch 1 loss: 0.5054086619570227\n",
      "Epoch 1 loss: 0.45899733570285206\n",
      "Epoch 1 loss: 0.4626869819122797\n",
      "Epoch 1 loss: 0.48474088458183695\n",
      "Epoch 1 loss: 0.47452235038451196\n",
      "Epoch 1 loss: 0.461370627616199\n",
      "Epoch 1 loss: 0.4709145867566278\n",
      "Epoch 1 loss: 0.4675601715271015\n",
      "Epoch 1 loss: 0.48286214839874\n",
      "Epoch 1 loss: 0.48138249804076677\n",
      "Epoch 1 loss: 0.4848061670905788\n",
      "Epoch 1 loss: 0.45346800389712466\n",
      "Epoch 1 loss: 0.47554051729489566\n",
      "Epoch 1 loss: 0.457661319784146\n",
      "Epoch 1 loss: 0.44748452989824855\n",
      "Epoch 1 loss: 0.46446120386685413\n",
      "Epoch 1 loss: 0.4402850899287517\n",
      "Epoch 1 loss: 0.4808680900346745\n",
      "Epoch 1 loss: 0.4455331052469132\n",
      "Epoch 1 loss: 0.46507196827035485\n",
      "Epoch 1 loss: 0.45972461108551765\n",
      "Epoch 1 loss: 0.44278116024328884\n",
      "Epoch 1 loss: 0.4444269496114699\n",
      "Epoch 1 loss: 0.46346757301127844\n",
      "Epoch 1 loss: 0.4629347752617083\n",
      "Epoch 1 loss: 0.4360223222593946\n",
      "Epoch 1 loss: 0.42991885681435466\n",
      "Epoch 1 loss: 0.4511542558301114\n",
      "Epoch 1 loss: 0.44740423613707775\n",
      "Epoch 1 loss: 0.42982143201298917\n",
      "Epoch 1 loss: 0.44186987669665656\n",
      "Epoch 1 loss: 0.4428373409542896\n",
      "Epoch 1 loss: 0.4302726174195215\n",
      "Epoch 1 loss: 0.44213232385519396\n",
      "Epoch 1 loss: 0.4297415871901025\n",
      "Epoch 1 loss: 0.4224508798455703\n",
      "Epoch 1 loss: 0.43869223915627303\n",
      "Epoch 1 loss: 0.42441907255389755\n",
      "Epoch 1 loss: 0.4362431275139238\n",
      "Epoch 1 loss: 0.41646882299367255\n",
      "Epoch 2 loss: 0.44091791275869296\n",
      "Epoch 2 loss: 0.4634332744818227\n",
      "Epoch 2 loss: 0.4088137535366585\n",
      "Epoch 2 loss: 0.44068534181384633\n",
      "Epoch 2 loss: 0.41188003557070835\n",
      "Epoch 2 loss: 0.4219852050868952\n",
      "Epoch 2 loss: 0.41370133331382786\n",
      "Epoch 2 loss: 0.4220126412926298\n",
      "Epoch 2 loss: 0.4165589779478538\n",
      "Epoch 2 loss: 0.4200888456734671\n",
      "Epoch 2 loss: 0.40562755139456913\n",
      "Epoch 2 loss: 0.4159643488236787\n",
      "Epoch 2 loss: 0.38338218722974454\n",
      "Epoch 2 loss: 0.38643311033784766\n",
      "Epoch 2 loss: 0.41594763932164314\n",
      "Epoch 2 loss: 0.40092201878726913\n",
      "Epoch 2 loss: 0.41170795641840846\n",
      "Epoch 2 loss: 0.4056804139904805\n",
      "Epoch 2 loss: 0.39890307758912935\n",
      "Epoch 2 loss: 0.41935715585922545\n",
      "Epoch 2 loss: 0.4226633914631694\n",
      "Epoch 2 loss: 0.42025389784533346\n",
      "Epoch 2 loss: 0.4140527460310184\n",
      "Epoch 2 loss: 0.40582506330055795\n",
      "Epoch 2 loss: 0.4166969163476893\n",
      "Epoch 2 loss: 0.41833769990041364\n",
      "Epoch 2 loss: 0.41845472896650004\n",
      "Epoch 2 loss: 0.4041837816649577\n",
      "Epoch 2 loss: 0.4043725257575422\n",
      "Epoch 2 loss: 0.4070160756401183\n",
      "Epoch 2 loss: 0.39657964269605545\n",
      "Epoch 2 loss: 0.4266168807465555\n",
      "Epoch 2 loss: 0.39852542427309906\n",
      "Epoch 2 loss: 0.39783914029697437\n",
      "Epoch 2 loss: 0.4013950661783926\n",
      "Epoch 2 loss: 0.4208493805056181\n",
      "Epoch 2 loss: 0.3951852027269184\n",
      "Epoch 2 loss: 0.43439879151193045\n",
      "Epoch 2 loss: 0.42674719143982964\n",
      "Epoch 2 loss: 0.40286854575357606\n",
      "Epoch 2 loss: 0.39461928436109206\n",
      "Epoch 2 loss: 0.38759159787899233\n",
      "Epoch 2 loss: 0.37721429215523294\n",
      "Epoch 2 loss: 0.40348591771330833\n",
      "Epoch 2 loss: 0.39157315295132333\n",
      "Epoch 2 loss: 0.39522746653130514\n",
      "Epoch 2 loss: 0.38677549138676875\n",
      "Epoch 2 loss: 0.39787172883825667\n",
      "Epoch 2 loss: 0.39961642969504707\n",
      "Epoch 2 loss: 0.3994421728566791\n"
     ]
    }
   ],
   "source": [
    "losses, ps_train, st_train = train(ode_model, psf, st_ode, train_loader, args, verbose=true)"
   ]
  },
  {
   "cell_type": "code",
   "execution_count": null,
   "metadata": {},
   "outputs": [
    {
     "data": {
      "image/png": "[encoded data removed]",
      "image/svg+xml": [
       "<?xml version=\"1.0\" encoding=\"utf-8\"?>\n",
       "<svg xmlns=\"http://www.w3.org/2000/svg\" xmlns:xlink=\"http://www.w3.org/1999/xlink\" width=\"600\" height=\"400\" viewBox=\"0 0 2400 1600\">\n",
       "<defs>\n",
       "  <clipPath id=\"clip380\">\n",
       "    <rect x=\"0\" y=\"0\" width=\"2400\" height=\"1600\"/>\n",
       "  </clipPath>\n",
       "</defs>\n",
       "<path clip-path=\"url(#clip380)\" d=\"M0 1600 L2400 1600 L2400 8.88178e-14 L0 8.88178e-14  Z\" fill=\"#ffffff\" fill-rule=\"evenodd\" fill-opacity=\"1\"/>\n",
       "<defs>\n",
       "  <clipPath id=\"clip381\">\n",
       "    <rect x=\"480\" y=\"0\" width=\"1681\" height=\"1600\"/>\n",
       "  </clipPath>\n",
       "</defs>\n",
       "<path clip-path=\"url(#clip380)\" d=\"M156.598 1486.45 L2352.76 1486.45 L2352.76 47.2441 L156.598 47.2441  Z\" fill=\"#ffffff\" fill-rule=\"evenodd\" fill-opacity=\"1\"/>\n",
       "<defs>\n",
       "  <clipPath id=\"clip382\">\n",
       "    <rect x=\"156\" y=\"47\" width=\"2197\" height=\"1440\"/>\n",
       "  </clipPath>\n",
       "</defs>\n",
       "<polyline clip-path=\"url(#clip382)\" style=\"stroke:#000000; stroke-linecap:round; stroke-linejoin:round; stroke-width:2; stroke-opacity:0.1; fill:none\" points=\"216.68,1486.45 216.68,47.2441 \"/>\n",
       "<polyline clip-path=\"url(#clip382)\" style=\"stroke:#000000; stroke-linecap:round; stroke-linejoin:round; stroke-width:2; stroke-opacity:0.1; fill:none\" points=\"735.16,1486.45 735.16,47.2441 \"/>\n",
       "<polyline clip-path=\"url(#clip382)\" style=\"stroke:#000000; stroke-linecap:round; stroke-linejoin:round; stroke-width:2; stroke-opacity:0.1; fill:none\" points=\"1253.64,1486.45 1253.64,47.2441 \"/>\n",
       "<polyline clip-path=\"url(#clip382)\" style=\"stroke:#000000; stroke-linecap:round; stroke-linejoin:round; stroke-width:2; stroke-opacity:0.1; fill:none\" points=\"1772.12,1486.45 1772.12,47.2441 \"/>\n",
       "<polyline clip-path=\"url(#clip382)\" style=\"stroke:#000000; stroke-linecap:round; stroke-linejoin:round; stroke-width:2; stroke-opacity:0.1; fill:none\" points=\"2290.6,1486.45 2290.6,47.2441 \"/>\n",
       "<polyline clip-path=\"url(#clip380)\" style=\"stroke:#000000; stroke-linecap:round; stroke-linejoin:round; stroke-width:4; stroke-opacity:1; fill:none\" points=\"156.598,1486.45 2352.76,1486.45 \"/>\n",
       "<polyline clip-path=\"url(#clip380)\" style=\"stroke:#000000; stroke-linecap:round; stroke-linejoin:round; stroke-width:4; stroke-opacity:1; fill:none\" points=\"216.68,1486.45 216.68,1467.55 \"/>\n",
       "<polyline clip-path=\"url(#clip380)\" style=\"stroke:#000000; stroke-linecap:round; stroke-linejoin:round; stroke-width:4; stroke-opacity:1; fill:none\" points=\"735.16,1486.45 735.16,1467.55 \"/>\n",
       "<polyline clip-path=\"url(#clip380)\" style=\"stroke:#000000; stroke-linecap:round; stroke-linejoin:round; stroke-width:4; stroke-opacity:1; fill:none\" points=\"1253.64,1486.45 1253.64,1467.55 \"/>\n",
       "<polyline clip-path=\"url(#clip380)\" style=\"stroke:#000000; stroke-linecap:round; stroke-linejoin:round; stroke-width:4; stroke-opacity:1; fill:none\" points=\"1772.12,1486.45 1772.12,1467.55 \"/>\n",
       "<polyline clip-path=\"url(#clip380)\" style=\"stroke:#000000; stroke-linecap:round; stroke-linejoin:round; stroke-width:4; stroke-opacity:1; fill:none\" points=\"2290.6,1486.45 2290.6,1467.55 \"/>\n",
       "<path clip-path=\"url(#clip380)\" d=\"M216.68 1517.37 Q213.069 1517.37 211.24 1520.93 Q209.434 1524.47 209.434 1531.6 Q209.434 1538.71 211.24 1542.27 Q213.069 1545.82 216.68 1545.82 Q220.314 1545.82 222.12 1542.27 Q223.948 1538.71 223.948 1531.6 Q223.948 1524.47 222.12 1520.93 Q220.314 1517.37 216.68 1517.37 M216.68 1513.66 Q222.49 1513.66 225.545 1518.27 Q228.624 1522.85 228.624 1531.6 Q228.624 1540.33 225.545 1544.94 Q222.49 1549.52 216.68 1549.52 Q210.87 1549.52 207.791 1544.94 Q204.735 1540.33 204.735 1531.6 Q204.735 1522.85 207.791 1518.27 Q210.87 1513.66 216.68 1513.66 Z\" fill=\"#000000\" fill-rule=\"nonzero\" fill-opacity=\"1\" /><path clip-path=\"url(#clip380)\" d=\"M698.852 1544.91 L715.172 1544.91 L715.172 1548.85 L693.227 1548.85 L693.227 1544.91 Q695.889 1542.16 700.473 1537.53 Q705.079 1532.88 706.26 1531.53 Q708.505 1529.01 709.385 1527.27 Q710.287 1525.51 710.287 1523.82 Q710.287 1521.07 708.343 1519.33 Q706.422 1517.6 703.32 1517.6 Q701.121 1517.6 698.667 1518.36 Q696.237 1519.13 693.459 1520.68 L693.459 1515.95 Q696.283 1514.82 698.736 1514.24 Q701.19 1513.66 703.227 1513.66 Q708.598 1513.66 711.792 1516.35 Q714.986 1519.03 714.986 1523.52 Q714.986 1525.65 714.176 1527.57 Q713.389 1529.47 711.283 1532.07 Q710.704 1532.74 707.602 1535.95 Q704.5 1539.15 698.852 1544.91 Z\" fill=\"#000000\" fill-rule=\"nonzero\" fill-opacity=\"1\" /><path clip-path=\"url(#clip380)\" d=\"M725.033 1514.29 L743.389 1514.29 L743.389 1518.22 L729.315 1518.22 L729.315 1526.7 Q730.334 1526.35 731.352 1526.19 Q732.371 1526 733.389 1526 Q739.176 1526 742.556 1529.17 Q745.935 1532.34 745.935 1537.76 Q745.935 1543.34 742.463 1546.44 Q738.991 1549.52 732.672 1549.52 Q730.496 1549.52 728.227 1549.15 Q725.982 1548.78 723.574 1548.04 L723.574 1543.34 Q725.658 1544.47 727.88 1545.03 Q730.102 1545.58 732.579 1545.58 Q736.584 1545.58 738.921 1543.48 Q741.259 1541.37 741.259 1537.76 Q741.259 1534.15 738.921 1532.04 Q736.584 1529.94 732.579 1529.94 Q730.704 1529.94 728.829 1530.35 Q726.977 1530.77 725.033 1531.65 L725.033 1514.29 Z\" fill=\"#000000\" fill-rule=\"nonzero\" fill-opacity=\"1\" /><path clip-path=\"url(#clip380)\" d=\"M765.148 1517.37 Q761.537 1517.37 759.708 1520.93 Q757.903 1524.47 757.903 1531.6 Q757.903 1538.71 759.708 1542.27 Q761.537 1545.82 765.148 1545.82 Q768.782 1545.82 770.588 1542.27 Q772.417 1538.71 772.417 1531.6 Q772.417 1524.47 770.588 1520.93 Q768.782 1517.37 765.148 1517.37 M765.148 1513.66 Q770.958 1513.66 774.014 1518.27 Q777.093 1522.85 777.093 1531.6 Q777.093 1540.33 774.014 1544.94 Q770.958 1549.52 765.148 1549.52 Q759.338 1549.52 756.259 1544.94 Q753.204 1540.33 753.204 1531.6 Q753.204 1522.85 756.259 1518.27 Q759.338 1513.66 765.148 1513.66 Z\" fill=\"#000000\" fill-rule=\"nonzero\" fill-opacity=\"1\" /><path clip-path=\"url(#clip380)\" d=\"M1213.26 1514.29 L1231.61 1514.29 L1231.61 1518.22 L1217.54 1518.22 L1217.54 1526.7 Q1218.56 1526.35 1219.58 1526.19 Q1220.6 1526 1221.61 1526 Q1227.4 1526 1230.78 1529.17 Q1234.16 1532.34 1234.16 1537.76 Q1234.16 1543.34 1230.69 1546.44 Q1227.22 1549.52 1220.9 1549.52 Q1218.72 1549.52 1216.45 1549.15 Q1214.21 1548.78 1211.8 1548.04 L1211.8 1543.34 Q1213.88 1544.47 1216.11 1545.03 Q1218.33 1545.58 1220.8 1545.58 Q1224.81 1545.58 1227.15 1543.48 Q1229.49 1541.37 1229.49 1537.76 Q1229.49 1534.15 1227.15 1532.04 Q1224.81 1529.94 1220.8 1529.94 Q1218.93 1529.94 1217.05 1530.35 Q1215.2 1530.77 1213.26 1531.65 L1213.26 1514.29 Z\" fill=\"#000000\" fill-rule=\"nonzero\" fill-opacity=\"1\" /><path clip-path=\"url(#clip380)\" d=\"M1253.37 1517.37 Q1249.76 1517.37 1247.93 1520.93 Q1246.13 1524.47 1246.13 1531.6 Q1246.13 1538.71 1247.93 1542.27 Q1249.76 1545.82 1253.37 1545.82 Q1257.01 1545.82 1258.81 1542.27 Q1260.64 1538.71 1260.64 1531.6 Q1260.64 1524.47 1258.81 1520.93 Q1257.01 1517.37 1253.37 1517.37 M1253.37 1513.66 Q1259.18 1513.66 1262.24 1518.27 Q1265.32 1522.85 1265.32 1531.6 Q1265.32 1540.33 1262.24 1544.94 Q1259.18 1549.52 1253.37 1549.52 Q1247.56 1549.52 1244.49 1544.94 Q1241.43 1540.33 1241.43 1531.6 Q1241.43 1522.85 1244.49 1518.27 Q1247.56 1513.66 1253.37 1513.66 Z\" fill=\"#000000\" fill-rule=\"nonzero\" fill-opacity=\"1\" /><path clip-path=\"url(#clip380)\" d=\"M1283.54 1517.37 Q1279.92 1517.37 1278.1 1520.93 Q1276.29 1524.47 1276.29 1531.6 Q1276.29 1538.71 1278.1 1542.27 Q1279.92 1545.82 1283.54 1545.82 Q1287.17 1545.82 1288.98 1542.27 Q1290.8 1538.71 1290.8 1531.6 Q1290.8 1524.47 1288.98 1520.93 Q1287.17 1517.37 1283.54 1517.37 M1283.54 1513.66 Q1289.35 1513.66 1292.4 1518.27 Q1295.48 1522.85 1295.48 1531.6 Q1295.48 1540.33 1292.4 1544.94 Q1289.35 1549.52 1283.54 1549.52 Q1277.73 1549.52 1274.65 1544.94 Q1271.59 1540.33 1271.59 1531.6 Q1271.59 1522.85 1274.65 1518.27 Q1277.73 1513.66 1283.54 1513.66 Z\" fill=\"#000000\" fill-rule=\"nonzero\" fill-opacity=\"1\" /><path clip-path=\"url(#clip380)\" d=\"M1730.4 1514.29 L1752.62 1514.29 L1752.62 1516.28 L1740.07 1548.85 L1735.19 1548.85 L1746.99 1518.22 L1730.4 1518.22 L1730.4 1514.29 Z\" fill=\"#000000\" fill-rule=\"nonzero\" fill-opacity=\"1\" /><path clip-path=\"url(#clip380)\" d=\"M1761.78 1514.29 L1780.14 1514.29 L1780.14 1518.22 L1766.07 1518.22 L1766.07 1526.7 Q1767.09 1526.35 1768.1 1526.19 Q1769.12 1526 1770.14 1526 Q1775.93 1526 1779.31 1529.17 Q1782.69 1532.34 1782.69 1537.76 Q1782.69 1543.34 1779.22 1546.44 Q1775.74 1549.52 1769.42 1549.52 Q1767.25 1549.52 1764.98 1549.15 Q1762.73 1548.78 1760.33 1548.04 L1760.33 1543.34 Q1762.41 1544.47 1764.63 1545.03 Q1766.85 1545.58 1769.33 1545.58 Q1773.34 1545.58 1775.67 1543.48 Q1778.01 1541.37 1778.01 1537.76 Q1778.01 1534.15 1775.67 1532.04 Q1773.34 1529.94 1769.33 1529.94 Q1767.46 1529.94 1765.58 1530.35 Q1763.73 1530.77 1761.78 1531.65 L1761.78 1514.29 Z\" fill=\"#000000\" fill-rule=\"nonzero\" fill-opacity=\"1\" /><path clip-path=\"url(#clip380)\" d=\"M1801.9 1517.37 Q1798.29 1517.37 1796.46 1520.93 Q1794.65 1524.47 1794.65 1531.6 Q1794.65 1538.71 1796.46 1542.27 Q1798.29 1545.82 1801.9 1545.82 Q1805.53 1545.82 1807.34 1542.27 Q1809.17 1538.71 1809.17 1531.6 Q1809.17 1524.47 1807.34 1520.93 Q1805.53 1517.37 1801.9 1517.37 M1801.9 1513.66 Q1807.71 1513.66 1810.77 1518.27 Q1813.84 1522.85 1813.84 1531.6 Q1813.84 1540.33 1810.77 1544.94 Q1807.71 1549.52 1801.9 1549.52 Q1796.09 1549.52 1793.01 1544.94 Q1789.96 1540.33 1789.96 1531.6 Q1789.96 1522.85 1793.01 1518.27 Q1796.09 1513.66 1801.9 1513.66 Z\" fill=\"#000000\" fill-rule=\"nonzero\" fill-opacity=\"1\" /><path clip-path=\"url(#clip380)\" d=\"M2235.13 1544.91 L2242.77 1544.91 L2242.77 1518.55 L2234.45 1520.21 L2234.45 1515.95 L2242.72 1514.29 L2247.39 1514.29 L2247.39 1544.91 L2255.03 1544.91 L2255.03 1548.85 L2235.13 1548.85 L2235.13 1544.91 Z\" fill=\"#000000\" fill-rule=\"nonzero\" fill-opacity=\"1\" /><path clip-path=\"url(#clip380)\" d=\"M2274.48 1517.37 Q2270.87 1517.37 2269.04 1520.93 Q2267.23 1524.47 2267.23 1531.6 Q2267.23 1538.71 2269.04 1542.27 Q2270.87 1545.82 2274.48 1545.82 Q2278.11 1545.82 2279.92 1542.27 Q2281.75 1538.71 2281.75 1531.6 Q2281.75 1524.47 2279.92 1520.93 Q2278.11 1517.37 2274.48 1517.37 M2274.48 1513.66 Q2280.29 1513.66 2283.34 1518.27 Q2286.42 1522.85 2286.42 1531.6 Q2286.42 1540.33 2283.34 1544.94 Q2280.29 1549.52 2274.48 1549.52 Q2268.67 1549.52 2265.59 1544.94 Q2262.53 1540.33 2262.53 1531.6 Q2262.53 1522.85 2265.59 1518.27 Q2268.67 1513.66 2274.48 1513.66 Z\" fill=\"#000000\" fill-rule=\"nonzero\" fill-opacity=\"1\" /><path clip-path=\"url(#clip380)\" d=\"M2304.64 1517.37 Q2301.03 1517.37 2299.2 1520.93 Q2297.39 1524.47 2297.39 1531.6 Q2297.39 1538.71 2299.2 1542.27 Q2301.03 1545.82 2304.64 1545.82 Q2308.27 1545.82 2310.08 1542.27 Q2311.91 1538.71 2311.91 1531.6 Q2311.91 1524.47 2310.08 1520.93 Q2308.27 1517.37 2304.64 1517.37 M2304.64 1513.66 Q2310.45 1513.66 2313.51 1518.27 Q2316.58 1522.85 2316.58 1531.6 Q2316.58 1540.33 2313.51 1544.94 Q2310.45 1549.52 2304.64 1549.52 Q2298.83 1549.52 2295.75 1544.94 Q2292.7 1540.33 2292.7 1531.6 Q2292.7 1522.85 2295.75 1518.27 Q2298.83 1513.66 2304.64 1513.66 Z\" fill=\"#000000\" fill-rule=\"nonzero\" fill-opacity=\"1\" /><path clip-path=\"url(#clip380)\" d=\"M2334.8 1517.37 Q2331.19 1517.37 2329.36 1520.93 Q2327.56 1524.47 2327.56 1531.6 Q2327.56 1538.71 2329.36 1542.27 Q2331.19 1545.82 2334.8 1545.82 Q2338.44 1545.82 2340.24 1542.27 Q2342.07 1538.71 2342.07 1531.6 Q2342.07 1524.47 2340.24 1520.93 Q2338.44 1517.37 2334.8 1517.37 M2334.8 1513.66 Q2340.61 1513.66 2343.67 1518.27 Q2346.75 1522.85 2346.75 1531.6 Q2346.75 1540.33 2343.67 1544.94 Q2340.61 1549.52 2334.8 1549.52 Q2328.99 1549.52 2325.91 1544.94 Q2322.86 1540.33 2322.86 1531.6 Q2322.86 1522.85 2325.91 1518.27 Q2328.99 1513.66 2334.8 1513.66 Z\" fill=\"#000000\" fill-rule=\"nonzero\" fill-opacity=\"1\" /><polyline clip-path=\"url(#clip382)\" style=\"stroke:#000000; stroke-linecap:round; stroke-linejoin:round; stroke-width:2; stroke-opacity:0.1; fill:none\" points=\"156.598,1339.64 2352.76,1339.64 \"/>\n",
       "<polyline clip-path=\"url(#clip382)\" style=\"stroke:#000000; stroke-linecap:round; stroke-linejoin:round; stroke-width:2; stroke-opacity:0.1; fill:none\" points=\"156.598,1148.51 2352.76,1148.51 \"/>\n",
       "<polyline clip-path=\"url(#clip382)\" style=\"stroke:#000000; stroke-linecap:round; stroke-linejoin:round; stroke-width:2; stroke-opacity:0.1; fill:none\" points=\"156.598,957.369 2352.76,957.369 \"/>\n",
       "<polyline clip-path=\"url(#clip382)\" style=\"stroke:#000000; stroke-linecap:round; stroke-linejoin:round; stroke-width:2; stroke-opacity:0.1; fill:none\" points=\"156.598,766.234 2352.76,766.234 \"/>\n",
       "<polyline clip-path=\"url(#clip382)\" style=\"stroke:#000000; stroke-linecap:round; stroke-linejoin:round; stroke-width:2; stroke-opacity:0.1; fill:none\" points=\"156.598,575.098 2352.76,575.098 \"/>\n",
       "<polyline clip-path=\"url(#clip382)\" style=\"stroke:#000000; stroke-linecap:round; stroke-linejoin:round; stroke-width:2; stroke-opacity:0.1; fill:none\" points=\"156.598,383.962 2352.76,383.962 \"/>\n",
       "<polyline clip-path=\"url(#clip382)\" style=\"stroke:#000000; stroke-linecap:round; stroke-linejoin:round; stroke-width:2; stroke-opacity:0.1; fill:none\" points=\"156.598,192.826 2352.76,192.826 \"/>\n",
       "<polyline clip-path=\"url(#clip380)\" style=\"stroke:#000000; stroke-linecap:round; stroke-linejoin:round; stroke-width:4; stroke-opacity:1; fill:none\" points=\"156.598,1486.45 156.598,47.2441 \"/>\n",
       "<polyline clip-path=\"url(#clip380)\" style=\"stroke:#000000; stroke-linecap:round; stroke-linejoin:round; stroke-width:4; stroke-opacity:1; fill:none\" points=\"156.598,1339.64 175.496,1339.64 \"/>\n",
       "<polyline clip-path=\"url(#clip380)\" style=\"stroke:#000000; stroke-linecap:round; stroke-linejoin:round; stroke-width:4; stroke-opacity:1; fill:none\" points=\"156.598,1148.51 175.496,1148.51 \"/>\n",
       "<polyline clip-path=\"url(#clip380)\" style=\"stroke:#000000; stroke-linecap:round; stroke-linejoin:round; stroke-width:4; stroke-opacity:1; fill:none\" points=\"156.598,957.369 175.496,957.369 \"/>\n",
       "<polyline clip-path=\"url(#clip380)\" style=\"stroke:#000000; stroke-linecap:round; stroke-linejoin:round; stroke-width:4; stroke-opacity:1; fill:none\" points=\"156.598,766.234 175.496,766.234 \"/>\n",
       "<polyline clip-path=\"url(#clip380)\" style=\"stroke:#000000; stroke-linecap:round; stroke-linejoin:round; stroke-width:4; stroke-opacity:1; fill:none\" points=\"156.598,575.098 175.496,575.098 \"/>\n",
       "<polyline clip-path=\"url(#clip380)\" style=\"stroke:#000000; stroke-linecap:round; stroke-linejoin:round; stroke-width:4; stroke-opacity:1; fill:none\" points=\"156.598,383.962 175.496,383.962 \"/>\n",
       "<polyline clip-path=\"url(#clip380)\" style=\"stroke:#000000; stroke-linecap:round; stroke-linejoin:round; stroke-width:4; stroke-opacity:1; fill:none\" points=\"156.598,192.826 175.496,192.826 \"/>\n",
       "<path clip-path=\"url(#clip380)\" d=\"M65.0198 1325.44 Q61.4087 1325.44 59.58 1329 Q57.7745 1332.55 57.7745 1339.68 Q57.7745 1346.78 59.58 1350.35 Q61.4087 1353.89 65.0198 1353.89 Q68.6541 1353.89 70.4596 1350.35 Q72.2883 1346.78 72.2883 1339.68 Q72.2883 1332.55 70.4596 1329 Q68.6541 1325.44 65.0198 1325.44 M65.0198 1321.74 Q70.83 1321.74 73.8855 1326.34 Q76.9642 1330.93 76.9642 1339.68 Q76.9642 1348.4 73.8855 1353.01 Q70.83 1357.59 65.0198 1357.59 Q59.2097 1357.59 56.131 1353.01 Q53.0754 1348.4 53.0754 1339.68 Q53.0754 1330.93 56.131 1326.34 Q59.2097 1321.74 65.0198 1321.74 Z\" fill=\"#000000\" fill-rule=\"nonzero\" fill-opacity=\"1\" /><path clip-path=\"url(#clip380)\" d=\"M85.1818 1351.04 L90.066 1351.04 L90.066 1356.92 L85.1818 1356.92 L85.1818 1351.04 Z\" fill=\"#000000\" fill-rule=\"nonzero\" fill-opacity=\"1\" /><path clip-path=\"url(#clip380)\" d=\"M104.279 1352.99 L120.598 1352.99 L120.598 1356.92 L98.6539 1356.92 L98.6539 1352.99 Q101.316 1350.23 105.899 1345.6 Q110.506 1340.95 111.686 1339.61 Q113.932 1337.08 114.811 1335.35 Q115.714 1333.59 115.714 1331.9 Q115.714 1329.14 113.77 1327.41 Q111.848 1325.67 108.746 1325.67 Q106.547 1325.67 104.094 1326.44 Q101.663 1327.2 98.8854 1328.75 L98.8854 1324.03 Q101.709 1322.89 104.163 1322.31 Q106.617 1321.74 108.654 1321.74 Q114.024 1321.74 117.219 1324.42 Q120.413 1327.11 120.413 1331.6 Q120.413 1333.73 119.603 1335.65 Q118.816 1337.55 116.709 1340.14 Q116.131 1340.81 113.029 1344.03 Q109.927 1347.22 104.279 1352.99 Z\" fill=\"#000000\" fill-rule=\"nonzero\" fill-opacity=\"1\" /><path clip-path=\"url(#clip380)\" d=\"M62.9365 1134.3 Q59.3254 1134.3 57.4967 1137.87 Q55.6912 1141.41 55.6912 1148.54 Q55.6912 1155.65 57.4967 1159.21 Q59.3254 1162.75 62.9365 1162.75 Q66.5707 1162.75 68.3763 1159.21 Q70.205 1155.65 70.205 1148.54 Q70.205 1141.41 68.3763 1137.87 Q66.5707 1134.3 62.9365 1134.3 M62.9365 1130.6 Q68.7467 1130.6 71.8022 1135.21 Q74.8809 1139.79 74.8809 1148.54 Q74.8809 1157.27 71.8022 1161.87 Q68.7467 1166.46 62.9365 1166.46 Q57.1264 1166.46 54.0477 1161.87 Q50.9921 1157.27 50.9921 1148.54 Q50.9921 1139.79 54.0477 1135.21 Q57.1264 1130.6 62.9365 1130.6 Z\" fill=\"#000000\" fill-rule=\"nonzero\" fill-opacity=\"1\" /><path clip-path=\"url(#clip380)\" d=\"M83.0984 1159.91 L87.9827 1159.91 L87.9827 1165.79 L83.0984 1165.79 L83.0984 1159.91 Z\" fill=\"#000000\" fill-rule=\"nonzero\" fill-opacity=\"1\" /><path clip-path=\"url(#clip380)\" d=\"M111.015 1135.3 L99.2095 1153.75 L111.015 1153.75 L111.015 1135.3 M109.788 1131.23 L115.668 1131.23 L115.668 1153.75 L120.598 1153.75 L120.598 1157.64 L115.668 1157.64 L115.668 1165.79 L111.015 1165.79 L111.015 1157.64 L95.4132 1157.64 L95.4132 1153.12 L109.788 1131.23 Z\" fill=\"#000000\" fill-rule=\"nonzero\" fill-opacity=\"1\" /><path clip-path=\"url(#clip380)\" d=\"M63.2606 943.168 Q59.6495 943.168 57.8208 946.733 Q56.0152 950.275 56.0152 957.404 Q56.0152 964.511 57.8208 968.075 Q59.6495 971.617 63.2606 971.617 Q66.8948 971.617 68.7004 968.075 Q70.5291 964.511 70.5291 957.404 Q70.5291 950.275 68.7004 946.733 Q66.8948 943.168 63.2606 943.168 M63.2606 939.465 Q69.0707 939.465 72.1263 944.071 Q75.205 948.654 75.205 957.404 Q75.205 966.131 72.1263 970.737 Q69.0707 975.321 63.2606 975.321 Q57.4504 975.321 54.3717 970.737 Q51.3162 966.131 51.3162 957.404 Q51.3162 948.654 54.3717 944.071 Q57.4504 939.465 63.2606 939.465 Z\" fill=\"#000000\" fill-rule=\"nonzero\" fill-opacity=\"1\" /><path clip-path=\"url(#clip380)\" d=\"M83.4225 968.77 L88.3067 968.77 L88.3067 974.649 L83.4225 974.649 L83.4225 968.77 Z\" fill=\"#000000\" fill-rule=\"nonzero\" fill-opacity=\"1\" /><path clip-path=\"url(#clip380)\" d=\"M109.071 955.506 Q105.922 955.506 104.071 957.659 Q102.242 959.812 102.242 963.562 Q102.242 967.288 104.071 969.464 Q105.922 971.617 109.071 971.617 Q112.219 971.617 114.047 969.464 Q115.899 967.288 115.899 963.562 Q115.899 959.812 114.047 957.659 Q112.219 955.506 109.071 955.506 M118.353 940.853 L118.353 945.113 Q116.594 944.279 114.788 943.839 Q113.006 943.4 111.246 943.4 Q106.617 943.4 104.163 946.525 Q101.733 949.65 101.385 955.969 Q102.751 953.955 104.811 952.89 Q106.871 951.802 109.348 951.802 Q114.557 951.802 117.566 954.974 Q120.598 958.122 120.598 963.562 Q120.598 968.886 117.45 972.103 Q114.302 975.321 109.071 975.321 Q103.075 975.321 99.9039 970.737 Q96.7326 966.131 96.7326 957.404 Q96.7326 949.21 100.621 944.349 Q104.51 939.465 111.061 939.465 Q112.82 939.465 114.603 939.812 Q116.408 940.159 118.353 940.853 Z\" fill=\"#000000\" fill-rule=\"nonzero\" fill-opacity=\"1\" /><path clip-path=\"url(#clip380)\" d=\"M63.5152 752.032 Q59.9041 752.032 58.0754 755.597 Q56.2699 759.139 56.2699 766.268 Q56.2699 773.375 58.0754 776.94 Q59.9041 780.481 63.5152 780.481 Q67.1494 780.481 68.955 776.94 Q70.7837 773.375 70.7837 766.268 Q70.7837 759.139 68.955 755.597 Q67.1494 752.032 63.5152 752.032 M63.5152 748.329 Q69.3254 748.329 72.3809 752.935 Q75.4596 757.518 75.4596 766.268 Q75.4596 774.995 72.3809 779.602 Q69.3254 784.185 63.5152 784.185 Q57.7051 784.185 54.6264 779.602 Q51.5708 774.995 51.5708 766.268 Q51.5708 757.518 54.6264 752.935 Q57.7051 748.329 63.5152 748.329 Z\" fill=\"#000000\" fill-rule=\"nonzero\" fill-opacity=\"1\" /><path clip-path=\"url(#clip380)\" d=\"M83.6771 777.634 L88.5614 777.634 L88.5614 783.514 L83.6771 783.514 L83.6771 777.634 Z\" fill=\"#000000\" fill-rule=\"nonzero\" fill-opacity=\"1\" /><path clip-path=\"url(#clip380)\" d=\"M108.746 767.102 Q105.413 767.102 103.492 768.884 Q101.594 770.667 101.594 773.792 Q101.594 776.917 103.492 778.699 Q105.413 780.481 108.746 780.481 Q112.08 780.481 114.001 778.699 Q115.922 776.893 115.922 773.792 Q115.922 770.667 114.001 768.884 Q112.103 767.102 108.746 767.102 M104.071 765.111 Q101.061 764.37 99.3715 762.31 Q97.7048 760.25 97.7048 757.287 Q97.7048 753.144 100.645 750.736 Q103.608 748.329 108.746 748.329 Q113.908 748.329 116.848 750.736 Q119.788 753.144 119.788 757.287 Q119.788 760.25 118.098 762.31 Q116.432 764.37 113.445 765.111 Q116.825 765.898 118.7 768.19 Q120.598 770.481 120.598 773.792 Q120.598 778.815 117.52 781.5 Q114.464 784.185 108.746 784.185 Q103.029 784.185 99.9502 781.5 Q96.8947 778.815 96.8947 773.792 Q96.8947 770.481 98.7928 768.19 Q100.691 765.898 104.071 765.111 M102.358 757.727 Q102.358 760.412 104.024 761.917 Q105.714 763.421 108.746 763.421 Q111.756 763.421 113.445 761.917 Q115.158 760.412 115.158 757.727 Q115.158 755.042 113.445 753.537 Q111.756 752.032 108.746 752.032 Q105.714 752.032 104.024 753.537 Q102.358 755.042 102.358 757.727 Z\" fill=\"#000000\" fill-rule=\"nonzero\" fill-opacity=\"1\" /><path clip-path=\"url(#clip380)\" d=\"M54.2328 588.443 L61.8717 588.443 L61.8717 562.077 L53.5616 563.744 L53.5616 559.485 L61.8254 557.818 L66.5013 557.818 L66.5013 588.443 L74.1402 588.443 L74.1402 592.378 L54.2328 592.378 L54.2328 588.443 Z\" fill=\"#000000\" fill-rule=\"nonzero\" fill-opacity=\"1\" /><path clip-path=\"url(#clip380)\" d=\"M83.5845 586.498 L88.4688 586.498 L88.4688 592.378 L83.5845 592.378 L83.5845 586.498 Z\" fill=\"#000000\" fill-rule=\"nonzero\" fill-opacity=\"1\" /><path clip-path=\"url(#clip380)\" d=\"M108.654 560.897 Q105.043 560.897 103.214 564.461 Q101.409 568.003 101.409 575.133 Q101.409 582.239 103.214 585.804 Q105.043 589.346 108.654 589.346 Q112.288 589.346 114.094 585.804 Q115.922 582.239 115.922 575.133 Q115.922 568.003 114.094 564.461 Q112.288 560.897 108.654 560.897 M108.654 557.193 Q114.464 557.193 117.52 561.799 Q120.598 566.383 120.598 575.133 Q120.598 583.859 117.52 588.466 Q114.464 593.049 108.654 593.049 Q102.844 593.049 99.765 588.466 Q96.7095 583.859 96.7095 575.133 Q96.7095 566.383 99.765 561.799 Q102.844 557.193 108.654 557.193 Z\" fill=\"#000000\" fill-rule=\"nonzero\" fill-opacity=\"1\" /><path clip-path=\"url(#clip380)\" d=\"M55.8301 397.307 L63.4689 397.307 L63.4689 370.941 L55.1588 372.608 L55.1588 368.349 L63.4226 366.682 L68.0985 366.682 L68.0985 397.307 L75.7374 397.307 L75.7374 401.242 L55.8301 401.242 L55.8301 397.307 Z\" fill=\"#000000\" fill-rule=\"nonzero\" fill-opacity=\"1\" /><path clip-path=\"url(#clip380)\" d=\"M85.1818 395.363 L90.066 395.363 L90.066 401.242 L85.1818 401.242 L85.1818 395.363 Z\" fill=\"#000000\" fill-rule=\"nonzero\" fill-opacity=\"1\" /><path clip-path=\"url(#clip380)\" d=\"M104.279 397.307 L120.598 397.307 L120.598 401.242 L98.6539 401.242 L98.6539 397.307 Q101.316 394.552 105.899 389.923 Q110.506 385.27 111.686 383.927 Q113.932 381.404 114.811 379.668 Q115.714 377.909 115.714 376.219 Q115.714 373.465 113.77 371.728 Q111.848 369.992 108.746 369.992 Q106.547 369.992 104.094 370.756 Q101.663 371.52 98.8854 373.071 L98.8854 368.349 Q101.709 367.215 104.163 366.636 Q106.617 366.057 108.654 366.057 Q114.024 366.057 117.219 368.742 Q120.413 371.427 120.413 375.918 Q120.413 378.048 119.603 379.969 Q118.816 381.867 116.709 384.46 Q116.131 385.131 113.029 388.349 Q109.927 391.543 104.279 397.307 Z\" fill=\"#000000\" fill-rule=\"nonzero\" fill-opacity=\"1\" /><path clip-path=\"url(#clip380)\" d=\"M53.7467 206.171 L61.3856 206.171 L61.3856 179.806 L53.0754 181.472 L53.0754 177.213 L61.3393 175.546 L66.0152 175.546 L66.0152 206.171 L73.654 206.171 L73.654 210.106 L53.7467 210.106 L53.7467 206.171 Z\" fill=\"#000000\" fill-rule=\"nonzero\" fill-opacity=\"1\" /><path clip-path=\"url(#clip380)\" d=\"M83.0984 204.227 L87.9827 204.227 L87.9827 210.106 L83.0984 210.106 L83.0984 204.227 Z\" fill=\"#000000\" fill-rule=\"nonzero\" fill-opacity=\"1\" /><path clip-path=\"url(#clip380)\" d=\"M111.015 179.62 L99.2095 198.069 L111.015 198.069 L111.015 179.62 M109.788 175.546 L115.668 175.546 L115.668 198.069 L120.598 198.069 L120.598 201.958 L115.668 201.958 L115.668 210.106 L111.015 210.106 L111.015 201.958 L95.4132 201.958 L95.4132 197.444 L109.788 175.546 Z\" fill=\"#000000\" fill-rule=\"nonzero\" fill-opacity=\"1\" /><polyline clip-path=\"url(#clip382)\" style=\"stroke:#009af9; stroke-linecap:round; stroke-linejoin:round; stroke-width:4; stroke-opacity:1; fill:none\" points=\"218.754,155.632 220.828,87.9763 222.901,101.929 224.975,116.68 227.049,123.8 229.123,149.143 231.197,178.186 233.271,228.436 235.345,139.414 237.419,223.295 239.493,139.736 241.567,175.045 243.641,181.253 245.715,211.759 247.789,199.383 249.862,210.633 251.936,204.08 254.01,198.918 256.084,180.832 258.158,210.111 260.232,241.186 262.306,272.398 264.38,292.84 266.454,241.654 268.528,243.782 270.602,233.516 272.676,237.6 274.75,254.323 276.823,331.477 278.897,334.594 280.971,319.75 283.045,356.159 285.119,362.565 287.193,362.186 289.267,375.506 291.341,356.932 293.415,416.077 295.489,376.78 297.563,463.885 299.637,418.032 301.71,499.769 303.784,482.432 305.858,524.08 307.932,559.893 310.006,512.289 312.08,565.731 314.154,563.252 316.228,559.693 318.302,587.139 320.376,647.016 322.45,605.344 324.524,619.54 326.598,622.237 328.671,608.689 330.745,616.093 332.819,661.313 334.893,628.796 336.967,638.231 339.041,634.381 341.115,652.692 343.189,620.677 345.263,685.547 347.337,634.969 349.411,665.146 351.485,698.295 353.558,653.776 355.632,661.838 357.706,663.533 359.78,662.061 361.854,644.873 363.928,617.942 366.002,666.673 368.076,698.54 370.15,683.241 372.224,687.317 374.298,679.987 376.372,704.919 378.446,698.528 380.519,683.089 382.593,686.827 384.667,657.211 386.741,660.226 388.815,678.678 390.889,711.096 392.963,677.396 395.037,669.373 397.111,708.35 399.185,698.569 401.259,718.323 403.333,674.903 405.407,667.371 407.48,684.675 409.554,706.11 411.628,695.282 413.702,699.126 415.776,679.261 417.85,693.353 419.924,692.327 421.998,694.85 424.072,668.461 426.146,702.904 428.22,708.773 430.294,689.407 432.367,727.857 434.441,692.898 436.515,718.182 438.589,704.933 440.663,726.875 442.737,704.498 444.811,720.854 446.885,717.128 448.959,708.722 451.033,714.801 453.107,703.529 455.181,724.981 457.255,689.754 459.328,703.719 461.402,693.76 463.476,705.604 465.55,717.901 467.624,745.572 469.698,727.824 471.772,739.52 473.846,721.27 475.92,719.244 477.994,717.141 480.068,726.641 482.142,715.124 484.216,752.647 486.289,746.14 488.363,747.403 490.437,802.56 492.511,747.418 494.585,757.667 496.659,753.669 498.733,739.314 500.807,755.617 502.881,766.904 504.955,782.97 507.029,754.868 509.103,755.874 511.176,732.723 513.25,759.544 515.324,785.119 517.398,761.557 519.472,774.137 521.546,784.054 523.62,779.48 525.694,798.403 527.768,834.872 529.842,781.894 531.916,812.747 533.99,815.054 536.064,808.779 538.137,796.51 540.211,831.378 542.285,823.327 544.359,825.967 546.433,830.779 548.507,858.148 550.581,830.862 552.655,887.777 554.729,846.901 556.803,882.756 558.877,921.305 560.951,880.687 563.024,884.871 565.098,902.908 567.172,918.115 569.246,882.774 571.32,874.046 573.394,941.207 575.468,985.802 577.542,972.293 579.616,986.774 581.69,988.299 583.764,1027.67 585.838,1026.77 587.912,1016.34 589.985,1032.03 592.059,1009.64 594.133,1014.51 596.207,1049.22 598.281,1102.86 600.355,1076.58 602.429,1071.47 604.503,1117.9 606.577,1120.94 608.651,1156.13 610.725,1110.8 612.799,1123.77 614.873,1136.12 616.946,1171 619.02,1162.35 621.094,1175.63 623.168,1165.01 625.242,1188.45 627.316,1191.1 629.39,1195.89 631.464,1182.47 633.538,1203.46 635.612,1222.26 637.686,1209.73 639.76,1240.36 641.833,1216.03 643.907,1232.62 645.981,1223.59 648.055,1230.07 650.129,1235.34 652.203,1233.22 654.277,1246.71 656.351,1236.33 658.425,1244.6 660.499,1235.48 662.573,1250.27 664.647,1233.85 666.721,1242.3 668.794,1241.71 670.868,1254.64 672.942,1252.72 675.016,1258 677.09,1247.38 679.164,1255.08 681.238,1255.55 683.312,1256.49 685.386,1257.06 687.46,1261.7 689.534,1259.24 691.608,1258.41 693.681,1263.23 695.755,1263.17 697.829,1271.65 699.903,1265.05 701.977,1265.75 704.051,1258.56 706.125,1265.77 708.199,1258.1 710.273,1268.87 712.347,1260.17 714.421,1264.91 716.495,1255.07 718.569,1265.61 720.642,1258.11 722.716,1260.83 724.79,1261.69 726.864,1256.47 728.938,1269.21 731.012,1265.19 733.086,1267.04 735.16,1277.1 737.234,1271.11 739.308,1270.68 741.382,1268.47 743.456,1270 745.53,1271.89 747.603,1270.7 749.677,1272.44 751.751,1274.81 753.825,1257.34 755.899,1255.09 757.973,1279.73 760.047,1261.79 762.121,1261.57 764.195,1275.14 766.269,1274.48 768.343,1273.94 770.417,1270.43 772.49,1275.54 774.564,1268.84 776.638,1281.15 778.712,1278.69 780.786,1270.57 782.86,1279.97 784.934,1278.86 787.008,1267.54 789.082,1277.51 791.156,1262.94 793.23,1282.36 795.304,1272.47 797.378,1281.35 799.451,1274.45 801.525,1285.16 803.599,1288.93 805.673,1287.21 807.747,1275.08 809.821,1283.73 811.895,1274.59 813.969,1283.4 816.043,1278.5 818.117,1279.81 820.191,1280.53 822.265,1268.47 824.339,1274.66 826.412,1270.18 828.486,1284.54 830.56,1283.41 832.634,1272.94 834.708,1288.93 836.782,1291.17 838.856,1285.48 840.93,1270.47 843.004,1293.07 845.078,1290.25 847.152,1292.48 849.226,1279.87 851.299,1289.88 853.373,1270.97 855.447,1261.42 857.521,1290.62 859.595,1272.83 861.669,1296.88 863.743,1269.02 865.817,1292.47 867.891,1275.87 869.965,1294.77 872.039,1275.13 874.113,1280.24 876.187,1281.93 878.26,1308.17 880.334,1285.04 882.408,1279.95 884.482,1265.36 886.556,1281.38 888.63,1287.38 890.704,1291.75 892.778,1291.9 894.852,1298.58 896.926,1298.5 899,1276.53 901.074,1290.49 903.147,1288.81 905.221,1287.08 907.295,1294.25 909.369,1294.46 911.443,1280.17 913.517,1299.93 915.591,1277.54 917.665,1295.26 919.739,1276.55 921.813,1292.61 923.887,1274.79 925.961,1298.92 928.035,1280.49 930.108,1278.94 932.182,1284.46 934.256,1274.03 936.33,1295.7 938.404,1290.41 940.478,1290.17 942.552,1305.29 944.626,1301.54 946.7,1297.78 948.774,1291.86 950.848,1297.82 952.922,1303.03 954.996,1297.04 957.069,1300.35 959.143,1305.32 961.217,1272.19 963.291,1266.95 965.365,1314.39 967.439,1278.36 969.513,1282.44 971.587,1303 973.661,1299.19 975.735,1303.8 977.809,1295.7 979.883,1305.63 981.956,1293.18 984.03,1312.49 986.104,1311.59 988.178,1297.89 990.252,1310.46 992.326,1309.02 994.4,1291.06 996.474,1308.49 998.548,1283.5 1000.62,1313.78 1002.7,1297.92 1004.77,1311.76 1006.84,1303 1008.92,1320.89 1010.99,1326.47 1013.07,1321.62 1015.14,1302.91 1017.21,1317.8 1019.29,1300.32 1021.36,1314.24 1023.43,1308.57 1025.51,1312.79 1027.58,1312.66 1029.66,1292.8 1031.73,1303.02 1033.8,1295.75 1035.88,1315.4 1037.95,1315.67 1040.03,1301.81 1042.1,1324 1044.17,1327.42 1046.25,1319.63 1048.32,1296.83 1050.4,1330.55 1052.47,1328.24 1054.54,1329.87 1056.62,1312.84 1058.69,1324.86 1060.77,1297.98 1062.84,1284.51 1064.91,1329.26 1066.99,1301.49 1069.06,1334.38 1071.14,1300.76 1073.21,1329.41 1075.28,1308.27 1077.36,1333.54 1079.43,1307.51 1081.5,1311.02 1083.58,1316.14 1085.65,1349.48 1087.73,1319.14 1089.8,1313.36 1091.87,1295.41 1093.95,1315.39 1096.02,1325.69 1098.1,1329.23 1100.17,1331.71 1102.24,1337.98 1104.32,1338.3 1106.39,1313.66 1108.47,1327.76 1110.54,1330.74 1112.61,1329.67 1114.69,1335.57 1116.76,1335.13 1118.84,1320.72 1120.91,1340.16 1122.98,1312.25 1125.06,1340.55 1127.13,1319.06 1129.2,1335.24 1131.28,1314.06 1133.35,1340.37 1135.43,1323.47 1137.5,1318.35 1139.57,1327.91 1141.65,1318.85 1143.72,1340.12 1145.8,1336.53 1147.87,1335.1 1149.94,1352.51 1152.02,1350.02 1154.09,1349.76 1156.17,1342.67 1158.24,1349.97 1160.31,1353.9 1162.39,1348.53 1164.46,1353.34 1166.54,1360.22 1168.61,1323.36 1170.68,1320 1172.76,1370.06 1174.83,1331.09 1176.91,1341.37 1178.98,1364.92 1181.05,1355.84 1183.13,1360.8 1185.2,1356.4 1187.27,1370.76 1189.35,1361.22 1191.42,1374.02 1193.5,1373.26 1195.57,1363.1 1197.64,1370.97 1199.72,1375.56 1201.79,1356.93 1203.87,1371.05 1205.94,1356.43 1208.01,1376.41 1210.09,1366.78 1212.16,1378.36 1214.24,1366.66 1216.31,1384.34 1218.38,1394.03 1220.46,1389.09 1222.53,1372.95 1224.61,1379.96 1226.68,1366.33 1228.75,1375.89 1230.83,1379.92 1232.9,1380.17 1234.97,1378.94 1237.05,1364.79 1239.12,1377.35 1241.2,1370.55 1243.27,1376.73 1245.34,1387.92 1247.42,1378.81 1249.49,1391.52 1251.57,1384.39 1253.64,1385.8 1255.71,1369.61 1257.79,1393.94 1259.86,1399.08 1261.94,1401.06 1264.01,1390.16 1266.08,1389.62 1268.16,1374.81 1270.23,1363.65 1272.31,1393.82 1274.38,1375.4 1276.45,1397.56 1278.53,1379.69 1280.6,1397.38 1282.68,1380.59 1284.75,1393.88 1286.82,1379.56 1288.9,1375.05 1290.97,1383.54 1293.04,1401.48 1295.12,1381.6 1297.19,1375.6 1299.27,1375.3 1301.34,1384.93 1303.41,1396.45 1305.49,1384.7 1307.56,1391.05 1309.64,1395.55 1311.71,1395.27 1313.78,1395.64 1315.86,1392.74 1317.93,1391.97 1320.01,1402.31 1322.08,1404.83 1324.15,1390.43 1326.23,1382.08 1328.3,1381.22 1330.38,1375.92 1332.45,1397.21 1334.52,1388.28 1336.6,1391.35 1338.67,1381.57 1340.74,1397.02 1342.82,1386.67 1344.89,1375.41 1346.97,1378.95 1349.04,1383.08 1351.11,1388.85 1353.19,1384.13 1355.26,1388.98 1357.34,1405.45 1359.41,1399.38 1361.48,1407.94 1363.56,1396.56 1365.63,1400.08 1367.71,1405.7 1369.78,1395.04 1371.85,1403.09 1373.93,1397.34 1376,1378.5 1378.08,1366.04 1380.15,1377.38 1382.22,1377.11 1384.3,1371.34 1386.37,1388.02 1388.44,1385.97 1390.52,1385.66 1392.59,1381.33 1394.67,1386.24 1396.74,1382.35 1398.81,1384.31 1400.89,1391.26 1402.96,1387.8 1405.04,1405.09 1407.11,1406.26 1409.18,1386.27 1411.26,1399.91 1413.33,1382.25 1415.41,1398.39 1417.48,1383.08 1419.55,1403.18 1421.63,1394.08 1423.7,1411.89 1425.78,1419.16 1427.85,1409.62 1429.92,1400.54 1432,1404.04 1434.07,1390.31 1436.15,1389.44 1438.22,1402.02 1440.29,1406.28 1442.37,1406.04 1444.44,1386.11 1446.51,1401.79 1448.59,1390.62 1450.66,1394.11 1452.74,1400 1454.81,1401.19 1456.88,1407.23 1458.96,1403.23 1461.03,1401.94 1463.11,1390.33 1465.18,1396.8 1467.25,1412.32 1469.33,1415.09 1471.4,1407.49 1473.48,1403.77 1475.55,1393.77 1477.62,1380.97 1479.7,1415.07 1481.77,1388.31 1483.85,1417.13 1485.92,1396.5 1487.99,1415.63 1490.07,1405.81 1492.14,1403.78 1494.21,1398.61 1496.29,1391.42 1498.36,1399.13 1500.44,1419.55 1502.51,1403.87 1504.58,1392.9 1506.66,1391.58 1508.73,1401.77 1510.81,1407.19 1512.88,1396.68 1514.95,1401.55 1517.03,1402.23 1519.1,1401.85 1521.18,1413.45 1523.25,1406.56 1525.32,1410.39 1527.4,1416.52 1529.47,1414.91 1531.55,1405.07 1533.62,1403.21 1535.69,1395.27 1537.77,1394.62 1539.84,1405.65 1541.92,1406.34 1543.99,1406.51 1546.06,1398.15 1548.14,1408.99 1550.21,1399.76 1552.28,1392.9 1554.36,1394.45 1556.43,1399.24 1558.51,1398.47 1560.58,1390.25 1562.65,1393.51 1564.73,1410.11 1566.8,1403.35 1568.88,1413.39 1570.95,1401.92 1573.02,1404.6 1575.1,1411.89 1577.17,1413.59 1579.25,1415.95 1581.32,1414.56 1583.39,1393.2 1585.47,1389.36 1587.54,1404.27 1589.62,1399.8 1591.69,1399.06 1593.76,1413.22 1595.84,1411.39 1597.91,1408.14 1599.98,1401.13 1602.06,1402.32 1604.13,1398.81 1606.21,1397 1608.28,1404.98 1610.35,1401.91 1612.43,1414.31 1614.5,1419.24 1616.58,1401.46 1618.65,1413.16 1620.72,1403.2 1622.8,1407.48 1624.87,1406.94 1626.95,1414.33 1629.02,1406.48 1631.09,1421.22 1633.17,1427.53 1635.24,1418.11 1637.32,1411.39 1639.39,1415.82 1641.46,1395.7 1643.54,1399.14 1645.61,1415.01 1647.69,1415.91 1649.76,1413.48 1651.83,1397.76 1653.91,1412.19 1655.98,1406.16 1658.05,1402.91 1660.13,1414.66 1662.2,1410.02 1664.28,1415.5 1666.35,1410 1668.42,1411.73 1670.5,1403.42 1672.57,1407.34 1674.65,1418.63 1676.72,1422.83 1678.79,1415.14 1680.87,1409.67 1682.94,1404.71 1685.02,1394.87 1687.09,1421.93 1689.16,1403.79 1691.24,1421.2 1693.31,1406.57 1695.39,1424.4 1697.46,1418.71 1699.53,1411.67 1701.61,1410.89 1703.68,1394.82 1705.75,1409.54 1707.83,1428.55 1709.9,1413.79 1711.98,1400.71 1714.05,1402.99 1716.12,1411.47 1718.2,1412.78 1720.27,1402.07 1722.35,1409.59 1724.42,1409.25 1726.49,1407.38 1728.57,1424.66 1730.64,1415.73 1732.72,1418.56 1734.79,1423.48 1736.86,1423.25 1738.94,1412.45 1741.01,1413.61 1743.09,1401.78 1745.16,1406.26 1747.23,1410.55 1749.31,1416.67 1751.38,1414.3 1753.46,1409.1 1755.53,1417.12 1757.6,1409.1 1759.68,1403.36 1761.75,1403.68 1763.82,1410.22 1765.9,1406.11 1767.97,1396.79 1770.05,1407.92 1772.12,1424.43 1774.19,1417.55 1776.27,1425.11 1778.34,1413.94 1780.42,1412.14 1782.49,1423 1784.56,1423.98 1786.64,1423.83 1788.71,1422.13 1790.79,1408.37 1792.86,1403.79 1794.93,1411.87 1797.01,1412.34 1799.08,1409.43 1801.16,1421.37 1803.23,1423.42 1805.3,1420.83 1807.38,1410.47 1809.45,1410.91 1811.52,1409.68 1813.6,1407.85 1815.67,1414.19 1817.75,1410.8 1819.82,1420.85 1821.89,1427.13 1823.97,1412.48 1826.04,1422.09 1828.12,1416.75 1830.19,1415.32 1832.26,1419.64 1834.34,1425.08 1836.41,1415.59 1838.49,1427.55 1840.56,1433.74 1842.63,1424.95 1844.71,1417.09 1846.78,1424.14 1848.86,1402.21 1850.93,1404.92 1853,1423.81 1855.08,1424.38 1857.15,1420.82 1859.22,1407.35 1861.3,1420.26 1863.37,1416.41 1865.45,1409.44 1867.52,1422.45 1869.59,1416.64 1871.67,1421.94 1873.74,1417.03 1875.82,1415.72 1877.89,1412.18 1879.96,1414.85 1882.04,1424.55 1884.11,1429.17 1886.19,1422.1 1888.26,1416.74 1890.33,1413.73 1892.41,1405.82 1894.48,1428.62 1896.56,1413.43 1898.63,1428.67 1900.7,1415.04 1902.78,1432.14 1904.85,1428.75 1906.93,1418.52 1909,1420.97 1911.07,1403.01 1913.15,1417.97 1915.22,1435.55 1917.29,1421.93 1919.37,1408.65 1921.44,1413.81 1923.52,1420.59 1925.59,1419.43 1927.66,1408.2 1929.74,1416.6 1931.81,1416.05 1933.89,1412.72 1935.96,1434.13 1938.03,1423.54 1940.11,1425.96 1942.18,1429.77 1944.26,1430.96 1946.33,1419.69 1948.4,1422.87 1950.48,1408.51 1952.55,1416.16 1954.63,1416.19 1956.7,1425.96 1958.77,1421.2 1960.85,1418.15 1962.92,1425.91 1964.99,1417.16 1967.07,1412.17 1969.14,1411.64 1971.22,1418.41 1973.29,1413.8 1975.36,1404.15 1977.44,1418.37 1979.51,1431.27 1981.59,1424.59 1983.66,1432.76 1985.73,1421.44 1987.81,1419.13 1989.88,1430.38 1991.96,1432.91 1994.03,1431.11 1996.1,1428.73 1998.18,1417.62 2000.25,1414 2002.33,1419.02 2004.4,1422.02 2006.47,1418.39 2008.55,1429.85 2010.62,1432.01 2012.7,1427.64 2014.77,1420.02 2016.84,1416.75 2018.92,1416.55 2020.99,1414.79 2023.06,1422.07 2025.14,1418.25 2027.21,1428.49 2029.29,1434.74 2031.36,1421.83 2033.43,1429.93 2035.51,1425.21 2037.58,1421.34 2039.66,1428.29 2041.73,1432.16 2043.8,1425.05 2045.88,1433.62 2047.95,1439.52 2050.03,1431.44 2052.1,1424.9 2054.17,1431.73 2056.25,1410.18 2058.32,1410.78 2060.4,1431.39 2062.47,1432.92 2064.54,1428.24 2066.62,1417.05 2068.69,1427.82 2070.76,1425.85 2072.84,1417.59 2074.91,1430.29 2076.99,1423.36 2079.06,1429.16 2081.13,1424.71 2083.21,1422.5 2085.28,1420.99 2087.36,1421.29 2089.43,1430.87 2091.5,1435.46 2093.58,1429.66 2095.65,1424.52 2097.73,1421.95 2099.8,1415.93 2101.87,1434.6 2103.95,1423.05 2106.02,1436.68 2108.1,1423.16 2110.17,1439.61 2112.24,1437.87 2114.32,1425.67 2116.39,1430.34 2118.47,1412.19 2120.54,1425.61 2122.61,1442.93 2124.69,1429.33 2126.76,1416.39 2128.83,1423.71 2130.91,1429.36 2132.98,1427.82 2135.06,1415.34 2137.13,1423.87 2139.2,1423.62 2141.28,1419.51 2143.35,1443.41 2145.43,1431.52 2147.5,1433.27 2149.57,1435.79 2151.65,1438.81 2153.72,1427.29 2155.8,1432.29 2157.87,1415.37 2159.94,1425.53 2162.02,1422.81 2164.09,1435.19 2166.17,1428.21 2168.24,1426.6 2170.31,1435.17 2172.39,1424.8 2174.46,1420.85 2176.53,1419.23 2178.61,1425.99 2180.68,1421.89 2182.76,1411.85 2184.83,1428.72 2186.9,1437.72 2188.98,1431.94 2191.05,1440.9 2193.13,1428.79 2195.2,1426.32 2197.27,1437.87 2199.35,1441.82 2201.42,1438.81 2203.5,1435.5 2205.57,1426.42 2207.64,1423.82 2209.72,1425.89 2211.79,1431.59 2213.87,1427.06 2215.94,1437.79 2218.01,1440.54 2220.09,1434.99 2222.16,1429.36 2224.24,1423.65 2226.31,1423.03 2228.38,1421.24 2230.46,1429.76 2232.53,1425.79 2234.6,1436.37 2236.68,1442.19 2238.75,1430.7 2240.83,1437.26 2242.9,1433.08 2244.97,1427.67 2247.05,1436.77 2249.12,1439.09 2251.2,1434.52 2253.27,1439.52 2255.34,1445.72 2257.42,1438.22 2259.49,1433.76 2261.57,1439.05 2263.64,1421.58 2265.71,1417.92 2267.79,1438.15 2269.86,1440.53 2271.94,1434.71 2274.01,1426.38 2276.08,1434.62 2278.16,1434.45 2280.23,1426.96 2282.3,1438.45 2284.38,1429.66 2286.45,1436.47 2288.53,1432.1 2290.6,1430.1 \"/>\n",
       "<path clip-path=\"url(#clip380)\" d=\"M2007.5 198.898 L2279.55 198.898 L2279.55 95.2176 L2007.5 95.2176  Z\" fill=\"#ffffff\" fill-rule=\"evenodd\" fill-opacity=\"1\"/>\n",
       "<polyline clip-path=\"url(#clip380)\" style=\"stroke:#000000; stroke-linecap:round; stroke-linejoin:round; stroke-width:4; stroke-opacity:1; fill:none\" points=\"2007.5,198.898 2279.55,198.898 2279.55,95.2176 2007.5,95.2176 2007.5,198.898 \"/>\n",
       "<polyline clip-path=\"url(#clip380)\" style=\"stroke:#009af9; stroke-linecap:round; stroke-linejoin:round; stroke-width:4; stroke-opacity:1; fill:none\" points=\"2031.91,147.058 2178.32,147.058 \"/>\n",
       "<path clip-path=\"url(#clip380)\" d=\"M2216.56 166.745 Q2214.76 171.375 2213.04 172.787 Q2211.33 174.199 2208.46 174.199 L2205.06 174.199 L2205.06 170.634 L2207.56 170.634 Q2209.32 170.634 2210.29 169.8 Q2211.26 168.967 2212.44 165.865 L2213.2 163.921 L2202.72 138.412 L2207.23 138.412 L2215.33 158.689 L2223.44 138.412 L2227.95 138.412 L2216.56 166.745 Z\" fill=\"#000000\" fill-rule=\"nonzero\" fill-opacity=\"1\" /><path clip-path=\"url(#clip380)\" d=\"M2235.24 160.402 L2242.88 160.402 L2242.88 134.037 L2234.57 135.703 L2234.57 131.444 L2242.83 129.778 L2247.51 129.778 L2247.51 160.402 L2255.15 160.402 L2255.15 164.338 L2235.24 164.338 L2235.24 160.402 Z\" fill=\"#000000\" fill-rule=\"nonzero\" fill-opacity=\"1\" /></svg>\n"
      ],
      "text/html": [
       "<?xml version=\"1.0\" encoding=\"utf-8\"?>\n",
       "<svg xmlns=\"http://www.w3.org/2000/svg\" xmlns:xlink=\"http://www.w3.org/1999/xlink\" width=\"600\" height=\"400\" viewBox=\"0 0 2400 1600\">\n",
       "<defs>\n",
       "  <clipPath id=\"clip430\">\n",
       "    <rect x=\"0\" y=\"0\" width=\"2400\" height=\"1600\"/>\n",
       "  </clipPath>\n",
       "</defs>\n",
       "<path clip-path=\"url(#clip430)\" d=\"M0 1600 L2400 1600 L2400 8.88178e-14 L0 8.88178e-14  Z\" fill=\"#ffffff\" fill-rule=\"evenodd\" fill-opacity=\"1\"/>\n",
       "<defs>\n",
       "  <clipPath id=\"clip431\">\n",
       "    <rect x=\"480\" y=\"0\" width=\"1681\" height=\"1600\"/>\n",
       "  </clipPath>\n",
       "</defs>\n",
       "<path clip-path=\"url(#clip430)\" d=\"M156.598 1486.45 L2352.76 1486.45 L2352.76 47.2441 L156.598 47.2441  Z\" fill=\"#ffffff\" fill-rule=\"evenodd\" fill-opacity=\"1\"/>\n",
       "<defs>\n",
       "  <clipPath id=\"clip432\">\n",
       "    <rect x=\"156\" y=\"47\" width=\"2197\" height=\"1440\"/>\n",
       "  </clipPath>\n",
       "</defs>\n",
       "<polyline clip-path=\"url(#clip432)\" style=\"stroke:#000000; stroke-linecap:round; stroke-linejoin:round; stroke-width:2; stroke-opacity:0.1; fill:none\" points=\"216.68,1486.45 216.68,47.2441 \"/>\n",
       "<polyline clip-path=\"url(#clip432)\" style=\"stroke:#000000; stroke-linecap:round; stroke-linejoin:round; stroke-width:2; stroke-opacity:0.1; fill:none\" points=\"735.16,1486.45 735.16,47.2441 \"/>\n",
       "<polyline clip-path=\"url(#clip432)\" style=\"stroke:#000000; stroke-linecap:round; stroke-linejoin:round; stroke-width:2; stroke-opacity:0.1; fill:none\" points=\"1253.64,1486.45 1253.64,47.2441 \"/>\n",
       "<polyline clip-path=\"url(#clip432)\" style=\"stroke:#000000; stroke-linecap:round; stroke-linejoin:round; stroke-width:2; stroke-opacity:0.1; fill:none\" points=\"1772.12,1486.45 1772.12,47.2441 \"/>\n",
       "<polyline clip-path=\"url(#clip432)\" style=\"stroke:#000000; stroke-linecap:round; stroke-linejoin:round; stroke-width:2; stroke-opacity:0.1; fill:none\" points=\"2290.6,1486.45 2290.6,47.2441 \"/>\n",
       "<polyline clip-path=\"url(#clip430)\" style=\"stroke:#000000; stroke-linecap:round; stroke-linejoin:round; stroke-width:4; stroke-opacity:1; fill:none\" points=\"156.598,1486.45 2352.76,1486.45 \"/>\n",
       "<polyline clip-path=\"url(#clip430)\" style=\"stroke:#000000; stroke-linecap:round; stroke-linejoin:round; stroke-width:4; stroke-opacity:1; fill:none\" points=\"216.68,1486.45 216.68,1467.55 \"/>\n",
       "<polyline clip-path=\"url(#clip430)\" style=\"stroke:#000000; stroke-linecap:round; stroke-linejoin:round; stroke-width:4; stroke-opacity:1; fill:none\" points=\"735.16,1486.45 735.16,1467.55 \"/>\n",
       "<polyline clip-path=\"url(#clip430)\" style=\"stroke:#000000; stroke-linecap:round; stroke-linejoin:round; stroke-width:4; stroke-opacity:1; fill:none\" points=\"1253.64,1486.45 1253.64,1467.55 \"/>\n",
       "<polyline clip-path=\"url(#clip430)\" style=\"stroke:#000000; stroke-linecap:round; stroke-linejoin:round; stroke-width:4; stroke-opacity:1; fill:none\" points=\"1772.12,1486.45 1772.12,1467.55 \"/>\n",
       "<polyline clip-path=\"url(#clip430)\" style=\"stroke:#000000; stroke-linecap:round; stroke-linejoin:round; stroke-width:4; stroke-opacity:1; fill:none\" points=\"2290.6,1486.45 2290.6,1467.55 \"/>\n",
       "<path clip-path=\"url(#clip430)\" d=\"M216.68 1517.37 Q213.069 1517.37 211.24 1520.93 Q209.434 1524.47 209.434 1531.6 Q209.434 1538.71 211.24 1542.27 Q213.069 1545.82 216.68 1545.82 Q220.314 1545.82 222.12 1542.27 Q223.948 1538.71 223.948 1531.6 Q223.948 1524.47 222.12 1520.93 Q220.314 1517.37 216.68 1517.37 M216.68 1513.66 Q222.49 1513.66 225.545 1518.27 Q228.624 1522.85 228.624 1531.6 Q228.624 1540.33 225.545 1544.94 Q222.49 1549.52 216.68 1549.52 Q210.87 1549.52 207.791 1544.94 Q204.735 1540.33 204.735 1531.6 Q204.735 1522.85 207.791 1518.27 Q210.87 1513.66 216.68 1513.66 Z\" fill=\"#000000\" fill-rule=\"nonzero\" fill-opacity=\"1\" /><path clip-path=\"url(#clip430)\" d=\"M698.852 1544.91 L715.172 1544.91 L715.172 1548.85 L693.227 1548.85 L693.227 1544.91 Q695.889 1542.16 700.473 1537.53 Q705.079 1532.88 706.26 1531.53 Q708.505 1529.01 709.385 1527.27 Q710.287 1525.51 710.287 1523.82 Q710.287 1521.07 708.343 1519.33 Q706.422 1517.6 703.32 1517.6 Q701.121 1517.6 698.667 1518.36 Q696.237 1519.13 693.459 1520.68 L693.459 1515.95 Q696.283 1514.82 698.736 1514.24 Q701.19 1513.66 703.227 1513.66 Q708.598 1513.66 711.792 1516.35 Q714.986 1519.03 714.986 1523.52 Q714.986 1525.65 714.176 1527.57 Q713.389 1529.47 711.283 1532.07 Q710.704 1532.74 707.602 1535.95 Q704.5 1539.15 698.852 1544.91 Z\" fill=\"#000000\" fill-rule=\"nonzero\" fill-opacity=\"1\" /><path clip-path=\"url(#clip430)\" d=\"M725.033 1514.29 L743.389 1514.29 L743.389 1518.22 L729.315 1518.22 L729.315 1526.7 Q730.334 1526.35 731.352 1526.19 Q732.371 1526 733.389 1526 Q739.176 1526 742.556 1529.17 Q745.935 1532.34 745.935 1537.76 Q745.935 1543.34 742.463 1546.44 Q738.991 1549.52 732.672 1549.52 Q730.496 1549.52 728.227 1549.15 Q725.982 1548.78 723.574 1548.04 L723.574 1543.34 Q725.658 1544.47 727.88 1545.03 Q730.102 1545.58 732.579 1545.58 Q736.584 1545.58 738.921 1543.48 Q741.259 1541.37 741.259 1537.76 Q741.259 1534.15 738.921 1532.04 Q736.584 1529.94 732.579 1529.94 Q730.704 1529.94 728.829 1530.35 Q726.977 1530.77 725.033 1531.65 L725.033 1514.29 Z\" fill=\"#000000\" fill-rule=\"nonzero\" fill-opacity=\"1\" /><path clip-path=\"url(#clip430)\" d=\"M765.148 1517.37 Q761.537 1517.37 759.708 1520.93 Q757.903 1524.47 757.903 1531.6 Q757.903 1538.71 759.708 1542.27 Q761.537 1545.82 765.148 1545.82 Q768.782 1545.82 770.588 1542.27 Q772.417 1538.71 772.417 1531.6 Q772.417 1524.47 770.588 1520.93 Q768.782 1517.37 765.148 1517.37 M765.148 1513.66 Q770.958 1513.66 774.014 1518.27 Q777.093 1522.85 777.093 1531.6 Q777.093 1540.33 774.014 1544.94 Q770.958 1549.52 765.148 1549.52 Q759.338 1549.52 756.259 1544.94 Q753.204 1540.33 753.204 1531.6 Q753.204 1522.85 756.259 1518.27 Q759.338 1513.66 765.148 1513.66 Z\" fill=\"#000000\" fill-rule=\"nonzero\" fill-opacity=\"1\" /><path clip-path=\"url(#clip430)\" d=\"M1213.26 1514.29 L1231.61 1514.29 L1231.61 1518.22 L1217.54 1518.22 L1217.54 1526.7 Q1218.56 1526.35 1219.58 1526.19 Q1220.6 1526 1221.61 1526 Q1227.4 1526 1230.78 1529.17 Q1234.16 1532.34 1234.16 1537.76 Q1234.16 1543.34 1230.69 1546.44 Q1227.22 1549.52 1220.9 1549.52 Q1218.72 1549.52 1216.45 1549.15 Q1214.21 1548.78 1211.8 1548.04 L1211.8 1543.34 Q1213.88 1544.47 1216.11 1545.03 Q1218.33 1545.58 1220.8 1545.58 Q1224.81 1545.58 1227.15 1543.48 Q1229.49 1541.37 1229.49 1537.76 Q1229.49 1534.15 1227.15 1532.04 Q1224.81 1529.94 1220.8 1529.94 Q1218.93 1529.94 1217.05 1530.35 Q1215.2 1530.77 1213.26 1531.65 L1213.26 1514.29 Z\" fill=\"#000000\" fill-rule=\"nonzero\" fill-opacity=\"1\" /><path clip-path=\"url(#clip430)\" d=\"M1253.37 1517.37 Q1249.76 1517.37 1247.93 1520.93 Q1246.13 1524.47 1246.13 1531.6 Q1246.13 1538.71 1247.93 1542.27 Q1249.76 1545.82 1253.37 1545.82 Q1257.01 1545.82 1258.81 1542.27 Q1260.64 1538.71 1260.64 1531.6 Q1260.64 1524.47 1258.81 1520.93 Q1257.01 1517.37 1253.37 1517.37 M1253.37 1513.66 Q1259.18 1513.66 1262.24 1518.27 Q1265.32 1522.85 1265.32 1531.6 Q1265.32 1540.33 1262.24 1544.94 Q1259.18 1549.52 1253.37 1549.52 Q1247.56 1549.52 1244.49 1544.94 Q1241.43 1540.33 1241.43 1531.6 Q1241.43 1522.85 1244.49 1518.27 Q1247.56 1513.66 1253.37 1513.66 Z\" fill=\"#000000\" fill-rule=\"nonzero\" fill-opacity=\"1\" /><path clip-path=\"url(#clip430)\" d=\"M1283.54 1517.37 Q1279.92 1517.37 1278.1 1520.93 Q1276.29 1524.47 1276.29 1531.6 Q1276.29 1538.71 1278.1 1542.27 Q1279.92 1545.82 1283.54 1545.82 Q1287.17 1545.82 1288.98 1542.27 Q1290.8 1538.71 1290.8 1531.6 Q1290.8 1524.47 1288.98 1520.93 Q1287.17 1517.37 1283.54 1517.37 M1283.54 1513.66 Q1289.35 1513.66 1292.4 1518.27 Q1295.48 1522.85 1295.48 1531.6 Q1295.48 1540.33 1292.4 1544.94 Q1289.35 1549.52 1283.54 1549.52 Q1277.73 1549.52 1274.65 1544.94 Q1271.59 1540.33 1271.59 1531.6 Q1271.59 1522.85 1274.65 1518.27 Q1277.73 1513.66 1283.54 1513.66 Z\" fill=\"#000000\" fill-rule=\"nonzero\" fill-opacity=\"1\" /><path clip-path=\"url(#clip430)\" d=\"M1730.4 1514.29 L1752.62 1514.29 L1752.62 1516.28 L1740.07 1548.85 L1735.19 1548.85 L1746.99 1518.22 L1730.4 1518.22 L1730.4 1514.29 Z\" fill=\"#000000\" fill-rule=\"nonzero\" fill-opacity=\"1\" /><path clip-path=\"url(#clip430)\" d=\"M1761.78 1514.29 L1780.14 1514.29 L1780.14 1518.22 L1766.07 1518.22 L1766.07 1526.7 Q1767.09 1526.35 1768.1 1526.19 Q1769.12 1526 1770.14 1526 Q1775.93 1526 1779.31 1529.17 Q1782.69 1532.34 1782.69 1537.76 Q1782.69 1543.34 1779.22 1546.44 Q1775.74 1549.52 1769.42 1549.52 Q1767.25 1549.52 1764.98 1549.15 Q1762.73 1548.78 1760.33 1548.04 L1760.33 1543.34 Q1762.41 1544.47 1764.63 1545.03 Q1766.85 1545.58 1769.33 1545.58 Q1773.34 1545.58 1775.67 1543.48 Q1778.01 1541.37 1778.01 1537.76 Q1778.01 1534.15 1775.67 1532.04 Q1773.34 1529.94 1769.33 1529.94 Q1767.46 1529.94 1765.58 1530.35 Q1763.73 1530.77 1761.78 1531.65 L1761.78 1514.29 Z\" fill=\"#000000\" fill-rule=\"nonzero\" fill-opacity=\"1\" /><path clip-path=\"url(#clip430)\" d=\"M1801.9 1517.37 Q1798.29 1517.37 1796.46 1520.93 Q1794.65 1524.47 1794.65 1531.6 Q1794.65 1538.71 1796.46 1542.27 Q1798.29 1545.82 1801.9 1545.82 Q1805.53 1545.82 1807.34 1542.27 Q1809.17 1538.71 1809.17 1531.6 Q1809.17 1524.47 1807.34 1520.93 Q1805.53 1517.37 1801.9 1517.37 M1801.9 1513.66 Q1807.71 1513.66 1810.77 1518.27 Q1813.84 1522.85 1813.84 1531.6 Q1813.84 1540.33 1810.77 1544.94 Q1807.71 1549.52 1801.9 1549.52 Q1796.09 1549.52 1793.01 1544.94 Q1789.96 1540.33 1789.96 1531.6 Q1789.96 1522.85 1793.01 1518.27 Q1796.09 1513.66 1801.9 1513.66 Z\" fill=\"#000000\" fill-rule=\"nonzero\" fill-opacity=\"1\" /><path clip-path=\"url(#clip430)\" d=\"M2235.13 1544.91 L2242.77 1544.91 L2242.77 1518.55 L2234.45 1520.21 L2234.45 1515.95 L2242.72 1514.29 L2247.39 1514.29 L2247.39 1544.91 L2255.03 1544.91 L2255.03 1548.85 L2235.13 1548.85 L2235.13 1544.91 Z\" fill=\"#000000\" fill-rule=\"nonzero\" fill-opacity=\"1\" /><path clip-path=\"url(#clip430)\" d=\"M2274.48 1517.37 Q2270.87 1517.37 2269.04 1520.93 Q2267.23 1524.47 2267.23 1531.6 Q2267.23 1538.71 2269.04 1542.27 Q2270.87 1545.82 2274.48 1545.82 Q2278.11 1545.82 2279.92 1542.27 Q2281.75 1538.71 2281.75 1531.6 Q2281.75 1524.47 2279.92 1520.93 Q2278.11 1517.37 2274.48 1517.37 M2274.48 1513.66 Q2280.29 1513.66 2283.34 1518.27 Q2286.42 1522.85 2286.42 1531.6 Q2286.42 1540.33 2283.34 1544.94 Q2280.29 1549.52 2274.48 1549.52 Q2268.67 1549.52 2265.59 1544.94 Q2262.53 1540.33 2262.53 1531.6 Q2262.53 1522.85 2265.59 1518.27 Q2268.67 1513.66 2274.48 1513.66 Z\" fill=\"#000000\" fill-rule=\"nonzero\" fill-opacity=\"1\" /><path clip-path=\"url(#clip430)\" d=\"M2304.64 1517.37 Q2301.03 1517.37 2299.2 1520.93 Q2297.39 1524.47 2297.39 1531.6 Q2297.39 1538.71 2299.2 1542.27 Q2301.03 1545.82 2304.64 1545.82 Q2308.27 1545.82 2310.08 1542.27 Q2311.91 1538.71 2311.91 1531.6 Q2311.91 1524.47 2310.08 1520.93 Q2308.27 1517.37 2304.64 1517.37 M2304.64 1513.66 Q2310.45 1513.66 2313.51 1518.27 Q2316.58 1522.85 2316.58 1531.6 Q2316.58 1540.33 2313.51 1544.94 Q2310.45 1549.52 2304.64 1549.52 Q2298.83 1549.52 2295.75 1544.94 Q2292.7 1540.33 2292.7 1531.6 Q2292.7 1522.85 2295.75 1518.27 Q2298.83 1513.66 2304.64 1513.66 Z\" fill=\"#000000\" fill-rule=\"nonzero\" fill-opacity=\"1\" /><path clip-path=\"url(#clip430)\" d=\"M2334.8 1517.37 Q2331.19 1517.37 2329.36 1520.93 Q2327.56 1524.47 2327.56 1531.6 Q2327.56 1538.71 2329.36 1542.27 Q2331.19 1545.82 2334.8 1545.82 Q2338.44 1545.82 2340.24 1542.27 Q2342.07 1538.71 2342.07 1531.6 Q2342.07 1524.47 2340.24 1520.93 Q2338.44 1517.37 2334.8 1517.37 M2334.8 1513.66 Q2340.61 1513.66 2343.67 1518.27 Q2346.75 1522.85 2346.75 1531.6 Q2346.75 1540.33 2343.67 1544.94 Q2340.61 1549.52 2334.8 1549.52 Q2328.99 1549.52 2325.91 1544.94 Q2322.86 1540.33 2322.86 1531.6 Q2322.86 1522.85 2325.91 1518.27 Q2328.99 1513.66 2334.8 1513.66 Z\" fill=\"#000000\" fill-rule=\"nonzero\" fill-opacity=\"1\" /><polyline clip-path=\"url(#clip432)\" style=\"stroke:#000000; stroke-linecap:round; stroke-linejoin:round; stroke-width:2; stroke-opacity:0.1; fill:none\" points=\"156.598,1339.64 2352.76,1339.64 \"/>\n",
       "<polyline clip-path=\"url(#clip432)\" style=\"stroke:#000000; stroke-linecap:round; stroke-linejoin:round; stroke-width:2; stroke-opacity:0.1; fill:none\" points=\"156.598,1148.51 2352.76,1148.51 \"/>\n",
       "<polyline clip-path=\"url(#clip432)\" style=\"stroke:#000000; stroke-linecap:round; stroke-linejoin:round; stroke-width:2; stroke-opacity:0.1; fill:none\" points=\"156.598,957.369 2352.76,957.369 \"/>\n",
       "<polyline clip-path=\"url(#clip432)\" style=\"stroke:#000000; stroke-linecap:round; stroke-linejoin:round; stroke-width:2; stroke-opacity:0.1; fill:none\" points=\"156.598,766.234 2352.76,766.234 \"/>\n",
       "<polyline clip-path=\"url(#clip432)\" style=\"stroke:#000000; stroke-linecap:round; stroke-linejoin:round; stroke-width:2; stroke-opacity:0.1; fill:none\" points=\"156.598,575.098 2352.76,575.098 \"/>\n",
       "<polyline clip-path=\"url(#clip432)\" style=\"stroke:#000000; stroke-linecap:round; stroke-linejoin:round; stroke-width:2; stroke-opacity:0.1; fill:none\" points=\"156.598,383.962 2352.76,383.962 \"/>\n",
       "<polyline clip-path=\"url(#clip432)\" style=\"stroke:#000000; stroke-linecap:round; stroke-linejoin:round; stroke-width:2; stroke-opacity:0.1; fill:none\" points=\"156.598,192.826 2352.76,192.826 \"/>\n",
       "<polyline clip-path=\"url(#clip430)\" style=\"stroke:#000000; stroke-linecap:round; stroke-linejoin:round; stroke-width:4; stroke-opacity:1; fill:none\" points=\"156.598,1486.45 156.598,47.2441 \"/>\n",
       "<polyline clip-path=\"url(#clip430)\" style=\"stroke:#000000; stroke-linecap:round; stroke-linejoin:round; stroke-width:4; stroke-opacity:1; fill:none\" points=\"156.598,1339.64 175.496,1339.64 \"/>\n",
       "<polyline clip-path=\"url(#clip430)\" style=\"stroke:#000000; stroke-linecap:round; stroke-linejoin:round; stroke-width:4; stroke-opacity:1; fill:none\" points=\"156.598,1148.51 175.496,1148.51 \"/>\n",
       "<polyline clip-path=\"url(#clip430)\" style=\"stroke:#000000; stroke-linecap:round; stroke-linejoin:round; stroke-width:4; stroke-opacity:1; fill:none\" points=\"156.598,957.369 175.496,957.369 \"/>\n",
       "<polyline clip-path=\"url(#clip430)\" style=\"stroke:#000000; stroke-linecap:round; stroke-linejoin:round; stroke-width:4; stroke-opacity:1; fill:none\" points=\"156.598,766.234 175.496,766.234 \"/>\n",
       "<polyline clip-path=\"url(#clip430)\" style=\"stroke:#000000; stroke-linecap:round; stroke-linejoin:round; stroke-width:4; stroke-opacity:1; fill:none\" points=\"156.598,575.098 175.496,575.098 \"/>\n",
       "<polyline clip-path=\"url(#clip430)\" style=\"stroke:#000000; stroke-linecap:round; stroke-linejoin:round; stroke-width:4; stroke-opacity:1; fill:none\" points=\"156.598,383.962 175.496,383.962 \"/>\n",
       "<polyline clip-path=\"url(#clip430)\" style=\"stroke:#000000; stroke-linecap:round; stroke-linejoin:round; stroke-width:4; stroke-opacity:1; fill:none\" points=\"156.598,192.826 175.496,192.826 \"/>\n",
       "<path clip-path=\"url(#clip430)\" d=\"M65.0198 1325.44 Q61.4087 1325.44 59.58 1329 Q57.7745 1332.55 57.7745 1339.68 Q57.7745 1346.78 59.58 1350.35 Q61.4087 1353.89 65.0198 1353.89 Q68.6541 1353.89 70.4596 1350.35 Q72.2883 1346.78 72.2883 1339.68 Q72.2883 1332.55 70.4596 1329 Q68.6541 1325.44 65.0198 1325.44 M65.0198 1321.74 Q70.83 1321.74 73.8855 1326.34 Q76.9642 1330.93 76.9642 1339.68 Q76.9642 1348.4 73.8855 1353.01 Q70.83 1357.59 65.0198 1357.59 Q59.2097 1357.59 56.131 1353.01 Q53.0754 1348.4 53.0754 1339.68 Q53.0754 1330.93 56.131 1326.34 Q59.2097 1321.74 65.0198 1321.74 Z\" fill=\"#000000\" fill-rule=\"nonzero\" fill-opacity=\"1\" /><path clip-path=\"url(#clip430)\" d=\"M85.1818 1351.04 L90.066 1351.04 L90.066 1356.92 L85.1818 1356.92 L85.1818 1351.04 Z\" fill=\"#000000\" fill-rule=\"nonzero\" fill-opacity=\"1\" /><path clip-path=\"url(#clip430)\" d=\"M104.279 1352.99 L120.598 1352.99 L120.598 1356.92 L98.6539 1356.92 L98.6539 1352.99 Q101.316 1350.23 105.899 1345.6 Q110.506 1340.95 111.686 1339.61 Q113.932 1337.08 114.811 1335.35 Q115.714 1333.59 115.714 1331.9 Q115.714 1329.14 113.77 1327.41 Q111.848 1325.67 108.746 1325.67 Q106.547 1325.67 104.094 1326.44 Q101.663 1327.2 98.8854 1328.75 L98.8854 1324.03 Q101.709 1322.89 104.163 1322.31 Q106.617 1321.74 108.654 1321.74 Q114.024 1321.74 117.219 1324.42 Q120.413 1327.11 120.413 1331.6 Q120.413 1333.73 119.603 1335.65 Q118.816 1337.55 116.709 1340.14 Q116.131 1340.81 113.029 1344.03 Q109.927 1347.22 104.279 1352.99 Z\" fill=\"#000000\" fill-rule=\"nonzero\" fill-opacity=\"1\" /><path clip-path=\"url(#clip430)\" d=\"M62.9365 1134.3 Q59.3254 1134.3 57.4967 1137.87 Q55.6912 1141.41 55.6912 1148.54 Q55.6912 1155.65 57.4967 1159.21 Q59.3254 1162.75 62.9365 1162.75 Q66.5707 1162.75 68.3763 1159.21 Q70.205 1155.65 70.205 1148.54 Q70.205 1141.41 68.3763 1137.87 Q66.5707 1134.3 62.9365 1134.3 M62.9365 1130.6 Q68.7467 1130.6 71.8022 1135.21 Q74.8809 1139.79 74.8809 1148.54 Q74.8809 1157.27 71.8022 1161.87 Q68.7467 1166.46 62.9365 1166.46 Q57.1264 1166.46 54.0477 1161.87 Q50.9921 1157.27 50.9921 1148.54 Q50.9921 1139.79 54.0477 1135.21 Q57.1264 1130.6 62.9365 1130.6 Z\" fill=\"#000000\" fill-rule=\"nonzero\" fill-opacity=\"1\" /><path clip-path=\"url(#clip430)\" d=\"M83.0984 1159.91 L87.9827 1159.91 L87.9827 1165.79 L83.0984 1165.79 L83.0984 1159.91 Z\" fill=\"#000000\" fill-rule=\"nonzero\" fill-opacity=\"1\" /><path clip-path=\"url(#clip430)\" d=\"M111.015 1135.3 L99.2095 1153.75 L111.015 1153.75 L111.015 1135.3 M109.788 1131.23 L115.668 1131.23 L115.668 1153.75 L120.598 1153.75 L120.598 1157.64 L115.668 1157.64 L115.668 1165.79 L111.015 1165.79 L111.015 1157.64 L95.4132 1157.64 L95.4132 1153.12 L109.788 1131.23 Z\" fill=\"#000000\" fill-rule=\"nonzero\" fill-opacity=\"1\" /><path clip-path=\"url(#clip430)\" d=\"M63.2606 943.168 Q59.6495 943.168 57.8208 946.733 Q56.0152 950.275 56.0152 957.404 Q56.0152 964.511 57.8208 968.075 Q59.6495 971.617 63.2606 971.617 Q66.8948 971.617 68.7004 968.075 Q70.5291 964.511 70.5291 957.404 Q70.5291 950.275 68.7004 946.733 Q66.8948 943.168 63.2606 943.168 M63.2606 939.465 Q69.0707 939.465 72.1263 944.071 Q75.205 948.654 75.205 957.404 Q75.205 966.131 72.1263 970.737 Q69.0707 975.321 63.2606 975.321 Q57.4504 975.321 54.3717 970.737 Q51.3162 966.131 51.3162 957.404 Q51.3162 948.654 54.3717 944.071 Q57.4504 939.465 63.2606 939.465 Z\" fill=\"#000000\" fill-rule=\"nonzero\" fill-opacity=\"1\" /><path clip-path=\"url(#clip430)\" d=\"M83.4225 968.77 L88.3067 968.77 L88.3067 974.649 L83.4225 974.649 L83.4225 968.77 Z\" fill=\"#000000\" fill-rule=\"nonzero\" fill-opacity=\"1\" /><path clip-path=\"url(#clip430)\" d=\"M109.071 955.506 Q105.922 955.506 104.071 957.659 Q102.242 959.812 102.242 963.562 Q102.242 967.288 104.071 969.464 Q105.922 971.617 109.071 971.617 Q112.219 971.617 114.047 969.464 Q115.899 967.288 115.899 963.562 Q115.899 959.812 114.047 957.659 Q112.219 955.506 109.071 955.506 M118.353 940.853 L118.353 945.113 Q116.594 944.279 114.788 943.839 Q113.006 943.4 111.246 943.4 Q106.617 943.4 104.163 946.525 Q101.733 949.65 101.385 955.969 Q102.751 953.955 104.811 952.89 Q106.871 951.802 109.348 951.802 Q114.557 951.802 117.566 954.974 Q120.598 958.122 120.598 963.562 Q120.598 968.886 117.45 972.103 Q114.302 975.321 109.071 975.321 Q103.075 975.321 99.9039 970.737 Q96.7326 966.131 96.7326 957.404 Q96.7326 949.21 100.621 944.349 Q104.51 939.465 111.061 939.465 Q112.82 939.465 114.603 939.812 Q116.408 940.159 118.353 940.853 Z\" fill=\"#000000\" fill-rule=\"nonzero\" fill-opacity=\"1\" /><path clip-path=\"url(#clip430)\" d=\"M63.5152 752.032 Q59.9041 752.032 58.0754 755.597 Q56.2699 759.139 56.2699 766.268 Q56.2699 773.375 58.0754 776.94 Q59.9041 780.481 63.5152 780.481 Q67.1494 780.481 68.955 776.94 Q70.7837 773.375 70.7837 766.268 Q70.7837 759.139 68.955 755.597 Q67.1494 752.032 63.5152 752.032 M63.5152 748.329 Q69.3254 748.329 72.3809 752.935 Q75.4596 757.518 75.4596 766.268 Q75.4596 774.995 72.3809 779.602 Q69.3254 784.185 63.5152 784.185 Q57.7051 784.185 54.6264 779.602 Q51.5708 774.995 51.5708 766.268 Q51.5708 757.518 54.6264 752.935 Q57.7051 748.329 63.5152 748.329 Z\" fill=\"#000000\" fill-rule=\"nonzero\" fill-opacity=\"1\" /><path clip-path=\"url(#clip430)\" d=\"M83.6771 777.634 L88.5614 777.634 L88.5614 783.514 L83.6771 783.514 L83.6771 777.634 Z\" fill=\"#000000\" fill-rule=\"nonzero\" fill-opacity=\"1\" /><path clip-path=\"url(#clip430)\" d=\"M108.746 767.102 Q105.413 767.102 103.492 768.884 Q101.594 770.667 101.594 773.792 Q101.594 776.917 103.492 778.699 Q105.413 780.481 108.746 780.481 Q112.08 780.481 114.001 778.699 Q115.922 776.893 115.922 773.792 Q115.922 770.667 114.001 768.884 Q112.103 767.102 108.746 767.102 M104.071 765.111 Q101.061 764.37 99.3715 762.31 Q97.7048 760.25 97.7048 757.287 Q97.7048 753.144 100.645 750.736 Q103.608 748.329 108.746 748.329 Q113.908 748.329 116.848 750.736 Q119.788 753.144 119.788 757.287 Q119.788 760.25 118.098 762.31 Q116.432 764.37 113.445 765.111 Q116.825 765.898 118.7 768.19 Q120.598 770.481 120.598 773.792 Q120.598 778.815 117.52 781.5 Q114.464 784.185 108.746 784.185 Q103.029 784.185 99.9502 781.5 Q96.8947 778.815 96.8947 773.792 Q96.8947 770.481 98.7928 768.19 Q100.691 765.898 104.071 765.111 M102.358 757.727 Q102.358 760.412 104.024 761.917 Q105.714 763.421 108.746 763.421 Q111.756 763.421 113.445 761.917 Q115.158 760.412 115.158 757.727 Q115.158 755.042 113.445 753.537 Q111.756 752.032 108.746 752.032 Q105.714 752.032 104.024 753.537 Q102.358 755.042 102.358 757.727 Z\" fill=\"#000000\" fill-rule=\"nonzero\" fill-opacity=\"1\" /><path clip-path=\"url(#clip430)\" d=\"M54.2328 588.443 L61.8717 588.443 L61.8717 562.077 L53.5616 563.744 L53.5616 559.485 L61.8254 557.818 L66.5013 557.818 L66.5013 588.443 L74.1402 588.443 L74.1402 592.378 L54.2328 592.378 L54.2328 588.443 Z\" fill=\"#000000\" fill-rule=\"nonzero\" fill-opacity=\"1\" /><path clip-path=\"url(#clip430)\" d=\"M83.5845 586.498 L88.4688 586.498 L88.4688 592.378 L83.5845 592.378 L83.5845 586.498 Z\" fill=\"#000000\" fill-rule=\"nonzero\" fill-opacity=\"1\" /><path clip-path=\"url(#clip430)\" d=\"M108.654 560.897 Q105.043 560.897 103.214 564.461 Q101.409 568.003 101.409 575.133 Q101.409 582.239 103.214 585.804 Q105.043 589.346 108.654 589.346 Q112.288 589.346 114.094 585.804 Q115.922 582.239 115.922 575.133 Q115.922 568.003 114.094 564.461 Q112.288 560.897 108.654 560.897 M108.654 557.193 Q114.464 557.193 117.52 561.799 Q120.598 566.383 120.598 575.133 Q120.598 583.859 117.52 588.466 Q114.464 593.049 108.654 593.049 Q102.844 593.049 99.765 588.466 Q96.7095 583.859 96.7095 575.133 Q96.7095 566.383 99.765 561.799 Q102.844 557.193 108.654 557.193 Z\" fill=\"#000000\" fill-rule=\"nonzero\" fill-opacity=\"1\" /><path clip-path=\"url(#clip430)\" d=\"M55.8301 397.307 L63.4689 397.307 L63.4689 370.941 L55.1588 372.608 L55.1588 368.349 L63.4226 366.682 L68.0985 366.682 L68.0985 397.307 L75.7374 397.307 L75.7374 401.242 L55.8301 401.242 L55.8301 397.307 Z\" fill=\"#000000\" fill-rule=\"nonzero\" fill-opacity=\"1\" /><path clip-path=\"url(#clip430)\" d=\"M85.1818 395.363 L90.066 395.363 L90.066 401.242 L85.1818 401.242 L85.1818 395.363 Z\" fill=\"#000000\" fill-rule=\"nonzero\" fill-opacity=\"1\" /><path clip-path=\"url(#clip430)\" d=\"M104.279 397.307 L120.598 397.307 L120.598 401.242 L98.6539 401.242 L98.6539 397.307 Q101.316 394.552 105.899 389.923 Q110.506 385.27 111.686 383.927 Q113.932 381.404 114.811 379.668 Q115.714 377.909 115.714 376.219 Q115.714 373.465 113.77 371.728 Q111.848 369.992 108.746 369.992 Q106.547 369.992 104.094 370.756 Q101.663 371.52 98.8854 373.071 L98.8854 368.349 Q101.709 367.215 104.163 366.636 Q106.617 366.057 108.654 366.057 Q114.024 366.057 117.219 368.742 Q120.413 371.427 120.413 375.918 Q120.413 378.048 119.603 379.969 Q118.816 381.867 116.709 384.46 Q116.131 385.131 113.029 388.349 Q109.927 391.543 104.279 397.307 Z\" fill=\"#000000\" fill-rule=\"nonzero\" fill-opacity=\"1\" /><path clip-path=\"url(#clip430)\" d=\"M53.7467 206.171 L61.3856 206.171 L61.3856 179.806 L53.0754 181.472 L53.0754 177.213 L61.3393 175.546 L66.0152 175.546 L66.0152 206.171 L73.654 206.171 L73.654 210.106 L53.7467 210.106 L53.7467 206.171 Z\" fill=\"#000000\" fill-rule=\"nonzero\" fill-opacity=\"1\" /><path clip-path=\"url(#clip430)\" d=\"M83.0984 204.227 L87.9827 204.227 L87.9827 210.106 L83.0984 210.106 L83.0984 204.227 Z\" fill=\"#000000\" fill-rule=\"nonzero\" fill-opacity=\"1\" /><path clip-path=\"url(#clip430)\" d=\"M111.015 179.62 L99.2095 198.069 L111.015 198.069 L111.015 179.62 M109.788 175.546 L115.668 175.546 L115.668 198.069 L120.598 198.069 L120.598 201.958 L115.668 201.958 L115.668 210.106 L111.015 210.106 L111.015 201.958 L95.4132 201.958 L95.4132 197.444 L109.788 175.546 Z\" fill=\"#000000\" fill-rule=\"nonzero\" fill-opacity=\"1\" /><polyline clip-path=\"url(#clip432)\" style=\"stroke:#009af9; stroke-linecap:round; stroke-linejoin:round; stroke-width:4; stroke-opacity:1; fill:none\" points=\"218.754,155.632 220.828,87.9763 222.901,101.929 224.975,116.68 227.049,123.8 229.123,149.143 231.197,178.186 233.271,228.436 235.345,139.414 237.419,223.295 239.493,139.736 241.567,175.045 243.641,181.253 245.715,211.759 247.789,199.383 249.862,210.633 251.936,204.08 254.01,198.918 256.084,180.832 258.158,210.111 260.232,241.186 262.306,272.398 264.38,292.84 266.454,241.654 268.528,243.782 270.602,233.516 272.676,237.6 274.75,254.323 276.823,331.477 278.897,334.594 280.971,319.75 283.045,356.159 285.119,362.565 287.193,362.186 289.267,375.506 291.341,356.932 293.415,416.077 295.489,376.78 297.563,463.885 299.637,418.032 301.71,499.769 303.784,482.432 305.858,524.08 307.932,559.893 310.006,512.289 312.08,565.731 314.154,563.252 316.228,559.693 318.302,587.139 320.376,647.016 322.45,605.344 324.524,619.54 326.598,622.237 328.671,608.689 330.745,616.093 332.819,661.313 334.893,628.796 336.967,638.231 339.041,634.381 341.115,652.692 343.189,620.677 345.263,685.547 347.337,634.969 349.411,665.146 351.485,698.295 353.558,653.776 355.632,661.838 357.706,663.533 359.78,662.061 361.854,644.873 363.928,617.942 366.002,666.673 368.076,698.54 370.15,683.241 372.224,687.317 374.298,679.987 376.372,704.919 378.446,698.528 380.519,683.089 382.593,686.827 384.667,657.211 386.741,660.226 388.815,678.678 390.889,711.096 392.963,677.396 395.037,669.373 397.111,708.35 399.185,698.569 401.259,718.323 403.333,674.903 405.407,667.371 407.48,684.675 409.554,706.11 411.628,695.282 413.702,699.126 415.776,679.261 417.85,693.353 419.924,692.327 421.998,694.85 424.072,668.461 426.146,702.904 428.22,708.773 430.294,689.407 432.367,727.857 434.441,692.898 436.515,718.182 438.589,704.933 440.663,726.875 442.737,704.498 444.811,720.854 446.885,717.128 448.959,708.722 451.033,714.801 453.107,703.529 455.181,724.981 457.255,689.754 459.328,703.719 461.402,693.76 463.476,705.604 465.55,717.901 467.624,745.572 469.698,727.824 471.772,739.52 473.846,721.27 475.92,719.244 477.994,717.141 480.068,726.641 482.142,715.124 484.216,752.647 486.289,746.14 488.363,747.403 490.437,802.56 492.511,747.418 494.585,757.667 496.659,753.669 498.733,739.314 500.807,755.617 502.881,766.904 504.955,782.97 507.029,754.868 509.103,755.874 511.176,732.723 513.25,759.544 515.324,785.119 517.398,761.557 519.472,774.137 521.546,784.054 523.62,779.48 525.694,798.403 527.768,834.872 529.842,781.894 531.916,812.747 533.99,815.054 536.064,808.779 538.137,796.51 540.211,831.378 542.285,823.327 544.359,825.967 546.433,830.779 548.507,858.148 550.581,830.862 552.655,887.777 554.729,846.901 556.803,882.756 558.877,921.305 560.951,880.687 563.024,884.871 565.098,902.908 567.172,918.115 569.246,882.774 571.32,874.046 573.394,941.207 575.468,985.802 577.542,972.293 579.616,986.774 581.69,988.299 583.764,1027.67 585.838,1026.77 587.912,1016.34 589.985,1032.03 592.059,1009.64 594.133,1014.51 596.207,1049.22 598.281,1102.86 600.355,1076.58 602.429,1071.47 604.503,1117.9 606.577,1120.94 608.651,1156.13 610.725,1110.8 612.799,1123.77 614.873,1136.12 616.946,1171 619.02,1162.35 621.094,1175.63 623.168,1165.01 625.242,1188.45 627.316,1191.1 629.39,1195.89 631.464,1182.47 633.538,1203.46 635.612,1222.26 637.686,1209.73 639.76,1240.36 641.833,1216.03 643.907,1232.62 645.981,1223.59 648.055,1230.07 650.129,1235.34 652.203,1233.22 654.277,1246.71 656.351,1236.33 658.425,1244.6 660.499,1235.48 662.573,1250.27 664.647,1233.85 666.721,1242.3 668.794,1241.71 670.868,1254.64 672.942,1252.72 675.016,1258 677.09,1247.38 679.164,1255.08 681.238,1255.55 683.312,1256.49 685.386,1257.06 687.46,1261.7 689.534,1259.24 691.608,1258.41 693.681,1263.23 695.755,1263.17 697.829,1271.65 699.903,1265.05 701.977,1265.75 704.051,1258.56 706.125,1265.77 708.199,1258.1 710.273,1268.87 712.347,1260.17 714.421,1264.91 716.495,1255.07 718.569,1265.61 720.642,1258.11 722.716,1260.83 724.79,1261.69 726.864,1256.47 728.938,1269.21 731.012,1265.19 733.086,1267.04 735.16,1277.1 737.234,1271.11 739.308,1270.68 741.382,1268.47 743.456,1270 745.53,1271.89 747.603,1270.7 749.677,1272.44 751.751,1274.81 753.825,1257.34 755.899,1255.09 757.973,1279.73 760.047,1261.79 762.121,1261.57 764.195,1275.14 766.269,1274.48 768.343,1273.94 770.417,1270.43 772.49,1275.54 774.564,1268.84 776.638,1281.15 778.712,1278.69 780.786,1270.57 782.86,1279.97 784.934,1278.86 787.008,1267.54 789.082,1277.51 791.156,1262.94 793.23,1282.36 795.304,1272.47 797.378,1281.35 799.451,1274.45 801.525,1285.16 803.599,1288.93 805.673,1287.21 807.747,1275.08 809.821,1283.73 811.895,1274.59 813.969,1283.4 816.043,1278.5 818.117,1279.81 820.191,1280.53 822.265,1268.47 824.339,1274.66 826.412,1270.18 828.486,1284.54 830.56,1283.41 832.634,1272.94 834.708,1288.93 836.782,1291.17 838.856,1285.48 840.93,1270.47 843.004,1293.07 845.078,1290.25 847.152,1292.48 849.226,1279.87 851.299,1289.88 853.373,1270.97 855.447,1261.42 857.521,1290.62 859.595,1272.83 861.669,1296.88 863.743,1269.02 865.817,1292.47 867.891,1275.87 869.965,1294.77 872.039,1275.13 874.113,1280.24 876.187,1281.93 878.26,1308.17 880.334,1285.04 882.408,1279.95 884.482,1265.36 886.556,1281.38 888.63,1287.38 890.704,1291.75 892.778,1291.9 894.852,1298.58 896.926,1298.5 899,1276.53 901.074,1290.49 903.147,1288.81 905.221,1287.08 907.295,1294.25 909.369,1294.46 911.443,1280.17 913.517,1299.93 915.591,1277.54 917.665,1295.26 919.739,1276.55 921.813,1292.61 923.887,1274.79 925.961,1298.92 928.035,1280.49 930.108,1278.94 932.182,1284.46 934.256,1274.03 936.33,1295.7 938.404,1290.41 940.478,1290.17 942.552,1305.29 944.626,1301.54 946.7,1297.78 948.774,1291.86 950.848,1297.82 952.922,1303.03 954.996,1297.04 957.069,1300.35 959.143,1305.32 961.217,1272.19 963.291,1266.95 965.365,1314.39 967.439,1278.36 969.513,1282.44 971.587,1303 973.661,1299.19 975.735,1303.8 977.809,1295.7 979.883,1305.63 981.956,1293.18 984.03,1312.49 986.104,1311.59 988.178,1297.89 990.252,1310.46 992.326,1309.02 994.4,1291.06 996.474,1308.49 998.548,1283.5 1000.62,1313.78 1002.7,1297.92 1004.77,1311.76 1006.84,1303 1008.92,1320.89 1010.99,1326.47 1013.07,1321.62 1015.14,1302.91 1017.21,1317.8 1019.29,1300.32 1021.36,1314.24 1023.43,1308.57 1025.51,1312.79 1027.58,1312.66 1029.66,1292.8 1031.73,1303.02 1033.8,1295.75 1035.88,1315.4 1037.95,1315.67 1040.03,1301.81 1042.1,1324 1044.17,1327.42 1046.25,1319.63 1048.32,1296.83 1050.4,1330.55 1052.47,1328.24 1054.54,1329.87 1056.62,1312.84 1058.69,1324.86 1060.77,1297.98 1062.84,1284.51 1064.91,1329.26 1066.99,1301.49 1069.06,1334.38 1071.14,1300.76 1073.21,1329.41 1075.28,1308.27 1077.36,1333.54 1079.43,1307.51 1081.5,1311.02 1083.58,1316.14 1085.65,1349.48 1087.73,1319.14 1089.8,1313.36 1091.87,1295.41 1093.95,1315.39 1096.02,1325.69 1098.1,1329.23 1100.17,1331.71 1102.24,1337.98 1104.32,1338.3 1106.39,1313.66 1108.47,1327.76 1110.54,1330.74 1112.61,1329.67 1114.69,1335.57 1116.76,1335.13 1118.84,1320.72 1120.91,1340.16 1122.98,1312.25 1125.06,1340.55 1127.13,1319.06 1129.2,1335.24 1131.28,1314.06 1133.35,1340.37 1135.43,1323.47 1137.5,1318.35 1139.57,1327.91 1141.65,1318.85 1143.72,1340.12 1145.8,1336.53 1147.87,1335.1 1149.94,1352.51 1152.02,1350.02 1154.09,1349.76 1156.17,1342.67 1158.24,1349.97 1160.31,1353.9 1162.39,1348.53 1164.46,1353.34 1166.54,1360.22 1168.61,1323.36 1170.68,1320 1172.76,1370.06 1174.83,1331.09 1176.91,1341.37 1178.98,1364.92 1181.05,1355.84 1183.13,1360.8 1185.2,1356.4 1187.27,1370.76 1189.35,1361.22 1191.42,1374.02 1193.5,1373.26 1195.57,1363.1 1197.64,1370.97 1199.72,1375.56 1201.79,1356.93 1203.87,1371.05 1205.94,1356.43 1208.01,1376.41 1210.09,1366.78 1212.16,1378.36 1214.24,1366.66 1216.31,1384.34 1218.38,1394.03 1220.46,1389.09 1222.53,1372.95 1224.61,1379.96 1226.68,1366.33 1228.75,1375.89 1230.83,1379.92 1232.9,1380.17 1234.97,1378.94 1237.05,1364.79 1239.12,1377.35 1241.2,1370.55 1243.27,1376.73 1245.34,1387.92 1247.42,1378.81 1249.49,1391.52 1251.57,1384.39 1253.64,1385.8 1255.71,1369.61 1257.79,1393.94 1259.86,1399.08 1261.94,1401.06 1264.01,1390.16 1266.08,1389.62 1268.16,1374.81 1270.23,1363.65 1272.31,1393.82 1274.38,1375.4 1276.45,1397.56 1278.53,1379.69 1280.6,1397.38 1282.68,1380.59 1284.75,1393.88 1286.82,1379.56 1288.9,1375.05 1290.97,1383.54 1293.04,1401.48 1295.12,1381.6 1297.19,1375.6 1299.27,1375.3 1301.34,1384.93 1303.41,1396.45 1305.49,1384.7 1307.56,1391.05 1309.64,1395.55 1311.71,1395.27 1313.78,1395.64 1315.86,1392.74 1317.93,1391.97 1320.01,1402.31 1322.08,1404.83 1324.15,1390.43 1326.23,1382.08 1328.3,1381.22 1330.38,1375.92 1332.45,1397.21 1334.52,1388.28 1336.6,1391.35 1338.67,1381.57 1340.74,1397.02 1342.82,1386.67 1344.89,1375.41 1346.97,1378.95 1349.04,1383.08 1351.11,1388.85 1353.19,1384.13 1355.26,1388.98 1357.34,1405.45 1359.41,1399.38 1361.48,1407.94 1363.56,1396.56 1365.63,1400.08 1367.71,1405.7 1369.78,1395.04 1371.85,1403.09 1373.93,1397.34 1376,1378.5 1378.08,1366.04 1380.15,1377.38 1382.22,1377.11 1384.3,1371.34 1386.37,1388.02 1388.44,1385.97 1390.52,1385.66 1392.59,1381.33 1394.67,1386.24 1396.74,1382.35 1398.81,1384.31 1400.89,1391.26 1402.96,1387.8 1405.04,1405.09 1407.11,1406.26 1409.18,1386.27 1411.26,1399.91 1413.33,1382.25 1415.41,1398.39 1417.48,1383.08 1419.55,1403.18 1421.63,1394.08 1423.7,1411.89 1425.78,1419.16 1427.85,1409.62 1429.92,1400.54 1432,1404.04 1434.07,1390.31 1436.15,1389.44 1438.22,1402.02 1440.29,1406.28 1442.37,1406.04 1444.44,1386.11 1446.51,1401.79 1448.59,1390.62 1450.66,1394.11 1452.74,1400 1454.81,1401.19 1456.88,1407.23 1458.96,1403.23 1461.03,1401.94 1463.11,1390.33 1465.18,1396.8 1467.25,1412.32 1469.33,1415.09 1471.4,1407.49 1473.48,1403.77 1475.55,1393.77 1477.62,1380.97 1479.7,1415.07 1481.77,1388.31 1483.85,1417.13 1485.92,1396.5 1487.99,1415.63 1490.07,1405.81 1492.14,1403.78 1494.21,1398.61 1496.29,1391.42 1498.36,1399.13 1500.44,1419.55 1502.51,1403.87 1504.58,1392.9 1506.66,1391.58 1508.73,1401.77 1510.81,1407.19 1512.88,1396.68 1514.95,1401.55 1517.03,1402.23 1519.1,1401.85 1521.18,1413.45 1523.25,1406.56 1525.32,1410.39 1527.4,1416.52 1529.47,1414.91 1531.55,1405.07 1533.62,1403.21 1535.69,1395.27 1537.77,1394.62 1539.84,1405.65 1541.92,1406.34 1543.99,1406.51 1546.06,1398.15 1548.14,1408.99 1550.21,1399.76 1552.28,1392.9 1554.36,1394.45 1556.43,1399.24 1558.51,1398.47 1560.58,1390.25 1562.65,1393.51 1564.73,1410.11 1566.8,1403.35 1568.88,1413.39 1570.95,1401.92 1573.02,1404.6 1575.1,1411.89 1577.17,1413.59 1579.25,1415.95 1581.32,1414.56 1583.39,1393.2 1585.47,1389.36 1587.54,1404.27 1589.62,1399.8 1591.69,1399.06 1593.76,1413.22 1595.84,1411.39 1597.91,1408.14 1599.98,1401.13 1602.06,1402.32 1604.13,1398.81 1606.21,1397 1608.28,1404.98 1610.35,1401.91 1612.43,1414.31 1614.5,1419.24 1616.58,1401.46 1618.65,1413.16 1620.72,1403.2 1622.8,1407.48 1624.87,1406.94 1626.95,1414.33 1629.02,1406.48 1631.09,1421.22 1633.17,1427.53 1635.24,1418.11 1637.32,1411.39 1639.39,1415.82 1641.46,1395.7 1643.54,1399.14 1645.61,1415.01 1647.69,1415.91 1649.76,1413.48 1651.83,1397.76 1653.91,1412.19 1655.98,1406.16 1658.05,1402.91 1660.13,1414.66 1662.2,1410.02 1664.28,1415.5 1666.35,1410 1668.42,1411.73 1670.5,1403.42 1672.57,1407.34 1674.65,1418.63 1676.72,1422.83 1678.79,1415.14 1680.87,1409.67 1682.94,1404.71 1685.02,1394.87 1687.09,1421.93 1689.16,1403.79 1691.24,1421.2 1693.31,1406.57 1695.39,1424.4 1697.46,1418.71 1699.53,1411.67 1701.61,1410.89 1703.68,1394.82 1705.75,1409.54 1707.83,1428.55 1709.9,1413.79 1711.98,1400.71 1714.05,1402.99 1716.12,1411.47 1718.2,1412.78 1720.27,1402.07 1722.35,1409.59 1724.42,1409.25 1726.49,1407.38 1728.57,1424.66 1730.64,1415.73 1732.72,1418.56 1734.79,1423.48 1736.86,1423.25 1738.94,1412.45 1741.01,1413.61 1743.09,1401.78 1745.16,1406.26 1747.23,1410.55 1749.31,1416.67 1751.38,1414.3 1753.46,1409.1 1755.53,1417.12 1757.6,1409.1 1759.68,1403.36 1761.75,1403.68 1763.82,1410.22 1765.9,1406.11 1767.97,1396.79 1770.05,1407.92 1772.12,1424.43 1774.19,1417.55 1776.27,1425.11 1778.34,1413.94 1780.42,1412.14 1782.49,1423 1784.56,1423.98 1786.64,1423.83 1788.71,1422.13 1790.79,1408.37 1792.86,1403.79 1794.93,1411.87 1797.01,1412.34 1799.08,1409.43 1801.16,1421.37 1803.23,1423.42 1805.3,1420.83 1807.38,1410.47 1809.45,1410.91 1811.52,1409.68 1813.6,1407.85 1815.67,1414.19 1817.75,1410.8 1819.82,1420.85 1821.89,1427.13 1823.97,1412.48 1826.04,1422.09 1828.12,1416.75 1830.19,1415.32 1832.26,1419.64 1834.34,1425.08 1836.41,1415.59 1838.49,1427.55 1840.56,1433.74 1842.63,1424.95 1844.71,1417.09 1846.78,1424.14 1848.86,1402.21 1850.93,1404.92 1853,1423.81 1855.08,1424.38 1857.15,1420.82 1859.22,1407.35 1861.3,1420.26 1863.37,1416.41 1865.45,1409.44 1867.52,1422.45 1869.59,1416.64 1871.67,1421.94 1873.74,1417.03 1875.82,1415.72 1877.89,1412.18 1879.96,1414.85 1882.04,1424.55 1884.11,1429.17 1886.19,1422.1 1888.26,1416.74 1890.33,1413.73 1892.41,1405.82 1894.48,1428.62 1896.56,1413.43 1898.63,1428.67 1900.7,1415.04 1902.78,1432.14 1904.85,1428.75 1906.93,1418.52 1909,1420.97 1911.07,1403.01 1913.15,1417.97 1915.22,1435.55 1917.29,1421.93 1919.37,1408.65 1921.44,1413.81 1923.52,1420.59 1925.59,1419.43 1927.66,1408.2 1929.74,1416.6 1931.81,1416.05 1933.89,1412.72 1935.96,1434.13 1938.03,1423.54 1940.11,1425.96 1942.18,1429.77 1944.26,1430.96 1946.33,1419.69 1948.4,1422.87 1950.48,1408.51 1952.55,1416.16 1954.63,1416.19 1956.7,1425.96 1958.77,1421.2 1960.85,1418.15 1962.92,1425.91 1964.99,1417.16 1967.07,1412.17 1969.14,1411.64 1971.22,1418.41 1973.29,1413.8 1975.36,1404.15 1977.44,1418.37 1979.51,1431.27 1981.59,1424.59 1983.66,1432.76 1985.73,1421.44 1987.81,1419.13 1989.88,1430.38 1991.96,1432.91 1994.03,1431.11 1996.1,1428.73 1998.18,1417.62 2000.25,1414 2002.33,1419.02 2004.4,1422.02 2006.47,1418.39 2008.55,1429.85 2010.62,1432.01 2012.7,1427.64 2014.77,1420.02 2016.84,1416.75 2018.92,1416.55 2020.99,1414.79 2023.06,1422.07 2025.14,1418.25 2027.21,1428.49 2029.29,1434.74 2031.36,1421.83 2033.43,1429.93 2035.51,1425.21 2037.58,1421.34 2039.66,1428.29 2041.73,1432.16 2043.8,1425.05 2045.88,1433.62 2047.95,1439.52 2050.03,1431.44 2052.1,1424.9 2054.17,1431.73 2056.25,1410.18 2058.32,1410.78 2060.4,1431.39 2062.47,1432.92 2064.54,1428.24 2066.62,1417.05 2068.69,1427.82 2070.76,1425.85 2072.84,1417.59 2074.91,1430.29 2076.99,1423.36 2079.06,1429.16 2081.13,1424.71 2083.21,1422.5 2085.28,1420.99 2087.36,1421.29 2089.43,1430.87 2091.5,1435.46 2093.58,1429.66 2095.65,1424.52 2097.73,1421.95 2099.8,1415.93 2101.87,1434.6 2103.95,1423.05 2106.02,1436.68 2108.1,1423.16 2110.17,1439.61 2112.24,1437.87 2114.32,1425.67 2116.39,1430.34 2118.47,1412.19 2120.54,1425.61 2122.61,1442.93 2124.69,1429.33 2126.76,1416.39 2128.83,1423.71 2130.91,1429.36 2132.98,1427.82 2135.06,1415.34 2137.13,1423.87 2139.2,1423.62 2141.28,1419.51 2143.35,1443.41 2145.43,1431.52 2147.5,1433.27 2149.57,1435.79 2151.65,1438.81 2153.72,1427.29 2155.8,1432.29 2157.87,1415.37 2159.94,1425.53 2162.02,1422.81 2164.09,1435.19 2166.17,1428.21 2168.24,1426.6 2170.31,1435.17 2172.39,1424.8 2174.46,1420.85 2176.53,1419.23 2178.61,1425.99 2180.68,1421.89 2182.76,1411.85 2184.83,1428.72 2186.9,1437.72 2188.98,1431.94 2191.05,1440.9 2193.13,1428.79 2195.2,1426.32 2197.27,1437.87 2199.35,1441.82 2201.42,1438.81 2203.5,1435.5 2205.57,1426.42 2207.64,1423.82 2209.72,1425.89 2211.79,1431.59 2213.87,1427.06 2215.94,1437.79 2218.01,1440.54 2220.09,1434.99 2222.16,1429.36 2224.24,1423.65 2226.31,1423.03 2228.38,1421.24 2230.46,1429.76 2232.53,1425.79 2234.6,1436.37 2236.68,1442.19 2238.75,1430.7 2240.83,1437.26 2242.9,1433.08 2244.97,1427.67 2247.05,1436.77 2249.12,1439.09 2251.2,1434.52 2253.27,1439.52 2255.34,1445.72 2257.42,1438.22 2259.49,1433.76 2261.57,1439.05 2263.64,1421.58 2265.71,1417.92 2267.79,1438.15 2269.86,1440.53 2271.94,1434.71 2274.01,1426.38 2276.08,1434.62 2278.16,1434.45 2280.23,1426.96 2282.3,1438.45 2284.38,1429.66 2286.45,1436.47 2288.53,1432.1 2290.6,1430.1 \"/>\n",
       "<path clip-path=\"url(#clip430)\" d=\"M2007.5 198.898 L2279.55 198.898 L2279.55 95.2176 L2007.5 95.2176  Z\" fill=\"#ffffff\" fill-rule=\"evenodd\" fill-opacity=\"1\"/>\n",
       "<polyline clip-path=\"url(#clip430)\" style=\"stroke:#000000; stroke-linecap:round; stroke-linejoin:round; stroke-width:4; stroke-opacity:1; fill:none\" points=\"2007.5,198.898 2279.55,198.898 2279.55,95.2176 2007.5,95.2176 2007.5,198.898 \"/>\n",
       "<polyline clip-path=\"url(#clip430)\" style=\"stroke:#009af9; stroke-linecap:round; stroke-linejoin:round; stroke-width:4; stroke-opacity:1; fill:none\" points=\"2031.91,147.058 2178.32,147.058 \"/>\n",
       "<path clip-path=\"url(#clip430)\" d=\"M2216.56 166.745 Q2214.76 171.375 2213.04 172.787 Q2211.33 174.199 2208.46 174.199 L2205.06 174.199 L2205.06 170.634 L2207.56 170.634 Q2209.32 170.634 2210.29 169.8 Q2211.26 168.967 2212.44 165.865 L2213.2 163.921 L2202.72 138.412 L2207.23 138.412 L2215.33 158.689 L2223.44 138.412 L2227.95 138.412 L2216.56 166.745 Z\" fill=\"#000000\" fill-rule=\"nonzero\" fill-opacity=\"1\" /><path clip-path=\"url(#clip430)\" d=\"M2235.24 160.402 L2242.88 160.402 L2242.88 134.037 L2234.57 135.703 L2234.57 131.444 L2242.83 129.778 L2247.51 129.778 L2247.51 160.402 L2255.15 160.402 L2255.15 164.338 L2235.24 164.338 L2235.24 160.402 Z\" fill=\"#000000\" fill-rule=\"nonzero\" fill-opacity=\"1\" /></svg>\n"
      ]
     },
     "metadata": {},
     "output_type": "display_data"
    }
   ],
   "source": [
    "plot(losses)"
   ]
  },
  {
   "cell_type": "code",
   "execution_count": null,
   "metadata": {},
   "outputs": [
    {
     "data": {
      "text/plain": [
       "(0.09899020936212574, 0.952734375)"
      ]
     },
     "metadata": {},
     "output_type": "display_data"
    }
   ],
   "source": [
    "loss_and_accuracy(test_loader, model, ps_train, st_train)"
   ]
  },
  {
   "cell_type": "code",
   "execution_count": null,
   "metadata": {},
   "outputs": [],
   "source": []
  }
 ],
 "metadata": {
  "kernelspec": {
   "display_name": "Julia 1.10.3",
   "language": "julia",
   "name": "julia-1.10"
  },
  "language_info": {
   "file_extension": ".jl",
   "mimetype": "application/julia",
   "name": "julia",
   "version": "1.10.3"
  }
 },
 "nbformat": 4,
 "nbformat_minor": 2
}
