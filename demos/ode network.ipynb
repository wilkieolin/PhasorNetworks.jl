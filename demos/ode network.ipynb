version https://git-lfs.github.com/spec/v1
oid sha256:ed1293ef31a6f857d5188ef3c8e56ceb376e0ba55a9d038488bdaa8566580ee8
size 8484795
