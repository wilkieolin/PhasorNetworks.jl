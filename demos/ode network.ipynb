version https://git-lfs.github.com/spec/v1
oid sha256:a59c706ed489825d883f47c59863112c9c205a579389f11e27dc65afb141a496
size 8340778
