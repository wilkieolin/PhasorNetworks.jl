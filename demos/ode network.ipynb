version https://git-lfs.github.com/spec/v1
oid sha256:0895c02c7a331bc658c77efaef8e05c272bc46bd3e3431875607c17c1ec67cd4
size 5058133
