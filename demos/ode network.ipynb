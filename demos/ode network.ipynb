version https://git-lfs.github.com/spec/v1
oid sha256:6704b803c3ac0b0f3fef278f5a0ce31012aa06ebedb7bbe561613f6ef4c912d0
size 3827088
