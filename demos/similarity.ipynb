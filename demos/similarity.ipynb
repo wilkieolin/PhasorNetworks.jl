{
 "cells": [
  {
   "cell_type": "code",
   "execution_count": 1,
   "metadata": {},
   "outputs": [],
   "source": [
    "include(\"../src/PhasorNetworks.jl\")\n",
    "using .PhasorNetworks, Plots"
   ]
  },
  {
   "cell_type": "code",
   "execution_count": 2,
   "metadata": {},
   "outputs": [],
   "source": [
    "using Lux, MLUtils, MLDatasets, OneHotArrays, Statistics, Test\n",
    "using Random: Xoshiro, AbstractRNG\n",
    "using Base: @kwdef\n",
    "using Zygote: withgradient\n",
    "using LuxDeviceUtils: cpu_device, gpu_device\n",
    "using Optimisers, ComponentArrays\n",
    "using Statistics: mean\n",
    "using LinearAlgebra: diag\n",
    "using Distributions: Normal\n",
    "using DifferentialEquations: Heun, Tsit5"
   ]
  },
  {
   "cell_type": "code",
   "execution_count": 3,
   "metadata": {},
   "outputs": [
    {
     "name": "stderr",
     "output_type": "stream",
     "text": [
      "\u001b[36m\u001b[1m[ \u001b[22m\u001b[39m\u001b[36m\u001b[1mInfo: \u001b[22m\u001b[39mRunning similarity test...\n"
     ]
    },
    {
     "data": {
      "text/plain": [
       "check_phase (generic function with 1 method)"
      ]
     },
     "execution_count": 3,
     "metadata": {},
     "output_type": "execute_result"
    }
   ],
   "source": [
    "@info \"Running similarity test...\"\n",
    "function check_phase(matrix)\n",
    "    in_phase = diag(matrix)\n",
    "    anti_phase = diag(matrix, convert(Int, round(n_x / 2)))\n",
    "\n",
    "    v1 = reduce(*, map(x -> x > 1.0 - epsilon, in_phase))\n",
    "    v2 = reduce(*, map(x -> x < -1.0 + epsilon, anti_phase))\n",
    "    return v1, v2\n",
    "end"
   ]
  },
  {
   "cell_type": "code",
   "execution_count": 4,
   "metadata": {},
   "outputs": [],
   "source": [
    "using DifferentialEquations"
   ]
  },
  {
   "cell_type": "code",
   "execution_count": 5,
   "metadata": {},
   "outputs": [
    {
     "data": {
      "text/plain": [
       "1001-element Vector{Float64}:\n",
       "  0.0\n",
       "  0.01\n",
       "  0.02\n",
       "  0.03\n",
       "  0.04\n",
       "  0.05\n",
       "  0.06\n",
       "  0.07\n",
       "  0.08\n",
       "  0.09\n",
       "  0.1\n",
       "  0.11\n",
       "  0.12\n",
       "  ⋮\n",
       "  9.89\n",
       "  9.9\n",
       "  9.91\n",
       "  9.92\n",
       "  9.93\n",
       "  9.94\n",
       "  9.95\n",
       "  9.96\n",
       "  9.97\n",
       "  9.98\n",
       "  9.99\n",
       " 10.0"
      ]
     },
     "execution_count": 5,
     "metadata": {},
     "output_type": "execute_result"
    }
   ],
   "source": [
    "n_x = 101\n",
    "n_y = 101\n",
    "n_vsa = 1\n",
    "epsilon = 0.10\n",
    "repeats = 10\n",
    "epsilon = 0.025\n",
    "solver_args = Dict(:adaptive => true, :abstol => 1e-6, :reltol => 1e-6)\n",
    "spk_args = SpikingArgs(t_window = 0.01, \n",
    "                    threshold = 0.001,\n",
    "                    solver=Tsit5(), \n",
    "                    solver_args = solver_args)\n",
    "tspan = (0.0, repeats*1.0)\n",
    "tbase = collect(tspan[1]:spk_args.dt:tspan[2])"
   ]
  },
  {
   "cell_type": "code",
   "execution_count": 6,
   "metadata": {},
   "outputs": [
    {
     "data": {
      "text/plain": [
       "(true, true)"
      ]
     },
     "execution_count": 6,
     "metadata": {},
     "output_type": "execute_result"
    }
   ],
   "source": [
    "phase_x = reshape(range(-1.0, 1.0, n_x), (1, n_x, n_vsa)) |> collect\n",
    "phase_y = reshape(range(-1.0, 1.0, n_y), (1, n_y, n_vsa)) |> collect\n",
    "sims = similarity_outer(phase_x, phase_y, dims= 2, reduce_dim=1)[1,1,:,:]\n",
    "v1, v2 = check_phase(sims)"
   ]
  },
  {
   "cell_type": "code",
   "execution_count": 7,
   "metadata": {},
   "outputs": [
    {
     "ename": "LoadError",
     "evalue": "DimensionMismatch: arrays could not be broadcast to a common size; got a dimension with lengths 10 and 1010",
     "output_type": "error",
     "traceback": [
      "DimensionMismatch: arrays could not be broadcast to a common size; got a dimension with lengths 10 and 1010",
      "",
      "Stacktrace:",
      " [1] _bcs1",
      "   @ ./broadcast.jl:555 [inlined]",
      " [2] _bcs",
      "   @ ./broadcast.jl:549 [inlined]",
      " [3] broadcast_shape",
      "   @ ./broadcast.jl:543 [inlined]",
      " [4] combine_axes",
      "   @ ./broadcast.jl:524 [inlined]",
      " [5] instantiate",
      "   @ ./broadcast.jl:306 [inlined]",
      " [6] materialize(bc::Base.Broadcast.Broadcasted{Base.Broadcast.DefaultArrayStyle{3}, Nothing, typeof(+), Tuple{Array{Float64, 3}, Vector{Int64}}})",
      "   @ Base.Broadcast ./broadcast.jl:903",
      " [7] phase_to_train(phases::Array{Float64, 3}; spk_args::SpikingArgs, repeats::Int64, offset::Float64)",
      "   @ Main.PhasorNetworks ~/.julia/dev/PhasorNetworks/src/domains.jl:114",
      " [8] top-level scope",
      "   @ In[7]:1"
     ]
    }
   ],
   "source": [
    "st_x = phase_to_train(phase_x, spk_args = spk_args, repeats = repeats)\n",
    "st_y = phase_to_train(phase_y, spk_args = spk_args, repeats = repeats)\n",
    "sims_2 = stack(similarity_outer(st_x, st_y, dims=2, reduce_dim=3, tspan=tspan, spk_args = spk_args));"
   ]
  },
  {
   "cell_type": "code",
   "execution_count": null,
   "metadata": {},
   "outputs": [],
   "source": []
  }
 ],
 "metadata": {
  "kernelspec": {
   "display_name": "Julia 1.10.3",
   "language": "julia",
   "name": "julia-1.10"
  },
  "language_info": {
   "file_extension": ".jl",
   "mimetype": "application/julia",
   "name": "julia",
   "version": "1.10.3"
  }
 },
 "nbformat": 4,
 "nbformat_minor": 2
}
