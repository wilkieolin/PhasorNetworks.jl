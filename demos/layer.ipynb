version https://git-lfs.github.com/spec/v1
oid sha256:3fa833e30f2ad0fdadc97326ffca05c1669b331d5d060d94dec37baa54c3b320
size 3446234
