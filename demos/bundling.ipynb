version https://git-lfs.github.com/spec/v1
oid sha256:2ccc2d249ea43b069a2e6e7bd2e3a174de190a18fd39230853be1ef2cadb1566
size 465385
