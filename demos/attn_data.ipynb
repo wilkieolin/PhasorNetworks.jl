{
 "cells": [
  {
   "cell_type": "code",
   "execution_count": 2,
   "metadata": {},
   "outputs": [],
   "source": [
    "import Random: Xoshiro, AbstractRNG"
   ]
  },
  {
   "cell_type": "code",
   "execution_count": 11,
   "metadata": {},
   "outputs": [
    {
     "data": {
      "text/plain": [
       "Xoshiro(0xa379de7eeeb2a4e8, 0x953dccb6b532b3af, 0xf597b8ff8cfd652a, 0xccd7337c571680d1, 0xc90c4a0730db3f7e)"
      ]
     },
     "execution_count": 11,
     "metadata": {},
     "output_type": "execute_result"
    }
   ],
   "source": [
    "rng = Xoshiro(42)"
   ]
  },
  {
   "cell_type": "code",
   "execution_count": 14,
   "metadata": {},
   "outputs": [
    {
     "data": {
      "text/plain": [
       "generate_copy_dataset (generic function with 1 method)"
      ]
     },
     "execution_count": 14,
     "metadata": {},
     "output_type": "execute_result"
    }
   ],
   "source": [
    "function generate_copy_dataset(rng::AbstractRNG; num_samples::Int=1000, max_length::Int=50, vocab_size::Int=100)\n",
    "    dataset = []\n",
    "    for _ in 1:num_samples\n",
    "        length = rand(rng, 5:max_length)\n",
    "        sequence = [rand(1:vocab_size) for _ in 1:length]\n",
    "        push!(dataset, (sequence, sequence))  # Input and target identical\n",
    "    end\n",
    "    return dataset\n",
    "end"
   ]
  },
  {
   "cell_type": "code",
   "execution_count": 15,
   "metadata": {},
   "outputs": [],
   "source": [
    "copy_data = generate_copy_dataset(rng);"
   ]
  },
  {
   "cell_type": "code",
   "execution_count": null,
   "metadata": {},
   "outputs": [
    {
     "data": {
      "text/plain": [
       "generate_reversal_dataset (generic function with 1 method)"
      ]
     },
     "metadata": {},
     "output_type": "display_data"
    }
   ],
   "source": [
    "function generate_reversal_dataset(rng::AbstractRNG; num_samples=1000, max_length=50, vocab_size=100)\n",
    "    dataset = []\n",
    "    for _ in 1:num_samples\n",
    "        length = rand(rng, 5:max_length)\n",
    "        sequence = [rand(rng, 1:vocab_size) for _ in 1:length]\n",
    "        reversed_sequence = reverse(sequence)\n",
    "        push!(dataset, (sequence, reversed_sequence))\n",
    "    end\n",
    "    return dataset\n",
    "end"
   ]
  },
  {
   "cell_type": "code",
   "execution_count": null,
   "metadata": {},
   "outputs": [],
   "source": [
    "reversal_data = generate_reversal_dataset(rng);"
   ]
  },
  {
   "cell_type": "code",
   "execution_count": 25,
   "metadata": {},
   "outputs": [
    {
     "data": {
      "text/plain": [
       "generate_retrieval_dataset (generic function with 1 method)"
      ]
     },
     "execution_count": 25,
     "metadata": {},
     "output_type": "execute_result"
    }
   ],
   "source": [
    "function generate_retrieval_dataset(rng::AbstractRNG; num_samples=1000, context_length=100, vocab_size=100, special_token=999)\n",
    "    dataset = []\n",
    "    for _ in 1:num_samples\n",
    "        haystack = [rand(rng, 1:vocab_size) for _ in 1:context_length-1]\n",
    "        needle_position = rand(rng, 1:context_length-1)\n",
    "        needle_value = rand(rng, 1:vocab_size)\n",
    "        insert!(haystack, needle_position, needle_value)\n",
    "        query = vcat(special_token, needle_position)\n",
    "        target = [haystack[needle_position]]\n",
    "        push!(dataset, (vcat(haystack, query), target))\n",
    "    end\n",
    "    return dataset\n",
    "end"
   ]
  },
  {
   "cell_type": "code",
   "execution_count": 26,
   "metadata": {},
   "outputs": [],
   "source": [
    "needle_data = generate_retrieval_dataset(rng);"
   ]
  },
  {
   "cell_type": "code",
   "execution_count": 28,
   "metadata": {},
   "outputs": [
    {
     "data": {
      "text/plain": [
       "([38, 83, 93, 54, 31, 94, 59, 43, 11, 11  …  61, 41, 82, 92, 25, 56, 27, 40, 999, 32], [22])"
      ]
     },
     "execution_count": 28,
     "metadata": {},
     "output_type": "execute_result"
    }
   ],
   "source": [
    "needle_data[1]"
   ]
  },
  {
   "cell_type": "code",
   "execution_count": 32,
   "metadata": {},
   "outputs": [
    {
     "data": {
      "text/plain": [
       "22"
      ]
     },
     "execution_count": 32,
     "metadata": {},
     "output_type": "execute_result"
    }
   ],
   "source": [
    "needle_data[1][1][32]"
   ]
  },
  {
   "cell_type": "code",
   "execution_count": 36,
   "metadata": {},
   "outputs": [
    {
     "data": {
      "text/plain": [
       "generate_sorting_dataset (generic function with 1 method)"
      ]
     },
     "execution_count": 36,
     "metadata": {},
     "output_type": "execute_result"
    }
   ],
   "source": [
    "function generate_sorting_dataset(rng::AbstractRNG; num_samples=1000, max_length=20, vocab_size=100)\n",
    "    dataset = []\n",
    "    for _ in 1:num_samples\n",
    "        length = rand(rng, 5:max_length)\n",
    "        sequence = [rand(rng, 1:vocab_size) for _ in 1:length]\n",
    "        sorted_sequence = sort(sequence)\n",
    "        push!(dataset, (sequence, sorted_sequence))\n",
    "    end\n",
    "    return dataset\n",
    "end"
   ]
  },
  {
   "cell_type": "code",
   "execution_count": 38,
   "metadata": {},
   "outputs": [],
   "source": [
    "sorting_data = generate_sorting_dataset(rng);"
   ]
  },
  {
   "cell_type": "code",
   "execution_count": null,
   "metadata": {},
   "outputs": [],
   "source": []
  },
  {
   "cell_type": "code",
   "execution_count": 39,
   "metadata": {},
   "outputs": [
    {
     "data": {
      "text/plain": [
       "generate_pattern_dataset (generic function with 2 methods)"
      ]
     },
     "execution_count": 39,
     "metadata": {},
     "output_type": "execute_result"
    }
   ],
   "source": [
    "function generate_pattern_dataset(rng::AbstractRNG; num_samples::Int=1000, pattern_length::Int=3, vocab_size::Int=100, special_token::Int=999)\n",
    "    dataset = []\n",
    "    for _ in 1:num_samples\n",
    "        context_length = rand(20:50)\n",
    "        context = [rand(rng, 1:vocab_size) for _ in 1:context_length]\n",
    "        pattern = [rand(rng, 1:vocab_size) for _ in 1:pattern_length]\n",
    "        # Insert pattern at random position\n",
    "        insert_pos = rand(rng, 1:context_length - pattern_length + 1)\n",
    "        context[insert_pos:insert_pos+pattern_length-1] = pattern\n",
    "        push!(dataset, (vcat(context, special_token, pattern[1:end-1]), [pattern[end]]))\n",
    "    end\n",
    "    return dataset\n",
    "end"
   ]
  },
  {
   "cell_type": "code",
   "execution_count": 41,
   "metadata": {},
   "outputs": [],
   "source": [
    "pattern_data = generate_pattern_dataset(rng);"
   ]
  },
  {
   "cell_type": "code",
   "execution_count": 42,
   "metadata": {},
   "outputs": [
    {
     "data": {
      "text/plain": [
       "([77, 15, 31, 90, 19, 19, 97, 1, 13, 66  …  19, 91, 25, 65, 90, 92, 8, 999, 97, 1], [13])"
      ]
     },
     "execution_count": 42,
     "metadata": {},
     "output_type": "execute_result"
    }
   ],
   "source": [
    "pattern_data[1]"
   ]
  },
  {
   "cell_type": "code",
   "execution_count": 9,
   "metadata": {},
   "outputs": [
    {
     "data": {
      "text/plain": [
       "generate_depth_dataset (generic function with 1 method)"
      ]
     },
     "execution_count": 9,
     "metadata": {},
     "output_type": "execute_result"
    }
   ],
   "source": [
    "function generate_depth_dataset(rng::AbstractRNG; num_samples::Int=1000, max_length::Int=50, vocab_size::Int=100)\n",
    "    dataset = []\n",
    "    for _ in 1:num_samples\n",
    "        length = rand(5:max_length)\n",
    "        sequence = [rand(0:vocab_size-1) for _ in 1:length]\n",
    "        depth_values = [rand() for _ in 1:length]\n",
    "        # Assign higher depth values to important tokens\n",
    "        important_indices = shuffle(1:length)[1:div(length,3)]\n",
    "        for idx in important_indices\n",
    "            depth_values[idx] += 2.0\n",
    "        end\n",
    "        target = [sequence[i] for i in important_indices]\n",
    "        push!(dataset, ((sequence, depth_values), target))\n",
    "    end\n",
    "    return dataset\n",
    "end"
   ]
  },
  {
   "cell_type": "code",
   "execution_count": null,
   "metadata": {},
   "outputs": [],
   "source": []
  }
 ],
 "metadata": {
  "kernelspec": {
   "display_name": "Julia 1.11.4",
   "language": "julia",
   "name": "julia-1.11"
  },
  "language_info": {
   "file_extension": ".jl",
   "mimetype": "application/julia",
   "name": "julia",
   "version": "1.11.4"
  }
 },
 "nbformat": 4,
 "nbformat_minor": 2
}
