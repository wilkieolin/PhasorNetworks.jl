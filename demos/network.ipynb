version https://git-lfs.github.com/spec/v1
oid sha256:86ca0a13531ebb656ca66db879357eea24434a31d0cb74f5d81f67386b11b469
size 722690
