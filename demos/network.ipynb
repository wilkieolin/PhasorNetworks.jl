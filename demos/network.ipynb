version https://git-lfs.github.com/spec/v1
oid sha256:10142571794dd292af2e0d679bae3f4819ecbd125ee1c41cd35316fdef7f402c
size 495034
