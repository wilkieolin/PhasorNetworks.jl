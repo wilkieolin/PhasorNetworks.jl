{
 "cells": [
  {
   "cell_type": "markdown",
   "id": "2b868107",
   "metadata": {},
   "source": [
    "# Similarity\n",
    "\n",
    "Continuing on from the previous notebooks, we'll now compute the similarity of an HD symbol to another HD symbol via two methods: one, a standard trig-based method, and the other, via the interference of waves! "
   ]
  },
  {
   "cell_type": "code",
   "execution_count": null,
   "id": "4a4b4c37",
   "metadata": {},
   "outputs": [],
   "source": [
    "# todo - setup a symbol and codebook with varying levels of similarity.\n",
    "# sneakily introduce binding\n",
    "# convert these phases to pulses in time!\n",
    "# execute the differential equations\n",
    "# compare results\n",
    "# exercises: error through time\n",
    "#  what affects levels of error?\n",
    "#  how can you make results better / worse?\n",
    "# what if we can selectively control how different phases interfere?\n",
    "# (superposition)\n",
    "# now we have superposition, bundling, binding...\n",
    "# go to final demo notebook for neural network\n"
   ]
  },
  {
   "cell_type": "markdown",
   "id": "ef7db273",
   "metadata": {},
   "source": []
  }
 ],
 "metadata": {
  "kernelspec": {
   "display_name": "Julia 1.11.6",
   "language": "julia",
   "name": "julia-1.11"
  },
  "language_info": {
   "name": "julia"
  }
 },
 "nbformat": 4,
 "nbformat_minor": 5
}
