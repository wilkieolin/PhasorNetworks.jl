{
 "cells": [
  {
   "cell_type": "markdown",
   "id": "8d83fdfc",
   "metadata": {},
   "source": [
    "# A Very Brief Introduction to Julia\n",
    "\n",
    "The code we'll be using during this tutorial session is written in the Julia programming language.\n",
    "\n",
    "To start with: practitioners of Python should feel very at home using Julia! However, there are a couple of things we should note transitioning from one to the other.\n",
    "\n",
    "## First-Class Arrays & Broadcasting\n",
    "\n",
    "Arrays are at the heart of Julia and one of the things which makes it so effective for numerical and scientific programming. Rather than having an external package (such as numpy), vectors, matrices, and higher-order tensors are already included in Julia:"
   ]
  },
  {
   "cell_type": "code",
   "execution_count": 1,
   "id": "37627ea9",
   "metadata": {},
   "outputs": [
    {
     "data": {
      "text/plain": [
       "10×10 Matrix{Float64}:\n",
       " 0.0579918  0.581918  0.420114  0.654877   …  0.373812   0.196795   0.800999\n",
       " 0.753655   0.310191  0.073596  0.753801      0.342779   0.086242   0.500738\n",
       " 0.176387   0.559609  0.41409   0.533366      0.3315     0.308077   0.875666\n",
       " 0.709709   0.547264  0.918492  0.324696      0.282502   0.444697   0.78421\n",
       " 0.85413    0.593954  0.323342  0.536624      0.2805     0.937326   0.967618\n",
       " 0.753546   0.731107  0.242619  0.0648446  …  0.281575   0.792004   0.412094\n",
       " 0.298628   0.933153  0.428059  0.593704      0.160577   0.584107   0.233524\n",
       " 0.149173   0.147204  0.718115  0.146486      0.0361705  0.294617   0.707411\n",
       " 0.914782   0.389011  0.184259  0.466617      0.500356   0.0561108  0.60841\n",
       " 0.727547   0.319435  0.294433  0.48301       0.957561   0.273059   0.0680167"
      ]
     },
     "execution_count": 1,
     "metadata": {},
     "output_type": "execute_result"
    }
   ],
   "source": [
    "n = rand(Float64, (10,10))"
   ]
  },
  {
   "cell_type": "markdown",
   "id": "b1062ef5",
   "metadata": {},
   "source": [
    "This access is complemented by a variety of syntactical conveniences in Julia adapted to dealing with arrays. One of the most convenient is the \"dot\" operator. You can add this to any function running on a scalar (single) value to execute it across the entire array - no looping required!"
   ]
  },
  {
   "cell_type": "code",
   "execution_count": 2,
   "id": "f0fd61c6",
   "metadata": {},
   "outputs": [
    {
     "data": {
      "text/plain": [
       "10×10 Matrix{Float64}:\n",
       " 0.0579918   0.0819184  0.0201142  0.0548771  …  0.0967951   0.000999142\n",
       " 0.0536546   0.0101913  0.073596   0.0538005     0.086242    0.000738379\n",
       " 0.0763867   0.0596085  0.0140904  0.0333656     0.00807684  0.0756656\n",
       " 0.00970905  0.0472636  0.0184921  0.0246962     0.0446974   0.0842097\n",
       " 0.0541302   0.0939542  0.0233424  0.0366238     0.0373262   0.0676176\n",
       " 0.0535462   0.0311071  0.0426191  0.0648446  …  0.0920043   0.0120938\n",
       " 0.0986276   0.0331532  0.028059   0.0937042     0.0841066   0.0335244\n",
       " 0.0491729   0.0472043  0.0181152  0.046486      0.0946167   0.00741136\n",
       " 0.014782    0.0890108  0.0842587  0.0666169     0.0561108   0.00840982\n",
       " 0.027547    0.0194352  0.0944331  0.0830101     0.0730586   0.0680167"
      ]
     },
     "execution_count": 2,
     "metadata": {},
     "output_type": "execute_result"
    }
   ],
   "source": [
    "mod.(n, 0.1)"
   ]
  },
  {
   "cell_type": "markdown",
   "id": "a843f884",
   "metadata": {},
   "source": [
    "Additionally, we should note that arrays in Julia are *one-indexed* for convenience - we aren't writing any manual pointers so this makes fencepost errors and other headaches easier to avoid:"
   ]
  },
  {
   "cell_type": "code",
   "execution_count": 3,
   "id": "4c840e83",
   "metadata": {},
   "outputs": [
    {
     "data": {
      "text/plain": [
       "0.05799179621652606"
      ]
     },
     "execution_count": 3,
     "metadata": {},
     "output_type": "execute_result"
    }
   ],
   "source": [
    "#the first element of the array\n",
    "n[1,1]"
   ]
  },
  {
   "cell_type": "code",
   "execution_count": 4,
   "id": "740bb69f",
   "metadata": {},
   "outputs": [
    {
     "data": {
      "text/plain": [
       "10-element Vector{Float64}:\n",
       " 0.05799179621652606\n",
       " 0.5819183523607491\n",
       " 0.4201141727782013\n",
       " 0.6548771031520618\n",
       " 0.09867351468560848\n",
       " 0.3985519805205292\n",
       " 0.8196648130861316\n",
       " 0.37381201700509525\n",
       " 0.1967951008691432\n",
       " 0.8009991419489778"
      ]
     },
     "execution_count": 4,
     "metadata": {},
     "output_type": "execute_result"
    }
   ],
   "source": [
    "#the first row of the array\n",
    "n[1,1:10]\n",
    "# or, equivalently\n",
    "n[1,:]\n",
    "n[1,1:end]"
   ]
  },
  {
   "cell_type": "markdown",
   "id": "3ef4d8a6",
   "metadata": {},
   "source": [
    "Furthermore, we can see that if we try to call a scalar function like \"mod\" without the dot, it doesn't run:"
   ]
  },
  {
   "cell_type": "code",
   "execution_count": 5,
   "id": "11947991",
   "metadata": {},
   "outputs": [
    {
     "ename": "LoadError",
     "evalue": "MethodError: no method matching mod(::Matrix{Float64}, ::Float64)\nThe function `mod` exists, but no method is defined for this combination of argument types.\n\n\u001b[0mClosest candidates are:\n\u001b[0m  mod(\u001b[91m::Missing\u001b[39m, ::Number)\n\u001b[0m\u001b[90m   @\u001b[39m \u001b[90mBase\u001b[39m \u001b[90m\u001b[4mmissing.jl:123\u001b[24m\u001b[39m\n\u001b[0m  mod(\u001b[91m::T\u001b[39m, ::T) where T<:AbstractFloat\n\u001b[0m\u001b[90m   @\u001b[39m \u001b[90mBase\u001b[39m \u001b[90m\u001b[4mfloat.jl:604\u001b[24m\u001b[39m\n\u001b[0m  mod(\u001b[91m::T\u001b[39m, ::T) where T<:Real\n\u001b[0m\u001b[90m   @\u001b[39m \u001b[90mBase\u001b[39m \u001b[90m\u001b[4mpromotion.jl:644\u001b[24m\u001b[39m\n\u001b[0m  ...\n",
     "output_type": "error",
     "traceback": [
      "MethodError: no method matching mod(::Matrix{Float64}, ::Float64)\nThe function `mod` exists, but no method is defined for this combination of argument types.\n\n\u001b[0mClosest candidates are:\n\u001b[0m  mod(\u001b[91m::Missing\u001b[39m, ::Number)\n\u001b[0m\u001b[90m   @\u001b[39m \u001b[90mBase\u001b[39m \u001b[90m\u001b[4mmissing.jl:123\u001b[24m\u001b[39m\n\u001b[0m  mod(\u001b[91m::T\u001b[39m, ::T) where T<:AbstractFloat\n\u001b[0m\u001b[90m   @\u001b[39m \u001b[90mBase\u001b[39m \u001b[90m\u001b[4mfloat.jl:604\u001b[24m\u001b[39m\n\u001b[0m  mod(\u001b[91m::T\u001b[39m, ::T) where T<:Real\n\u001b[0m\u001b[90m   @\u001b[39m \u001b[90mBase\u001b[39m \u001b[90m\u001b[4mpromotion.jl:644\u001b[24m\u001b[39m\n\u001b[0m  ...\n",
      "",
      "Stacktrace:",
      " [1] top-level scope",
      "\u001b[90m   @\u001b[39m \u001b[90m\u001b[4mIn[5]:1\u001b[24m\u001b[39m"
     ]
    }
   ],
   "source": [
    "mod(n, 0.1)\n"
   ]
  },
  {
   "cell_type": "markdown",
   "id": "759386da",
   "metadata": {},
   "source": [
    "## Dynamic Typing\n",
    "\n",
    "This is because additionally, Julia is dynamically typed. The 'mod' function is written to operate on scalars, not arrays. The dot operator is *required* to broadcast the operation across an array. This can save you work by avoiding rewriting a function for arrays versus scalar inputs!\n",
    "\n",
    "Continuing on the theme of dynamic typing, functions are defined similarly to Python. Types can be added, but are not required for functions to execute. They can be called dynamically or with pre-determined types:"
   ]
  },
  {
   "cell_type": "code",
   "execution_count": 6,
   "id": "676ad0fa",
   "metadata": {},
   "outputs": [
    {
     "data": {
      "text/plain": [
       "my_function (generic function with 1 method)"
      ]
     },
     "execution_count": 6,
     "metadata": {},
     "output_type": "execute_result"
    }
   ],
   "source": [
    "function my_function(a) #we do not need a colon here\n",
    "    return a ^ 2 + 2\n",
    "end # the end of functions, loops, and other \"closed\" code is demarcated nicely\n",
    "    # by \"end\" instead of a \"funtional\" tab. "
   ]
  },
  {
   "cell_type": "markdown",
   "id": "22db8e34",
   "metadata": {},
   "source": [
    "We can write the above function ``my_function`` and execute it on a real value with no problem:"
   ]
  },
  {
   "cell_type": "code",
   "execution_count": 7,
   "id": "5589fafe",
   "metadata": {},
   "outputs": [
    {
     "data": {
      "text/plain": [
       "18"
      ]
     },
     "execution_count": 7,
     "metadata": {},
     "output_type": "execute_result"
    }
   ],
   "source": [
    "my_function(4)"
   ]
  },
  {
   "cell_type": "markdown",
   "id": "364b9c13",
   "metadata": {},
   "source": [
    "Or dispatch it across our array:"
   ]
  },
  {
   "cell_type": "code",
   "execution_count": 8,
   "id": "39da2b60",
   "metadata": {},
   "outputs": [
    {
     "data": {
      "text/plain": [
       "10×10 Matrix{Float64}:\n",
       " 2.00336  2.33863  2.1765   2.42886  …  2.67185  2.13974  2.03873  2.6416\n",
       " 2.568    2.09622  2.00542  2.56822     2.34081  2.1175   2.00744  2.25074\n",
       " 2.03111  2.31316  2.17147  2.28448     2.01099  2.10989  2.09491  2.76679\n",
       " 2.50369  2.2995   2.84363  2.10543     2.16183  2.07981  2.19776  2.61498\n",
       " 2.72954  2.35278  2.10455  2.28797     2.19153  2.07868  2.87858  2.93628\n",
       " 2.56783  2.53452  2.05886  2.0042   …  2.12269  2.07928  2.62727  2.16982\n",
       " 2.08918  2.87077  2.18323  2.35248     2.11534  2.02579  2.34118  2.05453\n",
       " 2.02225  2.02167  2.51569  2.02146     2.37342  2.00131  2.0868   2.50043\n",
       " 2.83683  2.15133  2.03395  2.21773     2.05676  2.25036  2.00315  2.37016\n",
       " 2.52932  2.10204  2.08669  2.2333      2.85412  2.91692  2.07456  2.00463"
      ]
     },
     "execution_count": 8,
     "metadata": {},
     "output_type": "execute_result"
    }
   ],
   "source": [
    "my_function.(n)"
   ]
  },
  {
   "cell_type": "markdown",
   "id": "83036b5c",
   "metadata": {},
   "source": [
    "However, if we call it on a string, it will error, because the underlying operations ``+`` and ``^`` don't know how to handle string inputs:"
   ]
  },
  {
   "cell_type": "code",
   "execution_count": 9,
   "id": "fb120d25",
   "metadata": {},
   "outputs": [
    {
     "ename": "LoadError",
     "evalue": "MethodError: no method matching +(::String, ::Int64)\nThe function `+` exists, but no method is defined for this combination of argument types.\n\n\u001b[0mClosest candidates are:\n\u001b[0m  +(::Any, ::Any, \u001b[91m::Any\u001b[39m, \u001b[91m::Any...\u001b[39m)\n\u001b[0m\u001b[90m   @\u001b[39m \u001b[90mBase\u001b[39m \u001b[90m\u001b[4moperators.jl:596\u001b[24m\u001b[39m\n\u001b[0m  +(\u001b[91m::Complex{Bool}\u001b[39m, ::Real)\n\u001b[0m\u001b[90m   @\u001b[39m \u001b[90mBase\u001b[39m \u001b[90m\u001b[4mcomplex.jl:323\u001b[24m\u001b[39m\n\u001b[0m  +(\u001b[91m::BigInt\u001b[39m, ::Union{Int16, Int32, Int64, Int8})\n\u001b[0m\u001b[90m   @\u001b[39m \u001b[90mBase\u001b[39m \u001b[90m\u001b[4mgmp.jl:550\u001b[24m\u001b[39m\n\u001b[0m  ...\n",
     "output_type": "error",
     "traceback": [
      "MethodError: no method matching +(::String, ::Int64)\nThe function `+` exists, but no method is defined for this combination of argument types.\n\n\u001b[0mClosest candidates are:\n\u001b[0m  +(::Any, ::Any, \u001b[91m::Any\u001b[39m, \u001b[91m::Any...\u001b[39m)\n\u001b[0m\u001b[90m   @\u001b[39m \u001b[90mBase\u001b[39m \u001b[90m\u001b[4moperators.jl:596\u001b[24m\u001b[39m\n\u001b[0m  +(\u001b[91m::Complex{Bool}\u001b[39m, ::Real)\n\u001b[0m\u001b[90m   @\u001b[39m \u001b[90mBase\u001b[39m \u001b[90m\u001b[4mcomplex.jl:323\u001b[24m\u001b[39m\n\u001b[0m  +(\u001b[91m::BigInt\u001b[39m, ::Union{Int16, Int32, Int64, Int8})\n\u001b[0m\u001b[90m   @\u001b[39m \u001b[90mBase\u001b[39m \u001b[90m\u001b[4mgmp.jl:550\u001b[24m\u001b[39m\n\u001b[0m  ...\n",
      "",
      "Stacktrace:",
      " [1] \u001b[0m\u001b[1mmy_function\u001b[22m\u001b[0m\u001b[1m(\u001b[22m\u001b[90ma\u001b[39m::\u001b[0mString\u001b[0m\u001b[1m)\u001b[22m",
      "\u001b[90m   @\u001b[39m \u001b[36mMain\u001b[39m \u001b[90m./\u001b[39m\u001b[90m\u001b[4mIn[6]:2\u001b[24m\u001b[39m",
      " [2] top-level scope",
      "\u001b[90m   @\u001b[39m \u001b[90m\u001b[4mIn[9]:1\u001b[24m\u001b[39m"
     ]
    }
   ],
   "source": [
    "my_function(\"hello\")"
   ]
  },
  {
   "cell_type": "markdown",
   "id": "1042289f",
   "metadata": {},
   "source": [
    "So, we can rewrite our function to only execute on types which make sense for it:"
   ]
  },
  {
   "cell_type": "code",
   "execution_count": 10,
   "id": "3a45e91d",
   "metadata": {},
   "outputs": [
    {
     "data": {
      "text/plain": [
       "my_function_2 (generic function with 1 method)"
      ]
     },
     "execution_count": 10,
     "metadata": {},
     "output_type": "execute_result"
    }
   ],
   "source": [
    "function my_function_2(a::Real)\n",
    "    return a ^ 2 + 2\n",
    "end"
   ]
  },
  {
   "cell_type": "markdown",
   "id": "3f34f27f",
   "metadata": {},
   "source": [
    "Now, it will run on any type of real numerical value (Float16, Int16, Int32...) with no problem, but error out if we call it on a type which doesn't belong to the abstract type \"Real.\" "
   ]
  },
  {
   "cell_type": "code",
   "execution_count": 11,
   "id": "0c74cd5a",
   "metadata": {},
   "outputs": [
    {
     "data": {
      "text/plain": [
       "18.0f0"
      ]
     },
     "execution_count": 11,
     "metadata": {},
     "output_type": "execute_result"
    }
   ],
   "source": [
    "my_function_2(4.0f0)"
   ]
  },
  {
   "cell_type": "code",
   "execution_count": 12,
   "id": "9a8f53c3",
   "metadata": {},
   "outputs": [
    {
     "data": {
      "text/plain": [
       "18"
      ]
     },
     "execution_count": 12,
     "metadata": {},
     "output_type": "execute_result"
    }
   ],
   "source": [
    "my_function_2(Int8(4))"
   ]
  },
  {
   "cell_type": "code",
   "execution_count": 13,
   "id": "a0e35b48",
   "metadata": {},
   "outputs": [
    {
     "ename": "LoadError",
     "evalue": "MethodError: no method matching my_function_2(::String)\nThe function `my_function_2` exists, but no method is defined for this combination of argument types.\n\n\u001b[0mClosest candidates are:\n\u001b[0m  my_function_2(\u001b[91m::Real\u001b[39m)\n\u001b[0m\u001b[90m   @\u001b[39m \u001b[36mMain\u001b[39m \u001b[90m\u001b[4mIn[10]:1\u001b[24m\u001b[39m\n",
     "output_type": "error",
     "traceback": [
      "MethodError: no method matching my_function_2(::String)\nThe function `my_function_2` exists, but no method is defined for this combination of argument types.\n\n\u001b[0mClosest candidates are:\n\u001b[0m  my_function_2(\u001b[91m::Real\u001b[39m)\n\u001b[0m\u001b[90m   @\u001b[39m \u001b[36mMain\u001b[39m \u001b[90m\u001b[4mIn[10]:1\u001b[24m\u001b[39m\n",
      "",
      "Stacktrace:",
      " [1] top-level scope",
      "\u001b[90m   @\u001b[39m \u001b[90m\u001b[4mIn[13]:1\u001b[24m\u001b[39m"
     ]
    }
   ],
   "source": [
    "my_function_2(\"4\")"
   ]
  },
  {
   "cell_type": "markdown",
   "id": "7e7946c7",
   "metadata": {},
   "source": [
    "## Postfix Operators\n",
    "\n",
    "Finally, Julia offers syntax to allow you to write functions in a \"postfix\" fashion - that is, apply them to an input left to right, rather than right to left as we usually do in C-like languages. This can be convenient when you need to gradually chain argument-free operations on one another, and you can add more without having to go back to the beginning of the line. This isn't a major feature, but can be confusing if you don't recognize it and make writing code more convenient. "
   ]
  },
  {
   "cell_type": "code",
   "execution_count": 14,
   "id": "d33b3c87",
   "metadata": {},
   "outputs": [
    {
     "data": {
      "text/plain": [
       "0.6467353350307651"
      ]
     },
     "execution_count": 14,
     "metadata": {},
     "output_type": "execute_result"
    }
   ],
   "source": [
    "2 |> sin |> log1p"
   ]
  },
  {
   "cell_type": "code",
   "execution_count": 15,
   "id": "ab059327",
   "metadata": {},
   "outputs": [
    {
     "data": {
      "text/plain": [
       "0.6467353350307651"
      ]
     },
     "execution_count": 15,
     "metadata": {},
     "output_type": "execute_result"
    }
   ],
   "source": [
    "log1p(sin(2))"
   ]
  },
  {
   "cell_type": "markdown",
   "id": "5c571b73",
   "metadata": {},
   "source": [
    "By adding a dot, you can also add broadcasting:"
   ]
  },
  {
   "cell_type": "code",
   "execution_count": 16,
   "id": "630d63d2",
   "metadata": {},
   "outputs": [
    {
     "data": {
      "text/plain": [
       "10×10 Matrix{Float64}:\n",
       " 0.0563419  0.438015  0.342074   …  0.311277   0.178587   0.541191\n",
       " 0.521355   0.266388  0.0709519     0.28976    0.0826256  0.392092\n",
       " 0.161671   0.425826  0.338155      0.281761   0.264843   0.569832\n",
       " 0.501752   0.418942  0.584831      0.245891   0.357804   0.534307\n",
       " 0.561899   0.444457  0.275916      0.244385   0.591102   0.600778\n",
       " 0.521308   0.511442  0.21531    …  0.245194   0.537524   0.33685\n",
       " 0.2579     0.58973   0.347204      0.148324   0.439193   0.208158\n",
       " 0.138561   0.136865  0.505592      0.0355241  0.254931   0.500696\n",
       " 0.583572   0.321557  0.168238      0.391865   0.0545653  0.452071\n",
       " 0.509849   0.273099  0.254795      0.597622   0.238763   0.0657543"
      ]
     },
     "execution_count": 16,
     "metadata": {},
     "output_type": "execute_result"
    }
   ],
   "source": [
    "n .|> sin .|> log1p"
   ]
  },
  {
   "cell_type": "code",
   "execution_count": 17,
   "id": "50879ebd",
   "metadata": {},
   "outputs": [
    {
     "data": {
      "text/plain": [
       "10×10 Matrix{Float64}:\n",
       " 0.0563419  0.438015  0.342074   …  0.311277   0.178587   0.541191\n",
       " 0.521355   0.266388  0.0709519     0.28976    0.0826256  0.392092\n",
       " 0.161671   0.425826  0.338155      0.281761   0.264843   0.569832\n",
       " 0.501752   0.418942  0.584831      0.245891   0.357804   0.534307\n",
       " 0.561899   0.444457  0.275916      0.244385   0.591102   0.600778\n",
       " 0.521308   0.511442  0.21531    …  0.245194   0.537524   0.33685\n",
       " 0.2579     0.58973   0.347204      0.148324   0.439193   0.208158\n",
       " 0.138561   0.136865  0.505592      0.0355241  0.254931   0.500696\n",
       " 0.583572   0.321557  0.168238      0.391865   0.0545653  0.452071\n",
       " 0.509849   0.273099  0.254795      0.597622   0.238763   0.0657543"
      ]
     },
     "execution_count": 17,
     "metadata": {},
     "output_type": "execute_result"
    }
   ],
   "source": [
    "log1p.(sin.(n))"
   ]
  },
  {
   "cell_type": "markdown",
   "id": "a70fd864",
   "metadata": {},
   "source": [
    "# Exercises\n",
    "\n",
    "Square each element of the array n."
   ]
  },
  {
   "cell_type": "code",
   "execution_count": 18,
   "id": "5ddb42c0",
   "metadata": {},
   "outputs": [
    {
     "data": {
      "text/plain": [
       "10×10 Matrix{Float64}:\n",
       " 0.00336305  0.338629   0.176496    …  0.139735    0.0387283   0.6416\n",
       " 0.567995    0.0962186  0.00541638     0.117498    0.00743768  0.250739\n",
       " 0.0311123   0.313162   0.171471       0.109892    0.0949113   0.76679\n",
       " 0.503687    0.299497   0.843628       0.0798075   0.197756    0.614985\n",
       " 0.729538    0.352782   0.10455        0.0786804   0.87858     0.936284\n",
       " 0.567832    0.534518   0.058864    …  0.0792845   0.627271    0.169821\n",
       " 0.0891784   0.870775   0.183235       0.0257851   0.34118     0.0545336\n",
       " 0.0222526   0.0216691  0.515689       0.00130831  0.086799    0.500431\n",
       " 0.836826    0.151329   0.0339513      0.250356    0.00314842  0.370163\n",
       " 0.529325    0.102039   0.0866909      0.916923    0.074561    0.00462627"
      ]
     },
     "execution_count": 18,
     "metadata": {},
     "output_type": "execute_result"
    }
   ],
   "source": [
    "n .^ 2"
   ]
  },
  {
   "cell_type": "markdown",
   "id": "eb3c3fbf",
   "metadata": {},
   "source": [
    "Square the *array* n - use a matrix-multiply to multiply n by itself. (Hint: you should only need to remove one character from the previous code)"
   ]
  },
  {
   "cell_type": "code",
   "execution_count": 19,
   "id": "5c580840",
   "metadata": {},
   "outputs": [
    {
     "data": {
      "text/plain": [
       "10×10 Matrix{Float64}:\n",
       " 2.42874  2.31006  1.86266  2.01225  …  2.17147  1.69593  1.70906  2.10906\n",
       " 2.72257  2.74241  2.16387  2.24325     2.61108  1.67588  2.44591  3.03508\n",
       " 2.24134  1.68057  1.49212  1.66515     2.01877  1.69887  1.24159  1.93171\n",
       " 2.5044   2.57087  1.88167  2.47712     2.51736  2.08338  1.7247   2.90369\n",
       " 3.76871  3.16543  2.267    3.01077     3.27667  2.63878  2.39896  3.60915\n",
       " 2.86103  2.4058   1.51826  2.52442  …  2.46171  1.82901  1.85374  3.03359\n",
       " 2.26692  1.85891  1.42961  1.99776     1.74812  1.39547  1.11258  2.28347\n",
       " 2.27512  2.2335   1.40796  2.00569     1.77726  1.62944  1.94457  2.32614\n",
       " 2.64768  2.60517  2.02314  2.1394      2.78039  1.79097  2.32797  3.02892\n",
       " 2.29492  2.85842  2.35775  2.14874     2.46963  1.32035  2.29343  3.14146"
      ]
     },
     "execution_count": 19,
     "metadata": {},
     "output_type": "execute_result"
    }
   ],
   "source": [
    "n ^ 2"
   ]
  },
  {
   "cell_type": "markdown",
   "id": "94db044b",
   "metadata": {},
   "source": [
    "Write a function ``bernoulli_map`` which multiplies a single input value by a constant, then takes mod 1 of this value."
   ]
  },
  {
   "cell_type": "code",
   "execution_count": 20,
   "id": "d310af08",
   "metadata": {},
   "outputs": [
    {
     "data": {
      "text/plain": [
       "bernoulli_map (generic function with 2 methods)"
      ]
     },
     "execution_count": 20,
     "metadata": {},
     "output_type": "execute_result"
    }
   ],
   "source": [
    "function bernoulli_map(x::Real, s::Real = 0.3)\n",
    "    return mod(x * s, 1.0)\n",
    "end"
   ]
  },
  {
   "cell_type": "markdown",
   "id": "b48b01e4",
   "metadata": {},
   "source": [
    "Now, dispatch this function over the array n."
   ]
  },
  {
   "cell_type": "code",
   "execution_count": 21,
   "id": "3b0ba7b1",
   "metadata": {},
   "outputs": [
    {
     "data": {
      "text/plain": [
       "10×10 Matrix{Float64}:\n",
       " 0.0173975  0.174576   0.126034   …  0.112144   0.0590385  0.2403\n",
       " 0.226096   0.0930574  0.0220788     0.102834   0.0258726  0.150222\n",
       " 0.052916   0.167883   0.124227      0.0994501  0.0924231  0.2627\n",
       " 0.212913   0.164179   0.275548      0.0847507  0.133409   0.235263\n",
       " 0.256239   0.178186   0.0970027     0.0841501  0.281198   0.290285\n",
       " 0.226064   0.219332   0.0727857  …  0.0844725  0.237601   0.123628\n",
       " 0.0895883  0.279946   0.128418      0.0481732  0.175232   0.0700573\n",
       " 0.0447519  0.0441613  0.215435      0.0108512  0.088385   0.212223\n",
       " 0.274435   0.116703   0.0552776     0.150107   0.0168332  0.182523\n",
       " 0.218264   0.0958305  0.0883299     0.287268   0.0819176  0.020405"
      ]
     },
     "execution_count": 21,
     "metadata": {},
     "output_type": "execute_result"
    }
   ],
   "source": [
    "bernoulli_map.(n)"
   ]
  }
 ],
 "metadata": {
  "kernelspec": {
   "display_name": "Julia 1.11.6",
   "language": "julia",
   "name": "julia-1.11"
  },
  "language_info": {
   "file_extension": ".jl",
   "mimetype": "application/julia",
   "name": "julia",
   "version": "1.11.6"
  }
 },
 "nbformat": 4,
 "nbformat_minor": 5
}
