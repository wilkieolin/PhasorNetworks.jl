{
 "cells": [
  {
   "cell_type": "markdown",
   "id": "8d83fdfc",
   "metadata": {},
   "source": [
    "# A Very Brief Introduction to Julia\n",
    "\n",
    "The code we'll be using during this tutorial session is written in the Julia programming language.\n",
    "Practitioners of Python should feel very at home using Julia, but there are a couple of things we should note transitioning from one to the other.\n",
    "\n",
    "## First-Class Arrays & Broadcasting\n",
    "\n",
    "Arrays are at the heart of Julia and one of the things which makes it so effective for numerical and scientific programming. Rather than having an external package (such as numpy), vectors, matrices, and higher-order tensors are already included in Julia as AbstractArrays:"
   ]
  },
  {
   "cell_type": "code",
   "execution_count": 1,
   "id": "37627ea9",
   "metadata": {},
   "outputs": [
    {
     "data": {
      "text/plain": [
       "10×10 Matrix{Float64}:\n",
       " 0.220368   0.32092   0.143002  0.915099   …  0.55862    0.995849   0.441409\n",
       " 0.900121   0.437399  0.191636  0.0770698     0.074292   0.916875   0.855269\n",
       " 0.415362   0.841318  0.578407  0.0400994     0.810507   0.351992   0.342428\n",
       " 0.240106   0.981953  0.426325  0.858896      0.168264   0.413559   0.647062\n",
       " 0.551854   0.640424  0.139126  0.761247      0.458726   0.789843   0.262713\n",
       " 0.0271508  0.972425  0.852422  0.433504   …  0.132733   0.918984   0.997085\n",
       " 0.0842721  0.134647  0.94987   0.01457       0.768203   0.255309   0.185276\n",
       " 0.822178   0.563475  0.828238  0.61821       0.0929912  0.21783    0.369034\n",
       " 0.617085   0.612747  0.321497  0.249452      0.526788   0.0489117  0.447169\n",
       " 0.426006   0.639285  0.810414  0.223123      0.755224   0.459645   0.444972"
      ]
     },
     "execution_count": 1,
     "metadata": {},
     "output_type": "execute_result"
    }
   ],
   "source": [
    "n = rand(Float64, (10,10))"
   ]
  },
  {
   "cell_type": "markdown",
   "id": "b1062ef5",
   "metadata": {},
   "source": [
    "This access is complemented by a variety of syntactical conveniences in Julia adapted to dealing with arrays. One of the most convenient is the \"dot\" operator. You can add this to any function running on a scalar (single) value to execute it across the entire array - no for loops required!"
   ]
  },
  {
   "cell_type": "code",
   "execution_count": 2,
   "id": "f0fd61c6",
   "metadata": {},
   "outputs": [
    {
     "data": {
      "text/plain": [
       "10×10 Matrix{Float64}:\n",
       " 0.0203681    0.0209205  0.0430022  …  0.0586202  0.0958491  0.0414085\n",
       " 0.000121273  0.037399   0.0916356     0.074292   0.0168747  0.0552689\n",
       " 0.0153617    0.0413175  0.0784071     0.010507   0.0519924  0.042428\n",
       " 0.0401059    0.0819526  0.0263252     0.0682644  0.0135592  0.0470622\n",
       " 0.0518535    0.0404242  0.0391261     0.0587261  0.0898427  0.0627131\n",
       " 0.0271508    0.0724254  0.0524219  …  0.0327329  0.0189841  0.0970851\n",
       " 0.0842721    0.0346474  0.0498699     0.0682025  0.0553088  0.0852756\n",
       " 0.0221779    0.0634745  0.0282376     0.0929912  0.0178304  0.069034\n",
       " 0.0170851    0.0127466  0.0214966     0.026788   0.0489117  0.0471687\n",
       " 0.0260059    0.0392845  0.0104143     0.0552237  0.0596446  0.0449724"
      ]
     },
     "execution_count": 2,
     "metadata": {},
     "output_type": "execute_result"
    }
   ],
   "source": [
    "mod.(n, 0.1)"
   ]
  },
  {
   "cell_type": "markdown",
   "id": "3ef4d8a6",
   "metadata": {},
   "source": [
    "Furthermore, we can see that if we try to call this function without the dot, it doesn't run:"
   ]
  },
  {
   "cell_type": "code",
   "execution_count": 19,
   "id": "11947991",
   "metadata": {},
   "outputs": [
    {
     "ename": "LoadError",
     "evalue": "MethodError: no method matching mod(::Matrix{Float64}, ::Float64)\nThe function `mod` exists, but no method is defined for this combination of argument types.\n\n\u001b[0mClosest candidates are:\n\u001b[0m  mod(\u001b[91m::Missing\u001b[39m, ::Number)\n\u001b[0m\u001b[90m   @\u001b[39m \u001b[90mBase\u001b[39m \u001b[90m\u001b[4mmissing.jl:123\u001b[24m\u001b[39m\n\u001b[0m  mod(\u001b[91m::T\u001b[39m, ::T) where T<:AbstractFloat\n\u001b[0m\u001b[90m   @\u001b[39m \u001b[90mBase\u001b[39m \u001b[90m\u001b[4mfloat.jl:604\u001b[24m\u001b[39m\n\u001b[0m  mod(\u001b[91m::T\u001b[39m, ::T) where T<:Real\n\u001b[0m\u001b[90m   @\u001b[39m \u001b[90mBase\u001b[39m \u001b[90m\u001b[4mpromotion.jl:644\u001b[24m\u001b[39m\n\u001b[0m  ...\n",
     "output_type": "error",
     "traceback": [
      "MethodError: no method matching mod(::Matrix{Float64}, ::Float64)\nThe function `mod` exists, but no method is defined for this combination of argument types.\n\n\u001b[0mClosest candidates are:\n\u001b[0m  mod(\u001b[91m::Missing\u001b[39m, ::Number)\n\u001b[0m\u001b[90m   @\u001b[39m \u001b[90mBase\u001b[39m \u001b[90m\u001b[4mmissing.jl:123\u001b[24m\u001b[39m\n\u001b[0m  mod(\u001b[91m::T\u001b[39m, ::T) where T<:AbstractFloat\n\u001b[0m\u001b[90m   @\u001b[39m \u001b[90mBase\u001b[39m \u001b[90m\u001b[4mfloat.jl:604\u001b[24m\u001b[39m\n\u001b[0m  mod(\u001b[91m::T\u001b[39m, ::T) where T<:Real\n\u001b[0m\u001b[90m   @\u001b[39m \u001b[90mBase\u001b[39m \u001b[90m\u001b[4mpromotion.jl:644\u001b[24m\u001b[39m\n\u001b[0m  ...\n",
      "",
      "Stacktrace:",
      " [1] top-level scope",
      "\u001b[90m   @\u001b[39m \u001b[90m\u001b[4mIn[19]:1\u001b[24m\u001b[39m"
     ]
    }
   ],
   "source": [
    "mod(n, 0.1)\n"
   ]
  },
  {
   "cell_type": "markdown",
   "id": "759386da",
   "metadata": {},
   "source": [
    "## Dynamic Typing\n",
    "\n",
    "This is because additionally, Julia is dynamically typed. The 'mod' function is written to operate on scalars, not arrays. The dot operator is *required* to broadcast the operation across an array. This can save you work by avoiding rewriting a function for arrays versus scalar inputs!\n",
    "\n",
    "Continuing on the theme of dynamic typing, functions are defined similarly to Python. Types can be added, but are not required for functions to execute. They can be called dynamically or with pre-determined types:"
   ]
  },
  {
   "cell_type": "code",
   "execution_count": 9,
   "id": "676ad0fa",
   "metadata": {},
   "outputs": [
    {
     "data": {
      "text/plain": [
       "my_function (generic function with 1 method)"
      ]
     },
     "execution_count": 9,
     "metadata": {},
     "output_type": "execute_result"
    }
   ],
   "source": [
    "function my_function(a) #we do not need a colon here\n",
    "    return a ^ 2 + 2\n",
    "end"
   ]
  },
  {
   "cell_type": "markdown",
   "id": "22db8e34",
   "metadata": {},
   "source": [
    "We can write the above function ``my_function`` and execute it on a real value with no problem:"
   ]
  },
  {
   "cell_type": "code",
   "execution_count": 10,
   "id": "5589fafe",
   "metadata": {},
   "outputs": [
    {
     "data": {
      "text/plain": [
       "18"
      ]
     },
     "execution_count": 10,
     "metadata": {},
     "output_type": "execute_result"
    }
   ],
   "source": [
    "my_function(4)"
   ]
  },
  {
   "cell_type": "markdown",
   "id": "364b9c13",
   "metadata": {},
   "source": [
    "Or dispatch it across our array:"
   ]
  },
  {
   "cell_type": "code",
   "execution_count": 11,
   "id": "39da2b60",
   "metadata": {},
   "outputs": [
    {
     "data": {
      "text/plain": [
       "10×10 Matrix{Float64}:\n",
       " 2.04856  2.10299  2.02045  2.83741  …  2.00752  2.31206  2.99172  2.19484\n",
       " 2.81022  2.19132  2.03672  2.00594     2.37969  2.00552  2.84066  2.73148\n",
       " 2.17253  2.70782  2.33455  2.00161     2.12212  2.65692  2.1239   2.11726\n",
       " 2.05765  2.96423  2.18175  2.7377      2.19647  2.02831  2.17103  2.41869\n",
       " 2.30454  2.41014  2.01936  2.5795      2.12581  2.21043  2.62385  2.06902\n",
       " 2.00074  2.94561  2.72662  2.18793  …  2.21963  2.01762  2.84453  2.99418\n",
       " 2.0071   2.01813  2.90225  2.00021     2.51341  2.59014  2.06518  2.03433\n",
       " 2.67598  2.3175   2.68598  2.38218     2.48668  2.00865  2.04745  2.13619\n",
       " 2.38079  2.37546  2.10336  2.06223     2.14606  2.27751  2.00239  2.19996\n",
       " 2.18148  2.40868  2.65677  2.04978     2.40256  2.57036  2.21127  2.198"
      ]
     },
     "execution_count": 11,
     "metadata": {},
     "output_type": "execute_result"
    }
   ],
   "source": [
    "my_function.(n)"
   ]
  },
  {
   "cell_type": "markdown",
   "id": "83036b5c",
   "metadata": {},
   "source": [
    "However, if we call it on a string, it will error, because the underlying operations ``+`` and ``^`` don't know how to handle string inputs:"
   ]
  },
  {
   "cell_type": "code",
   "execution_count": 12,
   "id": "fb120d25",
   "metadata": {},
   "outputs": [
    {
     "ename": "LoadError",
     "evalue": "MethodError: no method matching +(::String, ::Int64)\nThe function `+` exists, but no method is defined for this combination of argument types.\n\n\u001b[0mClosest candidates are:\n\u001b[0m  +(::Any, ::Any, \u001b[91m::Any\u001b[39m, \u001b[91m::Any...\u001b[39m)\n\u001b[0m\u001b[90m   @\u001b[39m \u001b[90mBase\u001b[39m \u001b[90m\u001b[4moperators.jl:596\u001b[24m\u001b[39m\n\u001b[0m  +(\u001b[91m::Complex{Bool}\u001b[39m, ::Real)\n\u001b[0m\u001b[90m   @\u001b[39m \u001b[90mBase\u001b[39m \u001b[90m\u001b[4mcomplex.jl:323\u001b[24m\u001b[39m\n\u001b[0m  +(\u001b[91m::BigInt\u001b[39m, ::Union{Int16, Int32, Int64, Int8})\n\u001b[0m\u001b[90m   @\u001b[39m \u001b[90mBase\u001b[39m \u001b[90m\u001b[4mgmp.jl:550\u001b[24m\u001b[39m\n\u001b[0m  ...\n",
     "output_type": "error",
     "traceback": [
      "MethodError: no method matching +(::String, ::Int64)\nThe function `+` exists, but no method is defined for this combination of argument types.\n\n\u001b[0mClosest candidates are:\n\u001b[0m  +(::Any, ::Any, \u001b[91m::Any\u001b[39m, \u001b[91m::Any...\u001b[39m)\n\u001b[0m\u001b[90m   @\u001b[39m \u001b[90mBase\u001b[39m \u001b[90m\u001b[4moperators.jl:596\u001b[24m\u001b[39m\n\u001b[0m  +(\u001b[91m::Complex{Bool}\u001b[39m, ::Real)\n\u001b[0m\u001b[90m   @\u001b[39m \u001b[90mBase\u001b[39m \u001b[90m\u001b[4mcomplex.jl:323\u001b[24m\u001b[39m\n\u001b[0m  +(\u001b[91m::BigInt\u001b[39m, ::Union{Int16, Int32, Int64, Int8})\n\u001b[0m\u001b[90m   @\u001b[39m \u001b[90mBase\u001b[39m \u001b[90m\u001b[4mgmp.jl:550\u001b[24m\u001b[39m\n\u001b[0m  ...\n",
      "",
      "Stacktrace:",
      " [1] \u001b[0m\u001b[1mmy_function\u001b[22m\u001b[0m\u001b[1m(\u001b[22m\u001b[90ma\u001b[39m::\u001b[0mString\u001b[0m\u001b[1m)\u001b[22m",
      "\u001b[90m   @\u001b[39m \u001b[36mMain\u001b[39m \u001b[90m./\u001b[39m\u001b[90m\u001b[4mIn[9]:2\u001b[24m\u001b[39m",
      " [2] top-level scope",
      "\u001b[90m   @\u001b[39m \u001b[90m\u001b[4mIn[12]:1\u001b[24m\u001b[39m"
     ]
    }
   ],
   "source": [
    "my_function(\"hello\")"
   ]
  },
  {
   "cell_type": "markdown",
   "id": "1042289f",
   "metadata": {},
   "source": [
    "So, we can rewrite our function to only execute on types which make sense for it:"
   ]
  },
  {
   "cell_type": "code",
   "execution_count": 13,
   "id": "3a45e91d",
   "metadata": {},
   "outputs": [
    {
     "data": {
      "text/plain": [
       "my_function_2 (generic function with 1 method)"
      ]
     },
     "execution_count": 13,
     "metadata": {},
     "output_type": "execute_result"
    }
   ],
   "source": [
    "function my_function_2(a::Real)\n",
    "    return a ^ 2 + 2\n",
    "end"
   ]
  },
  {
   "cell_type": "markdown",
   "id": "3f34f27f",
   "metadata": {},
   "source": [
    "Now, it will run on any type of real numerical value (Float16, Int16, Int32...) with no problem, but error out if we call it on a type which doesn't belong to the abstract type \"Real.\" "
   ]
  },
  {
   "cell_type": "code",
   "execution_count": 14,
   "id": "0c74cd5a",
   "metadata": {},
   "outputs": [
    {
     "data": {
      "text/plain": [
       "18.0f0"
      ]
     },
     "execution_count": 14,
     "metadata": {},
     "output_type": "execute_result"
    }
   ],
   "source": [
    "my_function_2(4.0f0)"
   ]
  },
  {
   "cell_type": "code",
   "execution_count": 15,
   "id": "9a8f53c3",
   "metadata": {},
   "outputs": [
    {
     "data": {
      "text/plain": [
       "18"
      ]
     },
     "execution_count": 15,
     "metadata": {},
     "output_type": "execute_result"
    }
   ],
   "source": [
    "my_function_2(Int8(4))"
   ]
  },
  {
   "cell_type": "code",
   "execution_count": 16,
   "id": "a0e35b48",
   "metadata": {},
   "outputs": [
    {
     "ename": "LoadError",
     "evalue": "MethodError: no method matching my_function_2(::String)\nThe function `my_function_2` exists, but no method is defined for this combination of argument types.\n\n\u001b[0mClosest candidates are:\n\u001b[0m  my_function_2(\u001b[91m::Real\u001b[39m)\n\u001b[0m\u001b[90m   @\u001b[39m \u001b[36mMain\u001b[39m \u001b[90m\u001b[4mIn[13]:1\u001b[24m\u001b[39m\n",
     "output_type": "error",
     "traceback": [
      "MethodError: no method matching my_function_2(::String)\nThe function `my_function_2` exists, but no method is defined for this combination of argument types.\n\n\u001b[0mClosest candidates are:\n\u001b[0m  my_function_2(\u001b[91m::Real\u001b[39m)\n\u001b[0m\u001b[90m   @\u001b[39m \u001b[36mMain\u001b[39m \u001b[90m\u001b[4mIn[13]:1\u001b[24m\u001b[39m\n",
      "",
      "Stacktrace:",
      " [1] top-level scope",
      "\u001b[90m   @\u001b[39m \u001b[90m\u001b[4mIn[16]:1\u001b[24m\u001b[39m"
     ]
    }
   ],
   "source": [
    "my_function_2(\"4\")"
   ]
  },
  {
   "cell_type": "markdown",
   "id": "7e7946c7",
   "metadata": {},
   "source": [
    "## Postfix Operators\n",
    "\n",
    "Finally, Julia offers syntax to allow you to write functions in a \"postfix\" fashion - that is, apply them to an input left to right, rather than right to left as we usually do in C-like languages. This can be convenient when you need to gradually chain argument-free operations on one another, and you can add more without having to go back to the beginning of the line. This isn't a major feature, but can be confusing if you don't recognize it and make writing code more convenient. "
   ]
  },
  {
   "cell_type": "code",
   "execution_count": 20,
   "id": "d33b3c87",
   "metadata": {},
   "outputs": [
    {
     "data": {
      "text/plain": [
       "0.6467353350307651"
      ]
     },
     "execution_count": 20,
     "metadata": {},
     "output_type": "execute_result"
    }
   ],
   "source": [
    "2 |> sin |> log1p"
   ]
  },
  {
   "cell_type": "code",
   "execution_count": 21,
   "id": "ab059327",
   "metadata": {},
   "outputs": [
    {
     "data": {
      "text/plain": [
       "0.6467353350307651"
      ]
     },
     "execution_count": 21,
     "metadata": {},
     "output_type": "execute_result"
    }
   ],
   "source": [
    "log1p(sin(2))"
   ]
  },
  {
   "cell_type": "markdown",
   "id": "5c571b73",
   "metadata": {},
   "source": [
    "By adding a dot, you can also add broadcasting:"
   ]
  },
  {
   "cell_type": "code",
   "execution_count": 22,
   "id": "630d63d2",
   "metadata": {},
   "outputs": [
    {
     "data": {
      "text/plain": [
       "10×10 Matrix{Float64}:\n",
       " 0.197693   0.274171  0.133232  0.58368    …  0.425279   0.609342   0.355724\n",
       " 0.578523   0.353178  0.174344  0.0741734     0.0715982  0.584283   0.562325\n",
       " 0.338984   0.557054  0.436118  0.039306      0.545016   0.296222   0.289512\n",
       " 0.21334    0.605181  0.346089  0.563677      0.15484    0.337808   0.47178\n",
       " 0.421513   0.468462  0.129868  0.524625      0.36659    0.536635   0.230875\n",
       " 0.0267855  0.602267  0.561258  0.350695   …  0.124289   0.584997   0.609707\n",
       " 0.0808169  0.125964  0.59517   0.0144643     0.527591   0.225177   0.169082\n",
       " 0.54964    0.427961  0.55201   0.457157      0.0887956  0.195659   0.30801\n",
       " 0.456577   0.454329  0.274587  0.220639      0.407303   0.0477346  0.359361\n",
       " 0.345883   0.46789   0.544979  0.199896      0.522034   0.367161   0.357977"
      ]
     },
     "execution_count": 22,
     "metadata": {},
     "output_type": "execute_result"
    }
   ],
   "source": [
    "n .|> sin .|> log1p"
   ]
  },
  {
   "cell_type": "code",
   "execution_count": 23,
   "id": "50879ebd",
   "metadata": {},
   "outputs": [
    {
     "data": {
      "text/plain": [
       "10×10 Matrix{Float64}:\n",
       " 0.197693   0.274171  0.133232  0.58368    …  0.425279   0.609342   0.355724\n",
       " 0.578523   0.353178  0.174344  0.0741734     0.0715982  0.584283   0.562325\n",
       " 0.338984   0.557054  0.436118  0.039306      0.545016   0.296222   0.289512\n",
       " 0.21334    0.605181  0.346089  0.563677      0.15484    0.337808   0.47178\n",
       " 0.421513   0.468462  0.129868  0.524625      0.36659    0.536635   0.230875\n",
       " 0.0267855  0.602267  0.561258  0.350695   …  0.124289   0.584997   0.609707\n",
       " 0.0808169  0.125964  0.59517   0.0144643     0.527591   0.225177   0.169082\n",
       " 0.54964    0.427961  0.55201   0.457157      0.0887956  0.195659   0.30801\n",
       " 0.456577   0.454329  0.274587  0.220639      0.407303   0.0477346  0.359361\n",
       " 0.345883   0.46789   0.544979  0.199896      0.522034   0.367161   0.357977"
      ]
     },
     "execution_count": 23,
     "metadata": {},
     "output_type": "execute_result"
    }
   ],
   "source": [
    "log1p.(sin.(n))"
   ]
  }
 ],
 "metadata": {
  "kernelspec": {
   "display_name": "Julia 1.11.6",
   "language": "julia",
   "name": "julia-1.11"
  },
  "language_info": {
   "file_extension": ".jl",
   "mimetype": "application/julia",
   "name": "julia",
   "version": "1.11.6"
  }
 },
 "nbformat": 4,
 "nbformat_minor": 5
}
